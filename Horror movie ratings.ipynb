{
 "cells": [
  {
   "cell_type": "markdown",
   "metadata": {},
   "source": [
    "# Von head() zu .head(): R Code nach Pandas übersetzen"
   ]
  },
  {
   "cell_type": "markdown",
   "metadata": {},
   "source": [
    "Wenn es um die Reinigung und Analyse von Datensätzen geht, wird die Python Programmbibliothek Pandas in Kombination mit Matplotlib oder Seaborn für die Visualisierung oft als Alternative für R gehandelt. Der Vergleich hinkt, handelt es sich bei R doch um eine komplette Programmiersprache, bei Pandas \"nur\" um ein, wenn auch sehr umfangreiches, Modul im großen Ökosystem der Programmiersprache Python. Nicht von der Hand zu weisen ist, dass das von Hadley Wickham für R entwickelte tidyverse, eine Zusammenstellung von R Paketen zur Datenanalyse und Visualisierung, einen großen Einfluss auf die Weiterentwicklung und Benjutzerfreundlichkeit von Pandas ausgeübt hat, gerade was die Prinzipien der Datenreinigung (\"tidy data\") und die einfache und zeitsparende Bedienung (\"method chaining\") angeht. \n",
    "\n",
    "Dieses Tutorial richtet sich besonders an aufgeschlossene Nutzer, die mithilfe konkreten Codes mehr über die Gemeinsamkeiten des tidyverse und Pandas erfahren und mehr über die Übersetzung zwischen beiden Modulen lernen möchten. Als beispielshafter Datensatz soll der aus dem R \"Tidy Tuesday\"-Projekt stammende Datensatz horror movie ratings dienen. Beim Vorgehen in der Datenanalyse orientieren wir uns mit unseren Fragen zu den Daten im Code beispielhaft an einer Koryphäre des tidyverse, David Robinson, der im Rahmen des Tidy Tuesday Videos und Codebeispiele veröffentlicht.\n",
    "\n",
    "https://github.com/rfordatascience/tidytuesday\n",
    "https://www.youtube.com/watch?v=yFRSTlk3kRQ\n"
   ]
  },
  {
   "cell_type": "markdown",
   "metadata": {},
   "source": [
    "## Modulimport und Einlesen des Datensatzes"
   ]
  },
  {
   "cell_type": "markdown",
   "metadata": {},
   "source": [
    "Zunächst importieren wir die notwendigen Module. Werfen wir einen Blick auf den R-Code."
   ]
  },
  {
   "cell_type": "markdown",
   "metadata": {},
   "source": [
    "#R Code\n",
    "\n",
    "```{r}\n",
    "library(tidyverse)\n",
    "\n",
    "horror_movies_raw <- readr::read_csv(\"https://raw.githubusercontent.com/rfordatascience/tidytuesday/master/data/2019/2019-10-22/horror_movies.csv\")\n",
    "```"
   ]
  },
  {
   "cell_type": "markdown",
   "metadata": {},
   "source": [
    "Das Einlesen des Datensatzes geschieht in Pandas ganz ähnlich wie in der R Programmiersprache über eine Variablenzuweisung. Wir lesen den Datensatz über eine Funktion und ordnen dem Ergebnis die Variable ``horror_movie_ratings`` zu. Pandas besitzt die Fähigkeit den ausgewählten Datensatz über eine Webadresse einzulesen. Dabei ist darauf zu achten, bei einer Datensatz auf github immer die sog. \"raw\"-Datei, also den Rohdatensatz zu verlinken. Wir lesen die URL ein und lassen uns gleich die ersten Zeilen des Datensatzes anzeigen."
   ]
  },
  {
   "cell_type": "code",
   "execution_count": 15,
   "metadata": {},
   "outputs": [],
   "source": [
    "import numpy as np\n",
    "import pandas as pd\n",
    "import seaborn as sns\n",
    "import matplotlib.pyplot as plt\n",
    "\n",
    "url = r\"https://raw.githubusercontent.com/rfordatascience/tidytuesday/master/data/2019/2019-10-22/horror_movies.csv\"\n",
    "\n",
    "horror_movies_raw = pd.read_csv(url) #Einlesen des Datensatzes über pd.read_csv()"
   ]
  },
  {
   "cell_type": "markdown",
   "metadata": {},
   "source": [
    "## Ein erster Blick auf den Datenstatz: Die Basics in R und Pandas"
   ]
  },
  {
   "cell_type": "markdown",
   "metadata": {},
   "source": [
    "Eigentlich jede Datenanalyse beginnt mit einem Blick der ersten Zeilen des Datensatzes mithilfe der Funktion ``head``. Die gleichzeitige Ähnlichkeit des R- und Pandas-Codes ist sowohl hilfreich als auch irritierend, schnell neigt der sich in beiden Sprachen sich heimisch fühlende Nutzer zur Verwendung der jeweils anderen Funktion."
   ]
  },
  {
   "cell_type": "markdown",
   "metadata": {},
   "source": [
    "#R Code\n",
    "\n",
    "```{r}\n",
    "head(horror_movies_raw)\n",
    "```"
   ]
  },
  {
   "cell_type": "markdown",
   "metadata": {},
   "source": []
  },
  {
   "cell_type": "code",
   "execution_count": 17,
   "metadata": {},
   "outputs": [
    {
     "data": {
      "text/html": [
       "<div>\n",
       "<style scoped>\n",
       "    .dataframe tbody tr th:only-of-type {\n",
       "        vertical-align: middle;\n",
       "    }\n",
       "\n",
       "    .dataframe tbody tr th {\n",
       "        vertical-align: top;\n",
       "    }\n",
       "\n",
       "    .dataframe thead th {\n",
       "        text-align: right;\n",
       "    }\n",
       "</style>\n",
       "<table border=\"1\" class=\"dataframe\">\n",
       "  <thead>\n",
       "    <tr style=\"text-align: right;\">\n",
       "      <th></th>\n",
       "      <th>title</th>\n",
       "      <th>genres</th>\n",
       "      <th>release_date</th>\n",
       "      <th>release_country</th>\n",
       "      <th>movie_rating</th>\n",
       "      <th>review_rating</th>\n",
       "      <th>movie_run_time</th>\n",
       "      <th>plot</th>\n",
       "      <th>cast</th>\n",
       "      <th>language</th>\n",
       "      <th>filming_locations</th>\n",
       "      <th>budget</th>\n",
       "    </tr>\n",
       "  </thead>\n",
       "  <tbody>\n",
       "    <tr>\n",
       "      <td>0</td>\n",
       "      <td>Gut (2012)</td>\n",
       "      <td>Drama| Horror| Thriller</td>\n",
       "      <td>26-Oct-12</td>\n",
       "      <td>USA</td>\n",
       "      <td>NaN</td>\n",
       "      <td>3.9</td>\n",
       "      <td>91 min</td>\n",
       "      <td>Directed by Elias. With Jason Vail, Nicholas W...</td>\n",
       "      <td>Jason Vail|Nicholas Wilder|Sarah Schoofs|Kirst...</td>\n",
       "      <td>English</td>\n",
       "      <td>New York, USA</td>\n",
       "      <td>NaN</td>\n",
       "    </tr>\n",
       "    <tr>\n",
       "      <td>1</td>\n",
       "      <td>The Haunting of Mia Moss (2017)</td>\n",
       "      <td>Horror</td>\n",
       "      <td>13-Jan-17</td>\n",
       "      <td>USA</td>\n",
       "      <td>NaN</td>\n",
       "      <td>NaN</td>\n",
       "      <td>NaN</td>\n",
       "      <td>Directed by Jake Zelch. With Nicola Fiore, Bri...</td>\n",
       "      <td>Nicola Fiore|Brinke Stevens|Curtis Carnahan|Ja...</td>\n",
       "      <td>English</td>\n",
       "      <td>NaN</td>\n",
       "      <td>$30,000</td>\n",
       "    </tr>\n",
       "    <tr>\n",
       "      <td>2</td>\n",
       "      <td>Sleepwalking (2017)</td>\n",
       "      <td>Horror</td>\n",
       "      <td>21-Oct-17</td>\n",
       "      <td>Canada</td>\n",
       "      <td>NaN</td>\n",
       "      <td>NaN</td>\n",
       "      <td>NaN</td>\n",
       "      <td>Directed by David Briggs. With Alysia Topol, A...</td>\n",
       "      <td>Alysia Topol|Anthony Makela|Kelsi Ashley|Patri...</td>\n",
       "      <td>English</td>\n",
       "      <td>Sudbury, Ontario, Canada</td>\n",
       "      <td>NaN</td>\n",
       "    </tr>\n",
       "    <tr>\n",
       "      <td>3</td>\n",
       "      <td>Treasure Chest of Horrors II (2013)</td>\n",
       "      <td>Comedy| Horror| Thriller</td>\n",
       "      <td>23-Apr-13</td>\n",
       "      <td>USA</td>\n",
       "      <td>NOT RATED</td>\n",
       "      <td>3.7</td>\n",
       "      <td>82 min</td>\n",
       "      <td>Directed by M. Kelley, Shawn C. Phillips, Alex...</td>\n",
       "      <td>Veronica Ricci|Nicholas Adam Clark|James Culle...</td>\n",
       "      <td>English</td>\n",
       "      <td>Baltimore, Maryland, USA</td>\n",
       "      <td>NaN</td>\n",
       "    </tr>\n",
       "    <tr>\n",
       "      <td>4</td>\n",
       "      <td>Infidus (2015)</td>\n",
       "      <td>Crime| Drama| Horror</td>\n",
       "      <td>10-Apr-15</td>\n",
       "      <td>USA</td>\n",
       "      <td>NaN</td>\n",
       "      <td>5.8</td>\n",
       "      <td>80 min</td>\n",
       "      <td>Directed by Giulio De Santi. With Bonini Mino,...</td>\n",
       "      <td>Bonini Mino|Massimo Caratelli|Maurizio Zaffino...</td>\n",
       "      <td>Italian</td>\n",
       "      <td>NaN</td>\n",
       "      <td>NaN</td>\n",
       "    </tr>\n",
       "  </tbody>\n",
       "</table>\n",
       "</div>"
      ],
      "text/plain": [
       "                                 title                    genres release_date  \\\n",
       "0                           Gut (2012)   Drama| Horror| Thriller    26-Oct-12   \n",
       "1      The Haunting of Mia Moss (2017)                    Horror    13-Jan-17   \n",
       "2                  Sleepwalking (2017)                    Horror    21-Oct-17   \n",
       "3  Treasure Chest of Horrors II (2013)  Comedy| Horror| Thriller    23-Apr-13   \n",
       "4                       Infidus (2015)      Crime| Drama| Horror    10-Apr-15   \n",
       "\n",
       "  release_country movie_rating  review_rating movie_run_time  \\\n",
       "0             USA          NaN            3.9         91 min   \n",
       "1             USA          NaN            NaN            NaN   \n",
       "2          Canada          NaN            NaN            NaN   \n",
       "3             USA    NOT RATED            3.7         82 min   \n",
       "4             USA          NaN            5.8         80 min   \n",
       "\n",
       "                                                plot  \\\n",
       "0  Directed by Elias. With Jason Vail, Nicholas W...   \n",
       "1  Directed by Jake Zelch. With Nicola Fiore, Bri...   \n",
       "2  Directed by David Briggs. With Alysia Topol, A...   \n",
       "3  Directed by M. Kelley, Shawn C. Phillips, Alex...   \n",
       "4  Directed by Giulio De Santi. With Bonini Mino,...   \n",
       "\n",
       "                                                cast language  \\\n",
       "0  Jason Vail|Nicholas Wilder|Sarah Schoofs|Kirst...  English   \n",
       "1  Nicola Fiore|Brinke Stevens|Curtis Carnahan|Ja...  English   \n",
       "2  Alysia Topol|Anthony Makela|Kelsi Ashley|Patri...  English   \n",
       "3  Veronica Ricci|Nicholas Adam Clark|James Culle...  English   \n",
       "4  Bonini Mino|Massimo Caratelli|Maurizio Zaffino...  Italian   \n",
       "\n",
       "          filming_locations   budget  \n",
       "0             New York, USA      NaN  \n",
       "1                       NaN  $30,000  \n",
       "2  Sudbury, Ontario, Canada      NaN  \n",
       "3  Baltimore, Maryland, USA      NaN  \n",
       "4                       NaN      NaN  "
      ]
     },
     "execution_count": 17,
     "metadata": {},
     "output_type": "execute_result"
    }
   ],
   "source": [
    "#Python Code\n",
    "\n",
    "horror_movies_raw.head()"
   ]
  },
  {
   "cell_type": "code",
   "execution_count": null,
   "metadata": {},
   "outputs": [],
   "source": []
  },
  {
   "cell_type": "markdown",
   "metadata": {},
   "source": [
    "## Werte sortieren: arrange() und sort_values()\n",
    "\n",
    "**Was ist der bestbewerteste Horrofilm in unserem Datensatz?**"
   ]
  },
  {
   "cell_type": "markdown",
   "metadata": {},
   "source": [
    "#R Code\n",
    "\n",
    "```{r}\n",
    "horror_movies <- horror_movies_raw %>%\n",
    "  arrange(desc(review_rating)) %>%\n",
    "```"
   ]
  },
  {
   "cell_type": "markdown",
   "metadata": {},
   "source": [
    "Um den Film mit der höchsten Bewertung zu erhalten, müssen wir den Datensatz mithilfe der Spalte ``review_rating`` sortieren. R nutzt dazu die Funktion \"arrange\", auff Deutsch anordnen. In Pandas hingegen nutzen wir dazu die Methode ``.sort_vallues``. Über den Parameter ``ascending=bool`` können wir steuern, wie die Werte sortiert werden sollen, in unserem Fall ``ascending=False``, also nach absteigend. "
   ]
  },
  {
   "cell_type": "code",
   "execution_count": 7,
   "metadata": {},
   "outputs": [
    {
     "data": {
      "text/html": [
       "<div>\n",
       "<style scoped>\n",
       "    .dataframe tbody tr th:only-of-type {\n",
       "        vertical-align: middle;\n",
       "    }\n",
       "\n",
       "    .dataframe tbody tr th {\n",
       "        vertical-align: top;\n",
       "    }\n",
       "\n",
       "    .dataframe thead th {\n",
       "        text-align: right;\n",
       "    }\n",
       "</style>\n",
       "<table border=\"1\" class=\"dataframe\">\n",
       "  <thead>\n",
       "    <tr style=\"text-align: right;\">\n",
       "      <th></th>\n",
       "      <th>title</th>\n",
       "      <th>review_rating</th>\n",
       "    </tr>\n",
       "  </thead>\n",
       "  <tbody>\n",
       "    <tr>\n",
       "      <td>2569</td>\n",
       "      <td>Bonehill Road (2017)</td>\n",
       "      <td>9.8</td>\n",
       "    </tr>\n",
       "    <tr>\n",
       "      <td>3314</td>\n",
       "      <td>The Carmilla Movie (2017)</td>\n",
       "      <td>9.6</td>\n",
       "    </tr>\n",
       "    <tr>\n",
       "      <td>1961</td>\n",
       "      <td>The Theta Girl (2017)</td>\n",
       "      <td>9.6</td>\n",
       "    </tr>\n",
       "    <tr>\n",
       "      <td>1980</td>\n",
       "      <td>Flesh of the Void (2017)</td>\n",
       "      <td>9.5</td>\n",
       "    </tr>\n",
       "    <tr>\n",
       "      <td>1855</td>\n",
       "      <td>Hotel Inferno 2: The Cathedral of Pain (2017)</td>\n",
       "      <td>9.5</td>\n",
       "    </tr>\n",
       "    <tr>\n",
       "      <td>...</td>\n",
       "      <td>...</td>\n",
       "      <td>...</td>\n",
       "    </tr>\n",
       "    <tr>\n",
       "      <td>2857</td>\n",
       "      <td>Wildling (2017)</td>\n",
       "      <td>NaN</td>\n",
       "    </tr>\n",
       "    <tr>\n",
       "      <td>2891</td>\n",
       "      <td>Alpha Delta Zatan (2017)</td>\n",
       "      <td>NaN</td>\n",
       "    </tr>\n",
       "    <tr>\n",
       "      <td>2894</td>\n",
       "      <td>Totem (2017)</td>\n",
       "      <td>NaN</td>\n",
       "    </tr>\n",
       "    <tr>\n",
       "      <td>3113</td>\n",
       "      <td>Patient Zero (2017)</td>\n",
       "      <td>NaN</td>\n",
       "    </tr>\n",
       "    <tr>\n",
       "      <td>3260</td>\n",
       "      <td>Buckout Road (2017)</td>\n",
       "      <td>NaN</td>\n",
       "    </tr>\n",
       "  </tbody>\n",
       "</table>\n",
       "<p>3328 rows × 2 columns</p>\n",
       "</div>"
      ],
      "text/plain": [
       "                                              title  review_rating\n",
       "2569                           Bonehill Road (2017)            9.8\n",
       "3314                      The Carmilla Movie (2017)            9.6\n",
       "1961                          The Theta Girl (2017)            9.6\n",
       "1980                       Flesh of the Void (2017)            9.5\n",
       "1855  Hotel Inferno 2: The Cathedral of Pain (2017)            9.5\n",
       "...                                             ...            ...\n",
       "2857                                Wildling (2017)            NaN\n",
       "2891                       Alpha Delta Zatan (2017)            NaN\n",
       "2894                                   Totem (2017)            NaN\n",
       "3113                            Patient Zero (2017)            NaN\n",
       "3260                            Buckout Road (2017)            NaN\n",
       "\n",
       "[3328 rows x 2 columns]"
      ]
     },
     "execution_count": 7,
     "metadata": {},
     "output_type": "execute_result"
    }
   ],
   "source": [
    "#Python Code\n",
    "\n",
    "horror_movies = horror_movies_raw \\                #Dank des XXX läßt sich Python-Code auf mehrere Zeilen verteilen\n",
    "    .sort_values(\"review_rating\", ascending=False)\n",
    "\n",
    "horror_movies[['title', 'review_rating']]          #Anzeigen der Spalten 'title' und 'review_rating'"
   ]
  },
  {
   "cell_type": "markdown",
   "metadata": {},
   "source": [
    "Um den jeweils höchsten Wert einer Spalte abzurufen, stellt Pandas sogar eine noch praktischere Methode ``.idxmax()`` bereit. Der bestbewerteste Film des Datensatze lautet \"Bonehill Road\"."
   ]
  },
  {
   "cell_type": "code",
   "execution_count": 79,
   "metadata": {},
   "outputs": [
    {
     "data": {
      "text/plain": [
       "title                                             Bonehill Road (2017)\n",
       "genres                                                          Horror\n",
       "release_date                                                 27-Oct-17\n",
       "release_country                                                    USA\n",
       "movie_rating                                                       NaN\n",
       "review_rating                                                      9.8\n",
       "movie_run_time                                                     NaN\n",
       "plot                 Directed by Todd Sheets. With Andrew Baltes, C...\n",
       "cast                 Andrew Baltes|Clinton Baysinger|Logan Boese|Aa...\n",
       "language                                                       English\n",
       "filming_locations                                                  NaN\n",
       "budget                                                             NaN\n",
       "Name: 2569, dtype: object"
      ]
     },
     "execution_count": 79,
     "metadata": {},
     "output_type": "execute_result"
    }
   ],
   "source": [
    "horror_movies.loc[horror_movies['review_rating'].idxmax()]"
   ]
  },
  {
   "cell_type": "code",
   "execution_count": null,
   "metadata": {},
   "outputs": [],
   "source": []
  },
  {
   "cell_type": "markdown",
   "metadata": {},
   "source": [
    "## Extraktion von Werten aus Spalten/Zeilen: extract() und str.extract()\n",
    "\n",
    "**Wie lautet die zeitliche Verteilung (Distribution) der Filme?**\n",
    "\n",
    "Aus welchem Jahr stammen die Horror-Filme des Datensatzes? Blicken wir in die erste Zeile."
   ]
  },
  {
   "cell_type": "code",
   "execution_count": 11,
   "metadata": {},
   "outputs": [
    {
     "data": {
      "text/html": [
       "<div>\n",
       "<style scoped>\n",
       "    .dataframe tbody tr th:only-of-type {\n",
       "        vertical-align: middle;\n",
       "    }\n",
       "\n",
       "    .dataframe tbody tr th {\n",
       "        vertical-align: top;\n",
       "    }\n",
       "\n",
       "    .dataframe thead th {\n",
       "        text-align: right;\n",
       "    }\n",
       "</style>\n",
       "<table border=\"1\" class=\"dataframe\">\n",
       "  <thead>\n",
       "    <tr style=\"text-align: right;\">\n",
       "      <th></th>\n",
       "      <th>title</th>\n",
       "      <th>genres</th>\n",
       "      <th>release_date</th>\n",
       "      <th>release_country</th>\n",
       "      <th>movie_rating</th>\n",
       "      <th>review_rating</th>\n",
       "      <th>movie_run_time</th>\n",
       "      <th>plot</th>\n",
       "      <th>cast</th>\n",
       "      <th>language</th>\n",
       "      <th>filming_locations</th>\n",
       "      <th>budget</th>\n",
       "    </tr>\n",
       "  </thead>\n",
       "  <tbody>\n",
       "    <tr>\n",
       "      <td>2569</td>\n",
       "      <td>Bonehill Road (2017)</td>\n",
       "      <td>Horror</td>\n",
       "      <td>27-Oct-17</td>\n",
       "      <td>USA</td>\n",
       "      <td>NaN</td>\n",
       "      <td>9.8</td>\n",
       "      <td>NaN</td>\n",
       "      <td>Directed by Todd Sheets. With Andrew Baltes, C...</td>\n",
       "      <td>Andrew Baltes|Clinton Baysinger|Logan Boese|Aa...</td>\n",
       "      <td>English</td>\n",
       "      <td>NaN</td>\n",
       "      <td>NaN</td>\n",
       "    </tr>\n",
       "  </tbody>\n",
       "</table>\n",
       "</div>"
      ],
      "text/plain": [
       "                     title  genres release_date release_country movie_rating  \\\n",
       "2569  Bonehill Road (2017)  Horror    27-Oct-17             USA          NaN   \n",
       "\n",
       "      review_rating movie_run_time  \\\n",
       "2569            9.8            NaN   \n",
       "\n",
       "                                                   plot  \\\n",
       "2569  Directed by Todd Sheets. With Andrew Baltes, C...   \n",
       "\n",
       "                                                   cast language  \\\n",
       "2569  Andrew Baltes|Clinton Baysinger|Logan Boese|Aa...  English   \n",
       "\n",
       "     filming_locations budget  \n",
       "2569               NaN    NaN  "
      ]
     },
     "execution_count": 11,
     "metadata": {},
     "output_type": "execute_result"
    }
   ],
   "source": [
    "horror_movies.iloc[0:1, :]"
   ]
  },
  {
   "cell_type": "markdown",
   "metadata": {},
   "source": [
    "Schon auf den ersten Blick wird deutlich, dass wir bei der Beantwortung dieser Frage auf ein Problem stoßen: Wie kann man die Jahresverteilung der Filme zeigen, wenn keine eigene Spalte für das Veröffentlichungsdatum besteht? Die Spalte ``release_date`` ist unzuverlässig, . Die Lösung liegt aus der Extration des Jahres aus der Spalte ``title``. Blicken wir auf den R Code."
   ]
  },
  {
   "cell_type": "code",
   "execution_count": null,
   "metadata": {},
   "outputs": [],
   "source": []
  },
  {
   "cell_type": "code",
   "execution_count": null,
   "metadata": {},
   "outputs": [],
   "source": []
  },
  {
   "cell_type": "code",
   "execution_count": 12,
   "metadata": {},
   "outputs": [
    {
     "ename": "SyntaxError",
     "evalue": "invalid syntax (<ipython-input-12-048b132c213d>, line 1)",
     "output_type": "error",
     "traceback": [
      "\u001b[1;36m  File \u001b[1;32m\"<ipython-input-12-048b132c213d>\"\u001b[1;36m, line \u001b[1;32m1\u001b[0m\n\u001b[1;33m    horror_movies_raw.\u001b[0m\n\u001b[1;37m                      ^\u001b[0m\n\u001b[1;31mSyntaxError\u001b[0m\u001b[1;31m:\u001b[0m invalid syntax\n"
     ]
    }
   ],
   "source": [
    "horror_movies_raw.\n",
    "\n",
    "Hier wird es interessant, denn das Erscheinungsjahr ist nicht in einer einzelnen Spalte zu finden, sondern ist ein Teil des Objekt-Typs (hier: string) in der Spalte ``title``, wir bereits in den ersten Einträge der Spalte sehen können."
   ]
  },
  {
   "cell_type": "markdown",
   "metadata": {},
   "source": [
    "\n",
    "\n",
    "```{r}\n",
    "horror_movies <- horror_movies_raw %>%\n",
    "  extract(title, \"year\", \"\\\\((\\\\d\\\\d\\\\d\\\\d)\\\\)$\", remove = FALSE, convert = TRUE)\n",
    "```"
   ]
  },
  {
   "cell_type": "markdown",
   "metadata": {},
   "source": [
    "Um das Jahr aus dem Titel zu extrahieren, existiert in R die Funktion ``extract``. Da es sich bei den Werten in der Spalte ``title`` um strings, also Text handelt, können wir auf Pandas reichhaltiges Arsenal an string-Operationen zurück greifen und mithilfe von regular expressions das Jahr aus dem string extrahieren. "
   ]
  },
  {
   "cell_type": "code",
   "execution_count": 81,
   "metadata": {},
   "outputs": [
    {
     "data": {
      "text/plain": [
       "dtype('O')"
      ]
     },
     "execution_count": 81,
     "metadata": {},
     "output_type": "execute_result"
    }
   ],
   "source": [
    "horror_movies = horror_movies \\\n",
    "    .assign(release_year=lambda x: x['title'].str.extract('\\(\\s*\\+?(-?\\d+)\\s*\\)')) \n",
    "\n",
    "horror_movies.release_year.dtypes"
   ]
  },
  {
   "cell_type": "markdown",
   "metadata": {},
   "source": [
    "Achtung, alles was wir bis jetzt getan haben ist aus der Spalte ``title`` die Jahreswerte zu extrahieren und in der neuen Spalte ``release_year`` zuzuweisen. "
   ]
  },
  {
   "cell_type": "markdown",
   "metadata": {},
   "source": [
    "Es handelt sich noch immer um den Pandas Objekttyp, was ein Sortieren nach Jahr verkompliziert. Um das zu erreichen, müssen wir die Spalte ``release_year`` in ein Datetime-Objekt verwandeln."
   ]
  },
  {
   "cell_type": "code",
   "execution_count": 82,
   "metadata": {},
   "outputs": [
    {
     "data": {
      "text/plain": [
       "dtype('float64')"
      ]
     },
     "execution_count": 82,
     "metadata": {},
     "output_type": "execute_result"
    }
   ],
   "source": [
    "horror_movies = horror_movies \\\n",
    "    .assign(release_year=lambda x: x['title'].str.extract('\\(\\s*\\+?(-?\\d+)\\s*\\)')) \\\n",
    "    .assign(release_year=lambda x: pd.to_numeric(x['release_year']))\n",
    "\n",
    "horror_movies.release_year.dtypes"
   ]
  },
  {
   "cell_type": "code",
   "execution_count": 83,
   "metadata": {},
   "outputs": [
    {
     "data": {
      "text/plain": [
       "array([[<matplotlib.axes._subplots.AxesSubplot object at 0x000000000D462DC8>]],\n",
       "      dtype=object)"
      ]
     },
     "execution_count": 83,
     "metadata": {},
     "output_type": "execute_result"
    },
    {
     "data": {
      "image/png": "[encoded data removed]",
      "text/plain": [
       "<Figure size 432x288 with 1 Axes>"
      ]
     },
     "metadata": {
      "needs_background": "light"
     },
     "output_type": "display_data"
    }
   ],
   "source": [
    "horror_movies.hist(column='release_year', bins=10, range=[2005,2020])"
   ]
  },
  {
   "cell_type": "code",
   "execution_count": 84,
   "metadata": {},
   "outputs": [],
   "source": [
    "horror_movies = horror_movies \\\n",
    "    .assign(release_year=lambda x: x['title'].str.extract('\\(\\s*\\+?(-?\\d+)\\s*\\)')) \\\n",
    "    .assign(release_year=lambda x: pd.to_numeric(x['release_year']))               \\\n",
    "    #.hist(column='release_year', bins=10, range=[2005, 2020])\n"
   ]
  },
  {
   "cell_type": "code",
   "execution_count": 85,
   "metadata": {},
   "outputs": [],
   "source": [
    "#horror_movies.groupby('release_date')['population'].sum().sort_values(ascending=False).plot(kind='bar')"
   ]
  },
  {
   "cell_type": "markdown",
   "metadata": {},
   "source": [
    "**3. Wie viele Genres sind im Datensatz abgebildet?\"**"
   ]
  },
  {
   "cell_type": "code",
   "execution_count": 86,
   "metadata": {},
   "outputs": [
    {
     "data": {
      "text/plain": [
       "Horror                                                  1059\n",
       "Horror| Thriller                                         474\n",
       "Comedy| Horror                                           245\n",
       "Horror| Mystery| Thriller                                172\n",
       "Drama| Horror| Thriller                                  161\n",
       "                                                        ... \n",
       "Comedy| Fantasy| Horror| Mystery                           1\n",
       "Comedy| Drama| Fantasy| Horror| Thriller                   1\n",
       "Drama| Fantasy| Horror| Music| Romance| Thriller           1\n",
       "Horror| Mystery| Thriller| Western                         1\n",
       "Biography| Drama| History| Horror| Mystery| Thriller       1\n",
       "Name: genres, Length: 261, dtype: int64"
      ]
     },
     "execution_count": 86,
     "metadata": {},
     "output_type": "execute_result"
    }
   ],
   "source": [
    "horror_movies['genres'].value_counts()"
   ]
  },
  {
   "cell_type": "code",
   "execution_count": 87,
   "metadata": {},
   "outputs": [
    {
     "data": {
      "text/plain": [
       "English                        2421\n",
       "Spanish                          96\n",
       "Japanese                         77\n",
       "Hindi                            37\n",
       "Filipino|Tagalog                 34\n",
       "                               ... \n",
       "Flemish|French|Dutch              1\n",
       "Mandarin|Japanese                 1\n",
       "Portuguese|Japanese|Guarani       1\n",
       "Italian|Slovenian                 1\n",
       "Vietnamese|English                1\n",
       "Name: language, Length: 187, dtype: int64"
      ]
     },
     "execution_count": 87,
     "metadata": {},
     "output_type": "execute_result"
    }
   ],
   "source": [
    "horror_movies['language'].value_counts()"
   ]
  },
  {
   "cell_type": "code",
   "execution_count": 88,
   "metadata": {},
   "outputs": [
    {
     "data": {
      "text/plain": [
       "$360,000           1\n",
       "£148,000           1\n",
       "AUD 800,000        1\n",
       "BRL 1,500,000      1\n",
       "INR 50,000,000     1\n",
       "CAD 31             1\n",
       "€1,254,470         1\n",
       "$9,500             1\n",
       "£4,500             1\n",
       "€3,500,000         1\n",
       "€850               1\n",
       "£500               1\n",
       "$39,000,000        1\n",
       "AUD 20,000         1\n",
       "$1,300             1\n",
       "$55,000,000        1\n",
       "CNY 32,000,000     1\n",
       "NOK 35,000,000     1\n",
       "INR 100,000,000    1\n",
       "SEK 300,000        1\n",
       "BRL 5,000          1\n",
       "$190,000,000       1\n",
       "£2,500,000         1\n",
       "€14,000,000        1\n",
       "£6,300,000         1\n",
       "$7,500,000         1\n",
       "$2,100,000         1\n",
       "$43,000            1\n",
       "MXN 26,040,000     1\n",
       "AUD 1,300,000      1\n",
       "€50,000            1\n",
       "DKK 2,100,000      1\n",
       "€7,000,000         1\n",
       "CAD 100,000        1\n",
       "$85,000,000        1\n",
       "RUR 107            1\n",
       "$53,000            1\n",
       "$17,000            1\n",
       "MXN 12,500,000     1\n",
       "$97,000,000        1\n",
       "RUR 1,000,000      1\n",
       "£4,000             1\n",
       "€2,800,000         1\n",
       "£65,000            1\n",
       "£316,000           1\n",
       "PHP 26,000,000     1\n",
       "SGD 1,100,000      1\n",
       "CAD 3,000,000      1\n",
       "€8,000,000         1\n",
       "$525,000           1\n",
       "Name: budget, dtype: int64"
      ]
     },
     "execution_count": 88,
     "metadata": {},
     "output_type": "execute_result"
    }
   ],
   "source": [
    "horror_movies['budget'].value_counts().tail(50)"
   ]
  },
  {
   "cell_type": "code",
   "execution_count": 96,
   "metadata": {},
   "outputs": [
    {
     "ename": "AttributeError",
     "evalue": "Can only use .str accessor with string values!",
     "output_type": "error",
     "traceback": [
      "\u001b[1;31m---------------------------------------------------------------------------\u001b[0m",
      "\u001b[1;31mAttributeError\u001b[0m                            Traceback (most recent call last)",
      "\u001b[1;32m<ipython-input-96-ddc5d4f29117>\u001b[0m in \u001b[0;36m<module>\u001b[1;34m\u001b[0m\n\u001b[0;32m      2\u001b[0m     \u001b[1;33m.\u001b[0m\u001b[0massign\u001b[0m\u001b[1;33m(\u001b[0m\u001b[0mrelease_year\u001b[0m\u001b[1;33m=\u001b[0m\u001b[1;32mlambda\u001b[0m \u001b[0mx\u001b[0m\u001b[1;33m:\u001b[0m \u001b[0mx\u001b[0m\u001b[1;33m[\u001b[0m\u001b[1;34m'title'\u001b[0m\u001b[1;33m]\u001b[0m\u001b[1;33m.\u001b[0m\u001b[0mstr\u001b[0m\u001b[1;33m.\u001b[0m\u001b[0mextract\u001b[0m\u001b[1;33m(\u001b[0m\u001b[1;34m'\\(\\s*\\+?(-?\\d+)\\s*\\)'\u001b[0m\u001b[1;33m)\u001b[0m\u001b[1;33m)\u001b[0m\u001b[0;31m \u001b[0m\u001b[0;31m\\\u001b[0m\u001b[1;33m\u001b[0m\u001b[1;33m\u001b[0m\u001b[0m\n\u001b[0;32m      3\u001b[0m     \u001b[1;33m.\u001b[0m\u001b[0massign\u001b[0m\u001b[1;33m(\u001b[0m\u001b[0mrelease_year\u001b[0m\u001b[1;33m=\u001b[0m\u001b[1;32mlambda\u001b[0m \u001b[0mx\u001b[0m\u001b[1;33m:\u001b[0m \u001b[0mpd\u001b[0m\u001b[1;33m.\u001b[0m\u001b[0mto_numeric\u001b[0m\u001b[1;33m(\u001b[0m\u001b[0mx\u001b[0m\u001b[1;33m[\u001b[0m\u001b[1;34m'release_year'\u001b[0m\u001b[1;33m]\u001b[0m\u001b[1;33m)\u001b[0m\u001b[1;33m)\u001b[0m\u001b[0;31m \u001b[0m\u001b[0;31m \u001b[0m\u001b[0;31m \u001b[0m\u001b[0;31m \u001b[0m\u001b[0;31m \u001b[0m\u001b[0;31m \u001b[0m\u001b[0;31m \u001b[0m\u001b[0;31m \u001b[0m\u001b[0;31m \u001b[0m\u001b[0;31m \u001b[0m\u001b[0;31m \u001b[0m\u001b[0;31m \u001b[0m\u001b[0;31m \u001b[0m\u001b[0;31m \u001b[0m\u001b[0;31m \u001b[0m\u001b[0;31m\\\u001b[0m\u001b[1;33m\u001b[0m\u001b[1;33m\u001b[0m\u001b[0m\n\u001b[1;32m----> 4\u001b[1;33m     \u001b[1;33m.\u001b[0m\u001b[0massign\u001b[0m\u001b[1;33m(\u001b[0m\u001b[0mbudget\u001b[0m\u001b[1;33m=\u001b[0m\u001b[1;32mlambda\u001b[0m \u001b[0mx\u001b[0m\u001b[1;33m:\u001b[0m \u001b[0mx\u001b[0m\u001b[1;33m[\u001b[0m\u001b[1;34m'budget'\u001b[0m\u001b[1;33m]\u001b[0m\u001b[1;33m.\u001b[0m\u001b[0mstr\u001b[0m\u001b[1;33m.\u001b[0m\u001b[0msplit\u001b[0m\u001b[1;33m(\u001b[0m\u001b[1;34m'£'\u001b[0m\u001b[1;33m,\u001b[0m\u001b[1;34m' '\u001b[0m\u001b[1;33m)\u001b[0m\u001b[1;33m)\u001b[0m\u001b[1;33m\u001b[0m\u001b[1;33m\u001b[0m\u001b[0m\n\u001b[0m\u001b[0;32m      5\u001b[0m     \u001b[1;31m#.assign(budget=lambda x: pd.to_numeric(x['budget']))\u001b[0m\u001b[1;33m\u001b[0m\u001b[1;33m\u001b[0m\u001b[1;33m\u001b[0m\u001b[0m\n",
      "\u001b[1;32m~\\Anaconda3\\lib\\site-packages\\pandas\\core\\frame.py\u001b[0m in \u001b[0;36massign\u001b[1;34m(self, **kwargs)\u001b[0m\n\u001b[0;32m   3652\u001b[0m         \u001b[1;32mif\u001b[0m \u001b[0mPY36\u001b[0m\u001b[1;33m:\u001b[0m\u001b[1;33m\u001b[0m\u001b[1;33m\u001b[0m\u001b[0m\n\u001b[0;32m   3653\u001b[0m             \u001b[1;32mfor\u001b[0m \u001b[0mk\u001b[0m\u001b[1;33m,\u001b[0m \u001b[0mv\u001b[0m \u001b[1;32min\u001b[0m \u001b[0mkwargs\u001b[0m\u001b[1;33m.\u001b[0m\u001b[0mitems\u001b[0m\u001b[1;33m(\u001b[0m\u001b[1;33m)\u001b[0m\u001b[1;33m:\u001b[0m\u001b[1;33m\u001b[0m\u001b[1;33m\u001b[0m\u001b[0m\n\u001b[1;32m-> 3654\u001b[1;33m                 \u001b[0mdata\u001b[0m\u001b[1;33m[\u001b[0m\u001b[0mk\u001b[0m\u001b[1;33m]\u001b[0m \u001b[1;33m=\u001b[0m \u001b[0mcom\u001b[0m\u001b[1;33m.\u001b[0m\u001b[0mapply_if_callable\u001b[0m\u001b[1;33m(\u001b[0m\u001b[0mv\u001b[0m\u001b[1;33m,\u001b[0m \u001b[0mdata\u001b[0m\u001b[1;33m)\u001b[0m\u001b[1;33m\u001b[0m\u001b[1;33m\u001b[0m\u001b[0m\n\u001b[0m\u001b[0;32m   3655\u001b[0m         \u001b[1;32melse\u001b[0m\u001b[1;33m:\u001b[0m\u001b[1;33m\u001b[0m\u001b[1;33m\u001b[0m\u001b[0m\n\u001b[0;32m   3656\u001b[0m             \u001b[1;31m# <= 3.5: do all calculations first...\u001b[0m\u001b[1;33m\u001b[0m\u001b[1;33m\u001b[0m\u001b[1;33m\u001b[0m\u001b[0m\n",
      "\u001b[1;32m~\\Anaconda3\\lib\\site-packages\\pandas\\core\\common.py\u001b[0m in \u001b[0;36mapply_if_callable\u001b[1;34m(maybe_callable, obj, **kwargs)\u001b[0m\n\u001b[0;32m    363\u001b[0m \u001b[1;33m\u001b[0m\u001b[0m\n\u001b[0;32m    364\u001b[0m     \u001b[1;32mif\u001b[0m \u001b[0mcallable\u001b[0m\u001b[1;33m(\u001b[0m\u001b[0mmaybe_callable\u001b[0m\u001b[1;33m)\u001b[0m\u001b[1;33m:\u001b[0m\u001b[1;33m\u001b[0m\u001b[1;33m\u001b[0m\u001b[0m\n\u001b[1;32m--> 365\u001b[1;33m         \u001b[1;32mreturn\u001b[0m \u001b[0mmaybe_callable\u001b[0m\u001b[1;33m(\u001b[0m\u001b[0mobj\u001b[0m\u001b[1;33m,\u001b[0m \u001b[1;33m**\u001b[0m\u001b[0mkwargs\u001b[0m\u001b[1;33m)\u001b[0m\u001b[1;33m\u001b[0m\u001b[1;33m\u001b[0m\u001b[0m\n\u001b[0m\u001b[0;32m    366\u001b[0m \u001b[1;33m\u001b[0m\u001b[0m\n\u001b[0;32m    367\u001b[0m     \u001b[1;32mreturn\u001b[0m \u001b[0mmaybe_callable\u001b[0m\u001b[1;33m\u001b[0m\u001b[1;33m\u001b[0m\u001b[0m\n",
      "\u001b[1;32m<ipython-input-96-ddc5d4f29117>\u001b[0m in \u001b[0;36m<lambda>\u001b[1;34m(x)\u001b[0m\n\u001b[0;32m      2\u001b[0m     \u001b[1;33m.\u001b[0m\u001b[0massign\u001b[0m\u001b[1;33m(\u001b[0m\u001b[0mrelease_year\u001b[0m\u001b[1;33m=\u001b[0m\u001b[1;32mlambda\u001b[0m \u001b[0mx\u001b[0m\u001b[1;33m:\u001b[0m \u001b[0mx\u001b[0m\u001b[1;33m[\u001b[0m\u001b[1;34m'title'\u001b[0m\u001b[1;33m]\u001b[0m\u001b[1;33m.\u001b[0m\u001b[0mstr\u001b[0m\u001b[1;33m.\u001b[0m\u001b[0mextract\u001b[0m\u001b[1;33m(\u001b[0m\u001b[1;34m'\\(\\s*\\+?(-?\\d+)\\s*\\)'\u001b[0m\u001b[1;33m)\u001b[0m\u001b[1;33m)\u001b[0m\u001b[0;31m \u001b[0m\u001b[0;31m\\\u001b[0m\u001b[1;33m\u001b[0m\u001b[1;33m\u001b[0m\u001b[0m\n\u001b[0;32m      3\u001b[0m     \u001b[1;33m.\u001b[0m\u001b[0massign\u001b[0m\u001b[1;33m(\u001b[0m\u001b[0mrelease_year\u001b[0m\u001b[1;33m=\u001b[0m\u001b[1;32mlambda\u001b[0m \u001b[0mx\u001b[0m\u001b[1;33m:\u001b[0m \u001b[0mpd\u001b[0m\u001b[1;33m.\u001b[0m\u001b[0mto_numeric\u001b[0m\u001b[1;33m(\u001b[0m\u001b[0mx\u001b[0m\u001b[1;33m[\u001b[0m\u001b[1;34m'release_year'\u001b[0m\u001b[1;33m]\u001b[0m\u001b[1;33m)\u001b[0m\u001b[1;33m)\u001b[0m\u001b[0;31m \u001b[0m\u001b[0;31m \u001b[0m\u001b[0;31m \u001b[0m\u001b[0;31m \u001b[0m\u001b[0;31m \u001b[0m\u001b[0;31m \u001b[0m\u001b[0;31m \u001b[0m\u001b[0;31m \u001b[0m\u001b[0;31m \u001b[0m\u001b[0;31m \u001b[0m\u001b[0;31m \u001b[0m\u001b[0;31m \u001b[0m\u001b[0;31m \u001b[0m\u001b[0;31m \u001b[0m\u001b[0;31m \u001b[0m\u001b[0;31m\\\u001b[0m\u001b[1;33m\u001b[0m\u001b[1;33m\u001b[0m\u001b[0m\n\u001b[1;32m----> 4\u001b[1;33m     \u001b[1;33m.\u001b[0m\u001b[0massign\u001b[0m\u001b[1;33m(\u001b[0m\u001b[0mbudget\u001b[0m\u001b[1;33m=\u001b[0m\u001b[1;32mlambda\u001b[0m \u001b[0mx\u001b[0m\u001b[1;33m:\u001b[0m \u001b[0mx\u001b[0m\u001b[1;33m[\u001b[0m\u001b[1;34m'budget'\u001b[0m\u001b[1;33m]\u001b[0m\u001b[1;33m.\u001b[0m\u001b[0mstr\u001b[0m\u001b[1;33m.\u001b[0m\u001b[0msplit\u001b[0m\u001b[1;33m(\u001b[0m\u001b[1;34m'£'\u001b[0m\u001b[1;33m,\u001b[0m\u001b[1;34m' '\u001b[0m\u001b[1;33m)\u001b[0m\u001b[1;33m)\u001b[0m\u001b[1;33m\u001b[0m\u001b[1;33m\u001b[0m\u001b[0m\n\u001b[0m\u001b[0;32m      5\u001b[0m     \u001b[1;31m#.assign(budget=lambda x: pd.to_numeric(x['budget']))\u001b[0m\u001b[1;33m\u001b[0m\u001b[1;33m\u001b[0m\u001b[1;33m\u001b[0m\u001b[0m\n",
      "\u001b[1;32m~\\Anaconda3\\lib\\site-packages\\pandas\\core\\generic.py\u001b[0m in \u001b[0;36m__getattr__\u001b[1;34m(self, name)\u001b[0m\n\u001b[0;32m   5173\u001b[0m             \u001b[1;32mor\u001b[0m \u001b[0mname\u001b[0m \u001b[1;32min\u001b[0m \u001b[0mself\u001b[0m\u001b[1;33m.\u001b[0m\u001b[0m_accessors\u001b[0m\u001b[1;33m\u001b[0m\u001b[1;33m\u001b[0m\u001b[0m\n\u001b[0;32m   5174\u001b[0m         ):\n\u001b[1;32m-> 5175\u001b[1;33m             \u001b[1;32mreturn\u001b[0m \u001b[0mobject\u001b[0m\u001b[1;33m.\u001b[0m\u001b[0m__getattribute__\u001b[0m\u001b[1;33m(\u001b[0m\u001b[0mself\u001b[0m\u001b[1;33m,\u001b[0m \u001b[0mname\u001b[0m\u001b[1;33m)\u001b[0m\u001b[1;33m\u001b[0m\u001b[1;33m\u001b[0m\u001b[0m\n\u001b[0m\u001b[0;32m   5176\u001b[0m         \u001b[1;32melse\u001b[0m\u001b[1;33m:\u001b[0m\u001b[1;33m\u001b[0m\u001b[1;33m\u001b[0m\u001b[0m\n\u001b[0;32m   5177\u001b[0m             \u001b[1;32mif\u001b[0m \u001b[0mself\u001b[0m\u001b[1;33m.\u001b[0m\u001b[0m_info_axis\u001b[0m\u001b[1;33m.\u001b[0m\u001b[0m_can_hold_identifiers_and_holds_name\u001b[0m\u001b[1;33m(\u001b[0m\u001b[0mname\u001b[0m\u001b[1;33m)\u001b[0m\u001b[1;33m:\u001b[0m\u001b[1;33m\u001b[0m\u001b[1;33m\u001b[0m\u001b[0m\n",
      "\u001b[1;32m~\\Anaconda3\\lib\\site-packages\\pandas\\core\\accessor.py\u001b[0m in \u001b[0;36m__get__\u001b[1;34m(self, obj, cls)\u001b[0m\n\u001b[0;32m    173\u001b[0m             \u001b[1;31m# we're accessing the attribute of the class, i.e., Dataset.geo\u001b[0m\u001b[1;33m\u001b[0m\u001b[1;33m\u001b[0m\u001b[1;33m\u001b[0m\u001b[0m\n\u001b[0;32m    174\u001b[0m             \u001b[1;32mreturn\u001b[0m \u001b[0mself\u001b[0m\u001b[1;33m.\u001b[0m\u001b[0m_accessor\u001b[0m\u001b[1;33m\u001b[0m\u001b[1;33m\u001b[0m\u001b[0m\n\u001b[1;32m--> 175\u001b[1;33m         \u001b[0maccessor_obj\u001b[0m \u001b[1;33m=\u001b[0m \u001b[0mself\u001b[0m\u001b[1;33m.\u001b[0m\u001b[0m_accessor\u001b[0m\u001b[1;33m(\u001b[0m\u001b[0mobj\u001b[0m\u001b[1;33m)\u001b[0m\u001b[1;33m\u001b[0m\u001b[1;33m\u001b[0m\u001b[0m\n\u001b[0m\u001b[0;32m    176\u001b[0m         \u001b[1;31m# Replace the property with the accessor object. Inspired by:\u001b[0m\u001b[1;33m\u001b[0m\u001b[1;33m\u001b[0m\u001b[1;33m\u001b[0m\u001b[0m\n\u001b[0;32m    177\u001b[0m         \u001b[1;31m# http://www.pydanny.com/cached-property.html\u001b[0m\u001b[1;33m\u001b[0m\u001b[1;33m\u001b[0m\u001b[1;33m\u001b[0m\u001b[0m\n",
      "\u001b[1;32m~\\Anaconda3\\lib\\site-packages\\pandas\\core\\strings.py\u001b[0m in \u001b[0;36m__init__\u001b[1;34m(self, data)\u001b[0m\n\u001b[0;32m   1915\u001b[0m \u001b[1;33m\u001b[0m\u001b[0m\n\u001b[0;32m   1916\u001b[0m     \u001b[1;32mdef\u001b[0m \u001b[0m__init__\u001b[0m\u001b[1;33m(\u001b[0m\u001b[0mself\u001b[0m\u001b[1;33m,\u001b[0m \u001b[0mdata\u001b[0m\u001b[1;33m)\u001b[0m\u001b[1;33m:\u001b[0m\u001b[1;33m\u001b[0m\u001b[1;33m\u001b[0m\u001b[0m\n\u001b[1;32m-> 1917\u001b[1;33m         \u001b[0mself\u001b[0m\u001b[1;33m.\u001b[0m\u001b[0m_inferred_dtype\u001b[0m \u001b[1;33m=\u001b[0m \u001b[0mself\u001b[0m\u001b[1;33m.\u001b[0m\u001b[0m_validate\u001b[0m\u001b[1;33m(\u001b[0m\u001b[0mdata\u001b[0m\u001b[1;33m)\u001b[0m\u001b[1;33m\u001b[0m\u001b[1;33m\u001b[0m\u001b[0m\n\u001b[0m\u001b[0;32m   1918\u001b[0m         \u001b[0mself\u001b[0m\u001b[1;33m.\u001b[0m\u001b[0m_is_categorical\u001b[0m \u001b[1;33m=\u001b[0m \u001b[0mis_categorical_dtype\u001b[0m\u001b[1;33m(\u001b[0m\u001b[0mdata\u001b[0m\u001b[1;33m)\u001b[0m\u001b[1;33m\u001b[0m\u001b[1;33m\u001b[0m\u001b[0m\n\u001b[0;32m   1919\u001b[0m \u001b[1;33m\u001b[0m\u001b[0m\n",
      "\u001b[1;32m~\\Anaconda3\\lib\\site-packages\\pandas\\core\\strings.py\u001b[0m in \u001b[0;36m_validate\u001b[1;34m(data)\u001b[0m\n\u001b[0;32m   1965\u001b[0m \u001b[1;33m\u001b[0m\u001b[0m\n\u001b[0;32m   1966\u001b[0m         \u001b[1;32mif\u001b[0m \u001b[0minferred_dtype\u001b[0m \u001b[1;32mnot\u001b[0m \u001b[1;32min\u001b[0m \u001b[0mallowed_types\u001b[0m\u001b[1;33m:\u001b[0m\u001b[1;33m\u001b[0m\u001b[1;33m\u001b[0m\u001b[0m\n\u001b[1;32m-> 1967\u001b[1;33m             \u001b[1;32mraise\u001b[0m \u001b[0mAttributeError\u001b[0m\u001b[1;33m(\u001b[0m\u001b[1;34m\"Can only use .str accessor with string \"\u001b[0m \u001b[1;34m\"values!\"\u001b[0m\u001b[1;33m)\u001b[0m\u001b[1;33m\u001b[0m\u001b[1;33m\u001b[0m\u001b[0m\n\u001b[0m\u001b[0;32m   1968\u001b[0m         \u001b[1;32mreturn\u001b[0m \u001b[0minferred_dtype\u001b[0m\u001b[1;33m\u001b[0m\u001b[1;33m\u001b[0m\u001b[0m\n\u001b[0;32m   1969\u001b[0m \u001b[1;33m\u001b[0m\u001b[0m\n",
      "\u001b[1;31mAttributeError\u001b[0m: Can only use .str accessor with string values!"
     ]
    }
   ],
   "source": [
    "horror_movies = horror_movies \\\n",
    "    .assign(release_year=lambda x: x['title'].str.extract('\\(\\s*\\+?(-?\\d+)\\s*\\)')) \\\n",
    "    .assign(release_year=lambda x: pd.to_numeric(x['release_year']))               \\\n",
    "    .assign(budget=lambda x: x['budget'].str.split('£',' '))                      \n",
    "    #.assign(budget=lambda x: pd.to_numeric(x['budget']))"
   ]
  },
  {
   "cell_type": "code",
   "execution_count": 90,
   "metadata": {},
   "outputs": [],
   "source": [
    "horror_movies = horror_movies \\\n",
    "    .assign(release_year=lambda x: x['title'].str.extract('\\(\\s*\\+?(-?\\d+)\\s*\\)')) \\\n",
    "    .assign(release_year=lambda x: pd.to_numeric(x['release_year']))               \\\n",
    "    .assign(budget=lambda x: x['budget'].str.replace(',',''))                      \n",
    "    \n",
    "\n",
    "\n",
    "#.assign(budget=lambda x: x['budget'].dropna().str.extract('(\\d+)').astype(float)) #dropna"
   ]
  },
  {
   "cell_type": "code",
   "execution_count": 93,
   "metadata": {},
   "outputs": [
    {
     "data": {
      "text/plain": [
       "array([13., nan,  9.])"
      ]
     },
     "execution_count": 93,
     "metadata": {},
     "output_type": "execute_result"
    }
   ],
   "source": [
    "ID = pd.to_numeric([\"13\", \"a40\", \"9.0\"], errors='coerce')\n",
    "ID"
   ]
  },
  {
   "cell_type": "code",
   "execution_count": 99,
   "metadata": {},
   "outputs": [
    {
     "data": {
      "text/plain": [
       "['Hello', '>>>', 'World', '!!!!', '2', ']]', 'splitting']"
      ]
     },
     "execution_count": 99,
     "metadata": {},
     "output_type": "execute_result"
    }
   ],
   "source": [
    "import re\n",
    "string = \"Hello>>>World!!!!2]]splitting\"\n",
    "re.split(r'(>+|!+|]+)', string)"
   ]
  },
  {
   "cell_type": "code",
   "execution_count": 102,
   "metadata": {},
   "outputs": [
    {
     "ename": "SyntaxError",
     "evalue": "EOL while scanning string literal (<ipython-input-102-2499c56c58fc>, line 3)",
     "output_type": "error",
     "traceback": [
      "\u001b[1;36m  File \u001b[1;32m\"<ipython-input-102-2499c56c58fc>\"\u001b[1;36m, line \u001b[1;32m3\u001b[0m\n\u001b[1;33m    re.split(r'(\\W+), string))\u001b[0m\n\u001b[1;37m                              ^\u001b[0m\n\u001b[1;31mSyntaxError\u001b[0m\u001b[1;31m:\u001b[0m EOL while scanning string literal\n"
     ]
    }
   ],
   "source": [
    "string = \"RUR 1000000\"     \n",
    "\n",
    "re.split(r'(\\W+), string))"
   ]
  },
  {
   "cell_type": "code",
   "execution_count": 108,
   "metadata": {},
   "outputs": [
    {
     "data": {
      "text/plain": [
       "['', '4000']"
      ]
     },
     "execution_count": 108,
     "metadata": {},
     "output_type": "execute_result"
    }
   ],
   "source": [
    "re.split(r'\\W+', '£4000') #Lösung"
   ]
  },
  {
   "cell_type": "code",
   "execution_count": 109,
   "metadata": {},
   "outputs": [
    {
     "data": {
      "text/plain": [
       "'4000'"
      ]
     },
     "execution_count": 109,
     "metadata": {},
     "output_type": "execute_result"
    }
   ],
   "source": [
    "re.split(r'\\W+', '£4000')[1] #Lösung"
   ]
  },
  {
   "cell_type": "code",
   "execution_count": null,
   "metadata": {},
   "outputs": [],
   "source": []
  },
  {
   "cell_type": "code",
   "execution_count": null,
   "metadata": {},
   "outputs": [],
   "source": []
  },
  {
   "cell_type": "code",
   "execution_count": 98,
   "metadata": {},
   "outputs": [
    {
     "data": {
      "text/plain": [
       "Series([], Name: budget, dtype: int64)"
      ]
     },
     "execution_count": 98,
     "metadata": {},
     "output_type": "execute_result"
    }
   ],
   "source": [
    "horror_movies['budget'].value_counts().head(50)"
   ]
  },
  {
   "cell_type": "code",
   "execution_count": null,
   "metadata": {},
   "outputs": [],
   "source": [
    "j1 = sns.jointplot(data=dataMoviesFull, x='criticRating', y='audienceRating')"
   ]
  },
  {
   "cell_type": "code",
   "execution_count": null,
   "metadata": {},
   "outputs": [],
   "source": [
    "plt.plot(df['date'], df['count'])"
   ]
  },
  {
   "cell_type": "code",
   "execution_count": 184,
   "metadata": {},
   "outputs": [
    {
     "ename": "ValueError",
     "evalue": "view limit minimum 0.5599999999999997 is less than 1 and is an invalid Matplotlib date value. This often happens if you pass a non-datetime value to an axis that has datetime units",
     "output_type": "error",
     "traceback": [
      "\u001b[1;31m---------------------------------------------------------------------------\u001b[0m",
      "\u001b[1;31mValueError\u001b[0m                                Traceback (most recent call last)",
      "\u001b[1;32m<ipython-input-184-7631c874a780>\u001b[0m in \u001b[0;36m<module>\u001b[1;34m\u001b[0m\n\u001b[1;32m----> 1\u001b[1;33m \u001b[0mhorror_movies\u001b[0m\u001b[1;33m.\u001b[0m\u001b[0mplot\u001b[0m\u001b[1;33m.\u001b[0m\u001b[0mhist\u001b[0m\u001b[1;33m(\u001b[0m\u001b[0mby\u001b[0m\u001b[1;33m=\u001b[0m\u001b[1;34m'release_year'\u001b[0m\u001b[1;33m)\u001b[0m\u001b[1;33m\u001b[0m\u001b[1;33m\u001b[0m\u001b[0m\n\u001b[0m",
      "\u001b[1;32m~\\Anaconda3\\lib\\site-packages\\pandas\\plotting\\_core.py\u001b[0m in \u001b[0;36mhist\u001b[1;34m(self, by, bins, **kwargs)\u001b[0m\n\u001b[0;32m   1123\u001b[0m             \u001b[1;33m>>\u001b[0m\u001b[1;33m>\u001b[0m \u001b[0max\u001b[0m \u001b[1;33m=\u001b[0m \u001b[0mdf\u001b[0m\u001b[1;33m.\u001b[0m\u001b[0mplot\u001b[0m\u001b[1;33m.\u001b[0m\u001b[0mhist\u001b[0m\u001b[1;33m(\u001b[0m\u001b[0mbins\u001b[0m\u001b[1;33m=\u001b[0m\u001b[1;36m12\u001b[0m\u001b[1;33m,\u001b[0m \u001b[0malpha\u001b[0m\u001b[1;33m=\u001b[0m\u001b[1;36m0.5\u001b[0m\u001b[1;33m)\u001b[0m\u001b[1;33m\u001b[0m\u001b[1;33m\u001b[0m\u001b[0m\n\u001b[0;32m   1124\u001b[0m         \"\"\"\n\u001b[1;32m-> 1125\u001b[1;33m         \u001b[1;32mreturn\u001b[0m \u001b[0mself\u001b[0m\u001b[1;33m(\u001b[0m\u001b[0mkind\u001b[0m\u001b[1;33m=\u001b[0m\u001b[1;34m\"hist\"\u001b[0m\u001b[1;33m,\u001b[0m \u001b[0mby\u001b[0m\u001b[1;33m=\u001b[0m\u001b[0mby\u001b[0m\u001b[1;33m,\u001b[0m \u001b[0mbins\u001b[0m\u001b[1;33m=\u001b[0m\u001b[0mbins\u001b[0m\u001b[1;33m,\u001b[0m \u001b[1;33m**\u001b[0m\u001b[0mkwargs\u001b[0m\u001b[1;33m)\u001b[0m\u001b[1;33m\u001b[0m\u001b[1;33m\u001b[0m\u001b[0m\n\u001b[0m\u001b[0;32m   1126\u001b[0m \u001b[1;33m\u001b[0m\u001b[0m\n\u001b[0;32m   1127\u001b[0m     \u001b[1;32mdef\u001b[0m \u001b[0mkde\u001b[0m\u001b[1;33m(\u001b[0m\u001b[0mself\u001b[0m\u001b[1;33m,\u001b[0m \u001b[0mbw_method\u001b[0m\u001b[1;33m=\u001b[0m\u001b[1;32mNone\u001b[0m\u001b[1;33m,\u001b[0m \u001b[0mind\u001b[0m\u001b[1;33m=\u001b[0m\u001b[1;32mNone\u001b[0m\u001b[1;33m,\u001b[0m \u001b[1;33m**\u001b[0m\u001b[0mkwargs\u001b[0m\u001b[1;33m)\u001b[0m\u001b[1;33m:\u001b[0m\u001b[1;33m\u001b[0m\u001b[1;33m\u001b[0m\u001b[0m\n",
      "\u001b[1;32m~\\Anaconda3\\lib\\site-packages\\pandas\\plotting\\_core.py\u001b[0m in \u001b[0;36m__call__\u001b[1;34m(self, *args, **kwargs)\u001b[0m\n\u001b[0;32m    792\u001b[0m                     \u001b[0mdata\u001b[0m\u001b[1;33m.\u001b[0m\u001b[0mcolumns\u001b[0m \u001b[1;33m=\u001b[0m \u001b[0mlabel_name\u001b[0m\u001b[1;33m\u001b[0m\u001b[1;33m\u001b[0m\u001b[0m\n\u001b[0;32m    793\u001b[0m \u001b[1;33m\u001b[0m\u001b[0m\n\u001b[1;32m--> 794\u001b[1;33m         \u001b[1;32mreturn\u001b[0m \u001b[0mplot_backend\u001b[0m\u001b[1;33m.\u001b[0m\u001b[0mplot\u001b[0m\u001b[1;33m(\u001b[0m\u001b[0mdata\u001b[0m\u001b[1;33m,\u001b[0m \u001b[0mkind\u001b[0m\u001b[1;33m=\u001b[0m\u001b[0mkind\u001b[0m\u001b[1;33m,\u001b[0m \u001b[1;33m**\u001b[0m\u001b[0mkwargs\u001b[0m\u001b[1;33m)\u001b[0m\u001b[1;33m\u001b[0m\u001b[1;33m\u001b[0m\u001b[0m\n\u001b[0m\u001b[0;32m    795\u001b[0m \u001b[1;33m\u001b[0m\u001b[0m\n\u001b[0;32m    796\u001b[0m     \u001b[1;32mdef\u001b[0m \u001b[0mline\u001b[0m\u001b[1;33m(\u001b[0m\u001b[0mself\u001b[0m\u001b[1;33m,\u001b[0m \u001b[0mx\u001b[0m\u001b[1;33m=\u001b[0m\u001b[1;32mNone\u001b[0m\u001b[1;33m,\u001b[0m \u001b[0my\u001b[0m\u001b[1;33m=\u001b[0m\u001b[1;32mNone\u001b[0m\u001b[1;33m,\u001b[0m \u001b[1;33m**\u001b[0m\u001b[0mkwargs\u001b[0m\u001b[1;33m)\u001b[0m\u001b[1;33m:\u001b[0m\u001b[1;33m\u001b[0m\u001b[1;33m\u001b[0m\u001b[0m\n",
      "\u001b[1;32m~\\Anaconda3\\lib\\site-packages\\pandas\\plotting\\_matplotlib\\__init__.py\u001b[0m in \u001b[0;36mplot\u001b[1;34m(data, kind, **kwargs)\u001b[0m\n\u001b[0;32m     60\u001b[0m             \u001b[0mkwargs\u001b[0m\u001b[1;33m[\u001b[0m\u001b[1;34m\"ax\"\u001b[0m\u001b[1;33m]\u001b[0m \u001b[1;33m=\u001b[0m \u001b[0mgetattr\u001b[0m\u001b[1;33m(\u001b[0m\u001b[0max\u001b[0m\u001b[1;33m,\u001b[0m \u001b[1;34m\"left_ax\"\u001b[0m\u001b[1;33m,\u001b[0m \u001b[0max\u001b[0m\u001b[1;33m)\u001b[0m\u001b[1;33m\u001b[0m\u001b[1;33m\u001b[0m\u001b[0m\n\u001b[0;32m     61\u001b[0m     \u001b[0mplot_obj\u001b[0m \u001b[1;33m=\u001b[0m \u001b[0mPLOT_CLASSES\u001b[0m\u001b[1;33m[\u001b[0m\u001b[0mkind\u001b[0m\u001b[1;33m]\u001b[0m\u001b[1;33m(\u001b[0m\u001b[0mdata\u001b[0m\u001b[1;33m,\u001b[0m \u001b[1;33m**\u001b[0m\u001b[0mkwargs\u001b[0m\u001b[1;33m)\u001b[0m\u001b[1;33m\u001b[0m\u001b[1;33m\u001b[0m\u001b[0m\n\u001b[1;32m---> 62\u001b[1;33m     \u001b[0mplot_obj\u001b[0m\u001b[1;33m.\u001b[0m\u001b[0mgenerate\u001b[0m\u001b[1;33m(\u001b[0m\u001b[1;33m)\u001b[0m\u001b[1;33m\u001b[0m\u001b[1;33m\u001b[0m\u001b[0m\n\u001b[0m\u001b[0;32m     63\u001b[0m     \u001b[0mplot_obj\u001b[0m\u001b[1;33m.\u001b[0m\u001b[0mdraw\u001b[0m\u001b[1;33m(\u001b[0m\u001b[1;33m)\u001b[0m\u001b[1;33m\u001b[0m\u001b[1;33m\u001b[0m\u001b[0m\n\u001b[0;32m     64\u001b[0m     \u001b[1;32mreturn\u001b[0m \u001b[0mplot_obj\u001b[0m\u001b[1;33m.\u001b[0m\u001b[0mresult\u001b[0m\u001b[1;33m\u001b[0m\u001b[1;33m\u001b[0m\u001b[0m\n",
      "\u001b[1;32m~\\Anaconda3\\lib\\site-packages\\pandas\\plotting\\_matplotlib\\core.py\u001b[0m in \u001b[0;36mgenerate\u001b[1;34m(self)\u001b[0m\n\u001b[0;32m    285\u001b[0m \u001b[1;33m\u001b[0m\u001b[0m\n\u001b[0;32m    286\u001b[0m         \u001b[1;32mfor\u001b[0m \u001b[0max\u001b[0m \u001b[1;32min\u001b[0m \u001b[0mself\u001b[0m\u001b[1;33m.\u001b[0m\u001b[0maxes\u001b[0m\u001b[1;33m:\u001b[0m\u001b[1;33m\u001b[0m\u001b[1;33m\u001b[0m\u001b[0m\n\u001b[1;32m--> 287\u001b[1;33m             \u001b[0mself\u001b[0m\u001b[1;33m.\u001b[0m\u001b[0m_post_plot_logic_common\u001b[0m\u001b[1;33m(\u001b[0m\u001b[0max\u001b[0m\u001b[1;33m,\u001b[0m \u001b[0mself\u001b[0m\u001b[1;33m.\u001b[0m\u001b[0mdata\u001b[0m\u001b[1;33m)\u001b[0m\u001b[1;33m\u001b[0m\u001b[1;33m\u001b[0m\u001b[0m\n\u001b[0m\u001b[0;32m    288\u001b[0m             \u001b[0mself\u001b[0m\u001b[1;33m.\u001b[0m\u001b[0m_post_plot_logic\u001b[0m\u001b[1;33m(\u001b[0m\u001b[0max\u001b[0m\u001b[1;33m,\u001b[0m \u001b[0mself\u001b[0m\u001b[1;33m.\u001b[0m\u001b[0mdata\u001b[0m\u001b[1;33m)\u001b[0m\u001b[1;33m\u001b[0m\u001b[1;33m\u001b[0m\u001b[0m\n\u001b[0;32m    289\u001b[0m \u001b[1;33m\u001b[0m\u001b[0m\n",
      "\u001b[1;32m~\\Anaconda3\\lib\\site-packages\\pandas\\plotting\\_matplotlib\\core.py\u001b[0m in \u001b[0;36m_post_plot_logic_common\u001b[1;34m(self, ax, data)\u001b[0m\n\u001b[0;32m    439\u001b[0m \u001b[1;33m\u001b[0m\u001b[0m\n\u001b[0;32m    440\u001b[0m         \u001b[1;32mif\u001b[0m \u001b[0mself\u001b[0m\u001b[1;33m.\u001b[0m\u001b[0morientation\u001b[0m \u001b[1;33m==\u001b[0m \u001b[1;34m\"vertical\"\u001b[0m \u001b[1;32mor\u001b[0m \u001b[0mself\u001b[0m\u001b[1;33m.\u001b[0m\u001b[0morientation\u001b[0m \u001b[1;32mis\u001b[0m \u001b[1;32mNone\u001b[0m\u001b[1;33m:\u001b[0m\u001b[1;33m\u001b[0m\u001b[1;33m\u001b[0m\u001b[0m\n\u001b[1;32m--> 441\u001b[1;33m             \u001b[0mself\u001b[0m\u001b[1;33m.\u001b[0m\u001b[0m_apply_axis_properties\u001b[0m\u001b[1;33m(\u001b[0m\u001b[0max\u001b[0m\u001b[1;33m.\u001b[0m\u001b[0mxaxis\u001b[0m\u001b[1;33m,\u001b[0m \u001b[0mrot\u001b[0m\u001b[1;33m=\u001b[0m\u001b[0mself\u001b[0m\u001b[1;33m.\u001b[0m\u001b[0mrot\u001b[0m\u001b[1;33m,\u001b[0m \u001b[0mfontsize\u001b[0m\u001b[1;33m=\u001b[0m\u001b[0mself\u001b[0m\u001b[1;33m.\u001b[0m\u001b[0mfontsize\u001b[0m\u001b[1;33m)\u001b[0m\u001b[1;33m\u001b[0m\u001b[1;33m\u001b[0m\u001b[0m\n\u001b[0m\u001b[0;32m    442\u001b[0m             \u001b[0mself\u001b[0m\u001b[1;33m.\u001b[0m\u001b[0m_apply_axis_properties\u001b[0m\u001b[1;33m(\u001b[0m\u001b[0max\u001b[0m\u001b[1;33m.\u001b[0m\u001b[0myaxis\u001b[0m\u001b[1;33m,\u001b[0m \u001b[0mfontsize\u001b[0m\u001b[1;33m=\u001b[0m\u001b[0mself\u001b[0m\u001b[1;33m.\u001b[0m\u001b[0mfontsize\u001b[0m\u001b[1;33m)\u001b[0m\u001b[1;33m\u001b[0m\u001b[1;33m\u001b[0m\u001b[0m\n\u001b[0;32m    443\u001b[0m \u001b[1;33m\u001b[0m\u001b[0m\n",
      "\u001b[1;32m~\\Anaconda3\\lib\\site-packages\\pandas\\plotting\\_matplotlib\\core.py\u001b[0m in \u001b[0;36m_apply_axis_properties\u001b[1;34m(self, axis, rot, fontsize)\u001b[0m\n\u001b[0;32m    523\u001b[0m         \u001b[1;32mif\u001b[0m \u001b[0mrot\u001b[0m \u001b[1;32mis\u001b[0m \u001b[1;32mnot\u001b[0m \u001b[1;32mNone\u001b[0m \u001b[1;32mor\u001b[0m \u001b[0mfontsize\u001b[0m \u001b[1;32mis\u001b[0m \u001b[1;32mnot\u001b[0m \u001b[1;32mNone\u001b[0m\u001b[1;33m:\u001b[0m\u001b[1;33m\u001b[0m\u001b[1;33m\u001b[0m\u001b[0m\n\u001b[0;32m    524\u001b[0m             \u001b[1;31m# rot=0 is a valid setting, hence the explicit None check\u001b[0m\u001b[1;33m\u001b[0m\u001b[1;33m\u001b[0m\u001b[1;33m\u001b[0m\u001b[0m\n\u001b[1;32m--> 525\u001b[1;33m             \u001b[0mlabels\u001b[0m \u001b[1;33m=\u001b[0m \u001b[0maxis\u001b[0m\u001b[1;33m.\u001b[0m\u001b[0mget_majorticklabels\u001b[0m\u001b[1;33m(\u001b[0m\u001b[1;33m)\u001b[0m \u001b[1;33m+\u001b[0m \u001b[0maxis\u001b[0m\u001b[1;33m.\u001b[0m\u001b[0mget_minorticklabels\u001b[0m\u001b[1;33m(\u001b[0m\u001b[1;33m)\u001b[0m\u001b[1;33m\u001b[0m\u001b[1;33m\u001b[0m\u001b[0m\n\u001b[0m\u001b[0;32m    526\u001b[0m             \u001b[1;32mfor\u001b[0m \u001b[0mlabel\u001b[0m \u001b[1;32min\u001b[0m \u001b[0mlabels\u001b[0m\u001b[1;33m:\u001b[0m\u001b[1;33m\u001b[0m\u001b[1;33m\u001b[0m\u001b[0m\n\u001b[0;32m    527\u001b[0m                 \u001b[1;32mif\u001b[0m \u001b[0mrot\u001b[0m \u001b[1;32mis\u001b[0m \u001b[1;32mnot\u001b[0m \u001b[1;32mNone\u001b[0m\u001b[1;33m:\u001b[0m\u001b[1;33m\u001b[0m\u001b[1;33m\u001b[0m\u001b[0m\n",
      "\u001b[1;32m~\\Anaconda3\\lib\\site-packages\\matplotlib\\axis.py\u001b[0m in \u001b[0;36mget_majorticklabels\u001b[1;34m(self)\u001b[0m\n\u001b[0;32m   1250\u001b[0m     \u001b[1;32mdef\u001b[0m \u001b[0mget_majorticklabels\u001b[0m\u001b[1;33m(\u001b[0m\u001b[0mself\u001b[0m\u001b[1;33m)\u001b[0m\u001b[1;33m:\u001b[0m\u001b[1;33m\u001b[0m\u001b[1;33m\u001b[0m\u001b[0m\n\u001b[0;32m   1251\u001b[0m         \u001b[1;34m'Return a list of Text instances for the major ticklabels.'\u001b[0m\u001b[1;33m\u001b[0m\u001b[1;33m\u001b[0m\u001b[0m\n\u001b[1;32m-> 1252\u001b[1;33m         \u001b[0mticks\u001b[0m \u001b[1;33m=\u001b[0m \u001b[0mself\u001b[0m\u001b[1;33m.\u001b[0m\u001b[0mget_major_ticks\u001b[0m\u001b[1;33m(\u001b[0m\u001b[1;33m)\u001b[0m\u001b[1;33m\u001b[0m\u001b[1;33m\u001b[0m\u001b[0m\n\u001b[0m\u001b[0;32m   1253\u001b[0m         \u001b[0mlabels1\u001b[0m \u001b[1;33m=\u001b[0m \u001b[1;33m[\u001b[0m\u001b[0mtick\u001b[0m\u001b[1;33m.\u001b[0m\u001b[0mlabel1\u001b[0m \u001b[1;32mfor\u001b[0m \u001b[0mtick\u001b[0m \u001b[1;32min\u001b[0m \u001b[0mticks\u001b[0m \u001b[1;32mif\u001b[0m \u001b[0mtick\u001b[0m\u001b[1;33m.\u001b[0m\u001b[0mlabel1\u001b[0m\u001b[1;33m.\u001b[0m\u001b[0mget_visible\u001b[0m\u001b[1;33m(\u001b[0m\u001b[1;33m)\u001b[0m\u001b[1;33m]\u001b[0m\u001b[1;33m\u001b[0m\u001b[1;33m\u001b[0m\u001b[0m\n\u001b[0;32m   1254\u001b[0m         \u001b[0mlabels2\u001b[0m \u001b[1;33m=\u001b[0m \u001b[1;33m[\u001b[0m\u001b[0mtick\u001b[0m\u001b[1;33m.\u001b[0m\u001b[0mlabel2\u001b[0m \u001b[1;32mfor\u001b[0m \u001b[0mtick\u001b[0m \u001b[1;32min\u001b[0m \u001b[0mticks\u001b[0m \u001b[1;32mif\u001b[0m \u001b[0mtick\u001b[0m\u001b[1;33m.\u001b[0m\u001b[0mlabel2\u001b[0m\u001b[1;33m.\u001b[0m\u001b[0mget_visible\u001b[0m\u001b[1;33m(\u001b[0m\u001b[1;33m)\u001b[0m\u001b[1;33m]\u001b[0m\u001b[1;33m\u001b[0m\u001b[1;33m\u001b[0m\u001b[0m\n",
      "\u001b[1;32m~\\Anaconda3\\lib\\site-packages\\matplotlib\\axis.py\u001b[0m in \u001b[0;36mget_major_ticks\u001b[1;34m(self, numticks)\u001b[0m\n\u001b[0;32m   1405\u001b[0m         \u001b[1;34m'Get the tick instances; grow as necessary.'\u001b[0m\u001b[1;33m\u001b[0m\u001b[1;33m\u001b[0m\u001b[0m\n\u001b[0;32m   1406\u001b[0m         \u001b[1;32mif\u001b[0m \u001b[0mnumticks\u001b[0m \u001b[1;32mis\u001b[0m \u001b[1;32mNone\u001b[0m\u001b[1;33m:\u001b[0m\u001b[1;33m\u001b[0m\u001b[1;33m\u001b[0m\u001b[0m\n\u001b[1;32m-> 1407\u001b[1;33m             \u001b[0mnumticks\u001b[0m \u001b[1;33m=\u001b[0m \u001b[0mlen\u001b[0m\u001b[1;33m(\u001b[0m\u001b[0mself\u001b[0m\u001b[1;33m.\u001b[0m\u001b[0mget_majorticklocs\u001b[0m\u001b[1;33m(\u001b[0m\u001b[1;33m)\u001b[0m\u001b[1;33m)\u001b[0m\u001b[1;33m\u001b[0m\u001b[1;33m\u001b[0m\u001b[0m\n\u001b[0m\u001b[0;32m   1408\u001b[0m \u001b[1;33m\u001b[0m\u001b[0m\n\u001b[0;32m   1409\u001b[0m         \u001b[1;32mwhile\u001b[0m \u001b[0mlen\u001b[0m\u001b[1;33m(\u001b[0m\u001b[0mself\u001b[0m\u001b[1;33m.\u001b[0m\u001b[0mmajorTicks\u001b[0m\u001b[1;33m)\u001b[0m \u001b[1;33m<\u001b[0m \u001b[0mnumticks\u001b[0m\u001b[1;33m:\u001b[0m\u001b[1;33m\u001b[0m\u001b[1;33m\u001b[0m\u001b[0m\n",
      "\u001b[1;32m~\\Anaconda3\\lib\\site-packages\\matplotlib\\axis.py\u001b[0m in \u001b[0;36mget_majorticklocs\u001b[1;34m(self)\u001b[0m\n\u001b[0;32m   1322\u001b[0m     \u001b[1;32mdef\u001b[0m \u001b[0mget_majorticklocs\u001b[0m\u001b[1;33m(\u001b[0m\u001b[0mself\u001b[0m\u001b[1;33m)\u001b[0m\u001b[1;33m:\u001b[0m\u001b[1;33m\u001b[0m\u001b[1;33m\u001b[0m\u001b[0m\n\u001b[0;32m   1323\u001b[0m         \u001b[1;34m\"\"\"Get the array of major tick locations in data coordinates.\"\"\"\u001b[0m\u001b[1;33m\u001b[0m\u001b[1;33m\u001b[0m\u001b[0m\n\u001b[1;32m-> 1324\u001b[1;33m         \u001b[1;32mreturn\u001b[0m \u001b[0mself\u001b[0m\u001b[1;33m.\u001b[0m\u001b[0mmajor\u001b[0m\u001b[1;33m.\u001b[0m\u001b[0mlocator\u001b[0m\u001b[1;33m(\u001b[0m\u001b[1;33m)\u001b[0m\u001b[1;33m\u001b[0m\u001b[1;33m\u001b[0m\u001b[0m\n\u001b[0m\u001b[0;32m   1325\u001b[0m \u001b[1;33m\u001b[0m\u001b[0m\n\u001b[0;32m   1326\u001b[0m     \u001b[1;32mdef\u001b[0m \u001b[0mget_minorticklocs\u001b[0m\u001b[1;33m(\u001b[0m\u001b[0mself\u001b[0m\u001b[1;33m)\u001b[0m\u001b[1;33m:\u001b[0m\u001b[1;33m\u001b[0m\u001b[1;33m\u001b[0m\u001b[0m\n",
      "\u001b[1;32m~\\Anaconda3\\lib\\site-packages\\matplotlib\\dates.py\u001b[0m in \u001b[0;36m__call__\u001b[1;34m(self)\u001b[0m\n\u001b[0;32m   1429\u001b[0m     \u001b[1;32mdef\u001b[0m \u001b[0m__call__\u001b[0m\u001b[1;33m(\u001b[0m\u001b[0mself\u001b[0m\u001b[1;33m)\u001b[0m\u001b[1;33m:\u001b[0m\u001b[1;33m\u001b[0m\u001b[1;33m\u001b[0m\u001b[0m\n\u001b[0;32m   1430\u001b[0m         \u001b[1;34m'Return the locations of the ticks'\u001b[0m\u001b[1;33m\u001b[0m\u001b[1;33m\u001b[0m\u001b[0m\n\u001b[1;32m-> 1431\u001b[1;33m         \u001b[0mself\u001b[0m\u001b[1;33m.\u001b[0m\u001b[0mrefresh\u001b[0m\u001b[1;33m(\u001b[0m\u001b[1;33m)\u001b[0m\u001b[1;33m\u001b[0m\u001b[1;33m\u001b[0m\u001b[0m\n\u001b[0m\u001b[0;32m   1432\u001b[0m         \u001b[1;32mreturn\u001b[0m \u001b[0mself\u001b[0m\u001b[1;33m.\u001b[0m\u001b[0m_locator\u001b[0m\u001b[1;33m(\u001b[0m\u001b[1;33m)\u001b[0m\u001b[1;33m\u001b[0m\u001b[1;33m\u001b[0m\u001b[0m\n\u001b[0;32m   1433\u001b[0m \u001b[1;33m\u001b[0m\u001b[0m\n",
      "\u001b[1;32m~\\Anaconda3\\lib\\site-packages\\matplotlib\\dates.py\u001b[0m in \u001b[0;36mrefresh\u001b[1;34m(self)\u001b[0m\n\u001b[0;32m   1449\u001b[0m     \u001b[1;32mdef\u001b[0m \u001b[0mrefresh\u001b[0m\u001b[1;33m(\u001b[0m\u001b[0mself\u001b[0m\u001b[1;33m)\u001b[0m\u001b[1;33m:\u001b[0m\u001b[1;33m\u001b[0m\u001b[1;33m\u001b[0m\u001b[0m\n\u001b[0;32m   1450\u001b[0m         \u001b[1;34m'Refresh internal information based on current limits.'\u001b[0m\u001b[1;33m\u001b[0m\u001b[1;33m\u001b[0m\u001b[0m\n\u001b[1;32m-> 1451\u001b[1;33m         \u001b[0mdmin\u001b[0m\u001b[1;33m,\u001b[0m \u001b[0mdmax\u001b[0m \u001b[1;33m=\u001b[0m \u001b[0mself\u001b[0m\u001b[1;33m.\u001b[0m\u001b[0mviewlim_to_dt\u001b[0m\u001b[1;33m(\u001b[0m\u001b[1;33m)\u001b[0m\u001b[1;33m\u001b[0m\u001b[1;33m\u001b[0m\u001b[0m\n\u001b[0m\u001b[0;32m   1452\u001b[0m         \u001b[0mself\u001b[0m\u001b[1;33m.\u001b[0m\u001b[0m_locator\u001b[0m \u001b[1;33m=\u001b[0m \u001b[0mself\u001b[0m\u001b[1;33m.\u001b[0m\u001b[0mget_locator\u001b[0m\u001b[1;33m(\u001b[0m\u001b[0mdmin\u001b[0m\u001b[1;33m,\u001b[0m \u001b[0mdmax\u001b[0m\u001b[1;33m)\u001b[0m\u001b[1;33m\u001b[0m\u001b[1;33m\u001b[0m\u001b[0m\n\u001b[0;32m   1453\u001b[0m \u001b[1;33m\u001b[0m\u001b[0m\n",
      "\u001b[1;32m~\\Anaconda3\\lib\\site-packages\\matplotlib\\dates.py\u001b[0m in \u001b[0;36mviewlim_to_dt\u001b[1;34m(self)\u001b[0m\n\u001b[0;32m   1200\u001b[0m                              \u001b[1;34m'often happens if you pass a non-datetime '\u001b[0m\u001b[1;33m\u001b[0m\u001b[1;33m\u001b[0m\u001b[0m\n\u001b[0;32m   1201\u001b[0m                              \u001b[1;34m'value to an axis that has datetime units'\u001b[0m\u001b[1;33m\u001b[0m\u001b[1;33m\u001b[0m\u001b[0m\n\u001b[1;32m-> 1202\u001b[1;33m                              .format(vmin))\n\u001b[0m\u001b[0;32m   1203\u001b[0m         \u001b[1;32mreturn\u001b[0m \u001b[0mnum2date\u001b[0m\u001b[1;33m(\u001b[0m\u001b[0mvmin\u001b[0m\u001b[1;33m,\u001b[0m \u001b[0mself\u001b[0m\u001b[1;33m.\u001b[0m\u001b[0mtz\u001b[0m\u001b[1;33m)\u001b[0m\u001b[1;33m,\u001b[0m \u001b[0mnum2date\u001b[0m\u001b[1;33m(\u001b[0m\u001b[0mvmax\u001b[0m\u001b[1;33m,\u001b[0m \u001b[0mself\u001b[0m\u001b[1;33m.\u001b[0m\u001b[0mtz\u001b[0m\u001b[1;33m)\u001b[0m\u001b[1;33m\u001b[0m\u001b[1;33m\u001b[0m\u001b[0m\n\u001b[0;32m   1204\u001b[0m \u001b[1;33m\u001b[0m\u001b[0m\n",
      "\u001b[1;31mValueError\u001b[0m: view limit minimum 0.5599999999999997 is less than 1 and is an invalid Matplotlib date value. This often happens if you pass a non-datetime value to an axis that has datetime units"
     ]
    },
    {
     "name": "stdout",
     "output_type": "stream",
     "text": [
      "Error in callback <function install_repl_displayhook.<locals>.post_execute at 0x000000000A06E828> (for post_execute):\n"
     ]
    },
    {
     "ename": "ValueError",
     "evalue": "view limit minimum 0.5599999999999997 is less than 1 and is an invalid Matplotlib date value. This often happens if you pass a non-datetime value to an axis that has datetime units",
     "output_type": "error",
     "traceback": [
      "\u001b[1;31m---------------------------------------------------------------------------\u001b[0m",
      "\u001b[1;31mValueError\u001b[0m                                Traceback (most recent call last)",
      "\u001b[1;32m~\\Anaconda3\\lib\\site-packages\\matplotlib\\pyplot.py\u001b[0m in \u001b[0;36mpost_execute\u001b[1;34m()\u001b[0m\n\u001b[0;32m    107\u001b[0m             \u001b[1;32mdef\u001b[0m \u001b[0mpost_execute\u001b[0m\u001b[1;33m(\u001b[0m\u001b[1;33m)\u001b[0m\u001b[1;33m:\u001b[0m\u001b[1;33m\u001b[0m\u001b[1;33m\u001b[0m\u001b[0m\n\u001b[0;32m    108\u001b[0m                 \u001b[1;32mif\u001b[0m \u001b[0mmatplotlib\u001b[0m\u001b[1;33m.\u001b[0m\u001b[0mis_interactive\u001b[0m\u001b[1;33m(\u001b[0m\u001b[1;33m)\u001b[0m\u001b[1;33m:\u001b[0m\u001b[1;33m\u001b[0m\u001b[1;33m\u001b[0m\u001b[0m\n\u001b[1;32m--> 109\u001b[1;33m                     \u001b[0mdraw_all\u001b[0m\u001b[1;33m(\u001b[0m\u001b[1;33m)\u001b[0m\u001b[1;33m\u001b[0m\u001b[1;33m\u001b[0m\u001b[0m\n\u001b[0m\u001b[0;32m    110\u001b[0m \u001b[1;33m\u001b[0m\u001b[0m\n\u001b[0;32m    111\u001b[0m             \u001b[1;31m# IPython >= 2\u001b[0m\u001b[1;33m\u001b[0m\u001b[1;33m\u001b[0m\u001b[1;33m\u001b[0m\u001b[0m\n",
      "\u001b[1;32m~\\Anaconda3\\lib\\site-packages\\matplotlib\\_pylab_helpers.py\u001b[0m in \u001b[0;36mdraw_all\u001b[1;34m(cls, force)\u001b[0m\n\u001b[0;32m    126\u001b[0m         \u001b[1;32mfor\u001b[0m \u001b[0mf_mgr\u001b[0m \u001b[1;32min\u001b[0m \u001b[0mcls\u001b[0m\u001b[1;33m.\u001b[0m\u001b[0mget_all_fig_managers\u001b[0m\u001b[1;33m(\u001b[0m\u001b[1;33m)\u001b[0m\u001b[1;33m:\u001b[0m\u001b[1;33m\u001b[0m\u001b[1;33m\u001b[0m\u001b[0m\n\u001b[0;32m    127\u001b[0m             \u001b[1;32mif\u001b[0m \u001b[0mforce\u001b[0m \u001b[1;32mor\u001b[0m \u001b[0mf_mgr\u001b[0m\u001b[1;33m.\u001b[0m\u001b[0mcanvas\u001b[0m\u001b[1;33m.\u001b[0m\u001b[0mfigure\u001b[0m\u001b[1;33m.\u001b[0m\u001b[0mstale\u001b[0m\u001b[1;33m:\u001b[0m\u001b[1;33m\u001b[0m\u001b[1;33m\u001b[0m\u001b[0m\n\u001b[1;32m--> 128\u001b[1;33m                 \u001b[0mf_mgr\u001b[0m\u001b[1;33m.\u001b[0m\u001b[0mcanvas\u001b[0m\u001b[1;33m.\u001b[0m\u001b[0mdraw_idle\u001b[0m\u001b[1;33m(\u001b[0m\u001b[1;33m)\u001b[0m\u001b[1;33m\u001b[0m\u001b[1;33m\u001b[0m\u001b[0m\n\u001b[0m\u001b[0;32m    129\u001b[0m \u001b[1;33m\u001b[0m\u001b[0m\n\u001b[0;32m    130\u001b[0m \u001b[0matexit\u001b[0m\u001b[1;33m.\u001b[0m\u001b[0mregister\u001b[0m\u001b[1;33m(\u001b[0m\u001b[0mGcf\u001b[0m\u001b[1;33m.\u001b[0m\u001b[0mdestroy_all\u001b[0m\u001b[1;33m)\u001b[0m\u001b[1;33m\u001b[0m\u001b[1;33m\u001b[0m\u001b[0m\n",
      "\u001b[1;32m~\\Anaconda3\\lib\\site-packages\\matplotlib\\backend_bases.py\u001b[0m in \u001b[0;36mdraw_idle\u001b[1;34m(self, *args, **kwargs)\u001b[0m\n\u001b[0;32m   1905\u001b[0m         \u001b[1;32mif\u001b[0m \u001b[1;32mnot\u001b[0m \u001b[0mself\u001b[0m\u001b[1;33m.\u001b[0m\u001b[0m_is_idle_drawing\u001b[0m\u001b[1;33m:\u001b[0m\u001b[1;33m\u001b[0m\u001b[1;33m\u001b[0m\u001b[0m\n\u001b[0;32m   1906\u001b[0m             \u001b[1;32mwith\u001b[0m \u001b[0mself\u001b[0m\u001b[1;33m.\u001b[0m\u001b[0m_idle_draw_cntx\u001b[0m\u001b[1;33m(\u001b[0m\u001b[1;33m)\u001b[0m\u001b[1;33m:\u001b[0m\u001b[1;33m\u001b[0m\u001b[1;33m\u001b[0m\u001b[0m\n\u001b[1;32m-> 1907\u001b[1;33m                 \u001b[0mself\u001b[0m\u001b[1;33m.\u001b[0m\u001b[0mdraw\u001b[0m\u001b[1;33m(\u001b[0m\u001b[1;33m*\u001b[0m\u001b[0margs\u001b[0m\u001b[1;33m,\u001b[0m \u001b[1;33m**\u001b[0m\u001b[0mkwargs\u001b[0m\u001b[1;33m)\u001b[0m\u001b[1;33m\u001b[0m\u001b[1;33m\u001b[0m\u001b[0m\n\u001b[0m\u001b[0;32m   1908\u001b[0m \u001b[1;33m\u001b[0m\u001b[0m\n\u001b[0;32m   1909\u001b[0m     \u001b[1;32mdef\u001b[0m \u001b[0mdraw_cursor\u001b[0m\u001b[1;33m(\u001b[0m\u001b[0mself\u001b[0m\u001b[1;33m,\u001b[0m \u001b[0mevent\u001b[0m\u001b[1;33m)\u001b[0m\u001b[1;33m:\u001b[0m\u001b[1;33m\u001b[0m\u001b[1;33m\u001b[0m\u001b[0m\n",
      "\u001b[1;32m~\\Anaconda3\\lib\\site-packages\\matplotlib\\backends\\backend_agg.py\u001b[0m in \u001b[0;36mdraw\u001b[1;34m(self)\u001b[0m\n\u001b[0;32m    386\u001b[0m         \u001b[0mself\u001b[0m\u001b[1;33m.\u001b[0m\u001b[0mrenderer\u001b[0m \u001b[1;33m=\u001b[0m \u001b[0mself\u001b[0m\u001b[1;33m.\u001b[0m\u001b[0mget_renderer\u001b[0m\u001b[1;33m(\u001b[0m\u001b[0mcleared\u001b[0m\u001b[1;33m=\u001b[0m\u001b[1;32mTrue\u001b[0m\u001b[1;33m)\u001b[0m\u001b[1;33m\u001b[0m\u001b[1;33m\u001b[0m\u001b[0m\n\u001b[0;32m    387\u001b[0m         \u001b[1;32mwith\u001b[0m \u001b[0mRendererAgg\u001b[0m\u001b[1;33m.\u001b[0m\u001b[0mlock\u001b[0m\u001b[1;33m:\u001b[0m\u001b[1;33m\u001b[0m\u001b[1;33m\u001b[0m\u001b[0m\n\u001b[1;32m--> 388\u001b[1;33m             \u001b[0mself\u001b[0m\u001b[1;33m.\u001b[0m\u001b[0mfigure\u001b[0m\u001b[1;33m.\u001b[0m\u001b[0mdraw\u001b[0m\u001b[1;33m(\u001b[0m\u001b[0mself\u001b[0m\u001b[1;33m.\u001b[0m\u001b[0mrenderer\u001b[0m\u001b[1;33m)\u001b[0m\u001b[1;33m\u001b[0m\u001b[1;33m\u001b[0m\u001b[0m\n\u001b[0m\u001b[0;32m    389\u001b[0m             \u001b[1;31m# A GUI class may be need to update a window using this draw, so\u001b[0m\u001b[1;33m\u001b[0m\u001b[1;33m\u001b[0m\u001b[1;33m\u001b[0m\u001b[0m\n\u001b[0;32m    390\u001b[0m             \u001b[1;31m# don't forget to call the superclass.\u001b[0m\u001b[1;33m\u001b[0m\u001b[1;33m\u001b[0m\u001b[1;33m\u001b[0m\u001b[0m\n",
      "\u001b[1;32m~\\Anaconda3\\lib\\site-packages\\matplotlib\\artist.py\u001b[0m in \u001b[0;36mdraw_wrapper\u001b[1;34m(artist, renderer, *args, **kwargs)\u001b[0m\n\u001b[0;32m     36\u001b[0m                 \u001b[0mrenderer\u001b[0m\u001b[1;33m.\u001b[0m\u001b[0mstart_filter\u001b[0m\u001b[1;33m(\u001b[0m\u001b[1;33m)\u001b[0m\u001b[1;33m\u001b[0m\u001b[1;33m\u001b[0m\u001b[0m\n\u001b[0;32m     37\u001b[0m \u001b[1;33m\u001b[0m\u001b[0m\n\u001b[1;32m---> 38\u001b[1;33m             \u001b[1;32mreturn\u001b[0m \u001b[0mdraw\u001b[0m\u001b[1;33m(\u001b[0m\u001b[0martist\u001b[0m\u001b[1;33m,\u001b[0m \u001b[0mrenderer\u001b[0m\u001b[1;33m,\u001b[0m \u001b[1;33m*\u001b[0m\u001b[0margs\u001b[0m\u001b[1;33m,\u001b[0m \u001b[1;33m**\u001b[0m\u001b[0mkwargs\u001b[0m\u001b[1;33m)\u001b[0m\u001b[1;33m\u001b[0m\u001b[1;33m\u001b[0m\u001b[0m\n\u001b[0m\u001b[0;32m     39\u001b[0m         \u001b[1;32mfinally\u001b[0m\u001b[1;33m:\u001b[0m\u001b[1;33m\u001b[0m\u001b[1;33m\u001b[0m\u001b[0m\n\u001b[0;32m     40\u001b[0m             \u001b[1;32mif\u001b[0m \u001b[0martist\u001b[0m\u001b[1;33m.\u001b[0m\u001b[0mget_agg_filter\u001b[0m\u001b[1;33m(\u001b[0m\u001b[1;33m)\u001b[0m \u001b[1;32mis\u001b[0m \u001b[1;32mnot\u001b[0m \u001b[1;32mNone\u001b[0m\u001b[1;33m:\u001b[0m\u001b[1;33m\u001b[0m\u001b[1;33m\u001b[0m\u001b[0m\n",
      "\u001b[1;32m~\\Anaconda3\\lib\\site-packages\\matplotlib\\figure.py\u001b[0m in \u001b[0;36mdraw\u001b[1;34m(self, renderer)\u001b[0m\n\u001b[0;32m   1707\u001b[0m             \u001b[0mself\u001b[0m\u001b[1;33m.\u001b[0m\u001b[0mpatch\u001b[0m\u001b[1;33m.\u001b[0m\u001b[0mdraw\u001b[0m\u001b[1;33m(\u001b[0m\u001b[0mrenderer\u001b[0m\u001b[1;33m)\u001b[0m\u001b[1;33m\u001b[0m\u001b[1;33m\u001b[0m\u001b[0m\n\u001b[0;32m   1708\u001b[0m             mimage._draw_list_compositing_images(\n\u001b[1;32m-> 1709\u001b[1;33m                 renderer, self, artists, self.suppressComposite)\n\u001b[0m\u001b[0;32m   1710\u001b[0m \u001b[1;33m\u001b[0m\u001b[0m\n\u001b[0;32m   1711\u001b[0m             \u001b[0mrenderer\u001b[0m\u001b[1;33m.\u001b[0m\u001b[0mclose_group\u001b[0m\u001b[1;33m(\u001b[0m\u001b[1;34m'figure'\u001b[0m\u001b[1;33m)\u001b[0m\u001b[1;33m\u001b[0m\u001b[1;33m\u001b[0m\u001b[0m\n",
      "\u001b[1;32m~\\Anaconda3\\lib\\site-packages\\matplotlib\\image.py\u001b[0m in \u001b[0;36m_draw_list_compositing_images\u001b[1;34m(renderer, parent, artists, suppress_composite)\u001b[0m\n\u001b[0;32m    133\u001b[0m     \u001b[1;32mif\u001b[0m \u001b[0mnot_composite\u001b[0m \u001b[1;32mor\u001b[0m \u001b[1;32mnot\u001b[0m \u001b[0mhas_images\u001b[0m\u001b[1;33m:\u001b[0m\u001b[1;33m\u001b[0m\u001b[1;33m\u001b[0m\u001b[0m\n\u001b[0;32m    134\u001b[0m         \u001b[1;32mfor\u001b[0m \u001b[0ma\u001b[0m \u001b[1;32min\u001b[0m \u001b[0martists\u001b[0m\u001b[1;33m:\u001b[0m\u001b[1;33m\u001b[0m\u001b[1;33m\u001b[0m\u001b[0m\n\u001b[1;32m--> 135\u001b[1;33m             \u001b[0ma\u001b[0m\u001b[1;33m.\u001b[0m\u001b[0mdraw\u001b[0m\u001b[1;33m(\u001b[0m\u001b[0mrenderer\u001b[0m\u001b[1;33m)\u001b[0m\u001b[1;33m\u001b[0m\u001b[1;33m\u001b[0m\u001b[0m\n\u001b[0m\u001b[0;32m    136\u001b[0m     \u001b[1;32melse\u001b[0m\u001b[1;33m:\u001b[0m\u001b[1;33m\u001b[0m\u001b[1;33m\u001b[0m\u001b[0m\n\u001b[0;32m    137\u001b[0m         \u001b[1;31m# Composite any adjacent images together\u001b[0m\u001b[1;33m\u001b[0m\u001b[1;33m\u001b[0m\u001b[1;33m\u001b[0m\u001b[0m\n",
      "\u001b[1;32m~\\Anaconda3\\lib\\site-packages\\matplotlib\\artist.py\u001b[0m in \u001b[0;36mdraw_wrapper\u001b[1;34m(artist, renderer, *args, **kwargs)\u001b[0m\n\u001b[0;32m     36\u001b[0m                 \u001b[0mrenderer\u001b[0m\u001b[1;33m.\u001b[0m\u001b[0mstart_filter\u001b[0m\u001b[1;33m(\u001b[0m\u001b[1;33m)\u001b[0m\u001b[1;33m\u001b[0m\u001b[1;33m\u001b[0m\u001b[0m\n\u001b[0;32m     37\u001b[0m \u001b[1;33m\u001b[0m\u001b[0m\n\u001b[1;32m---> 38\u001b[1;33m             \u001b[1;32mreturn\u001b[0m \u001b[0mdraw\u001b[0m\u001b[1;33m(\u001b[0m\u001b[0martist\u001b[0m\u001b[1;33m,\u001b[0m \u001b[0mrenderer\u001b[0m\u001b[1;33m,\u001b[0m \u001b[1;33m*\u001b[0m\u001b[0margs\u001b[0m\u001b[1;33m,\u001b[0m \u001b[1;33m**\u001b[0m\u001b[0mkwargs\u001b[0m\u001b[1;33m)\u001b[0m\u001b[1;33m\u001b[0m\u001b[1;33m\u001b[0m\u001b[0m\n\u001b[0m\u001b[0;32m     39\u001b[0m         \u001b[1;32mfinally\u001b[0m\u001b[1;33m:\u001b[0m\u001b[1;33m\u001b[0m\u001b[1;33m\u001b[0m\u001b[0m\n\u001b[0;32m     40\u001b[0m             \u001b[1;32mif\u001b[0m \u001b[0martist\u001b[0m\u001b[1;33m.\u001b[0m\u001b[0mget_agg_filter\u001b[0m\u001b[1;33m(\u001b[0m\u001b[1;33m)\u001b[0m \u001b[1;32mis\u001b[0m \u001b[1;32mnot\u001b[0m \u001b[1;32mNone\u001b[0m\u001b[1;33m:\u001b[0m\u001b[1;33m\u001b[0m\u001b[1;33m\u001b[0m\u001b[0m\n",
      "\u001b[1;32m~\\Anaconda3\\lib\\site-packages\\matplotlib\\axes\\_base.py\u001b[0m in \u001b[0;36mdraw\u001b[1;34m(self, renderer, inframe)\u001b[0m\n\u001b[0;32m   2645\u001b[0m             \u001b[0mrenderer\u001b[0m\u001b[1;33m.\u001b[0m\u001b[0mstop_rasterizing\u001b[0m\u001b[1;33m(\u001b[0m\u001b[1;33m)\u001b[0m\u001b[1;33m\u001b[0m\u001b[1;33m\u001b[0m\u001b[0m\n\u001b[0;32m   2646\u001b[0m \u001b[1;33m\u001b[0m\u001b[0m\n\u001b[1;32m-> 2647\u001b[1;33m         \u001b[0mmimage\u001b[0m\u001b[1;33m.\u001b[0m\u001b[0m_draw_list_compositing_images\u001b[0m\u001b[1;33m(\u001b[0m\u001b[0mrenderer\u001b[0m\u001b[1;33m,\u001b[0m \u001b[0mself\u001b[0m\u001b[1;33m,\u001b[0m \u001b[0martists\u001b[0m\u001b[1;33m)\u001b[0m\u001b[1;33m\u001b[0m\u001b[1;33m\u001b[0m\u001b[0m\n\u001b[0m\u001b[0;32m   2648\u001b[0m \u001b[1;33m\u001b[0m\u001b[0m\n\u001b[0;32m   2649\u001b[0m         \u001b[0mrenderer\u001b[0m\u001b[1;33m.\u001b[0m\u001b[0mclose_group\u001b[0m\u001b[1;33m(\u001b[0m\u001b[1;34m'axes'\u001b[0m\u001b[1;33m)\u001b[0m\u001b[1;33m\u001b[0m\u001b[1;33m\u001b[0m\u001b[0m\n",
      "\u001b[1;32m~\\Anaconda3\\lib\\site-packages\\matplotlib\\image.py\u001b[0m in \u001b[0;36m_draw_list_compositing_images\u001b[1;34m(renderer, parent, artists, suppress_composite)\u001b[0m\n\u001b[0;32m    133\u001b[0m     \u001b[1;32mif\u001b[0m \u001b[0mnot_composite\u001b[0m \u001b[1;32mor\u001b[0m \u001b[1;32mnot\u001b[0m \u001b[0mhas_images\u001b[0m\u001b[1;33m:\u001b[0m\u001b[1;33m\u001b[0m\u001b[1;33m\u001b[0m\u001b[0m\n\u001b[0;32m    134\u001b[0m         \u001b[1;32mfor\u001b[0m \u001b[0ma\u001b[0m \u001b[1;32min\u001b[0m \u001b[0martists\u001b[0m\u001b[1;33m:\u001b[0m\u001b[1;33m\u001b[0m\u001b[1;33m\u001b[0m\u001b[0m\n\u001b[1;32m--> 135\u001b[1;33m             \u001b[0ma\u001b[0m\u001b[1;33m.\u001b[0m\u001b[0mdraw\u001b[0m\u001b[1;33m(\u001b[0m\u001b[0mrenderer\u001b[0m\u001b[1;33m)\u001b[0m\u001b[1;33m\u001b[0m\u001b[1;33m\u001b[0m\u001b[0m\n\u001b[0m\u001b[0;32m    136\u001b[0m     \u001b[1;32melse\u001b[0m\u001b[1;33m:\u001b[0m\u001b[1;33m\u001b[0m\u001b[1;33m\u001b[0m\u001b[0m\n\u001b[0;32m    137\u001b[0m         \u001b[1;31m# Composite any adjacent images together\u001b[0m\u001b[1;33m\u001b[0m\u001b[1;33m\u001b[0m\u001b[1;33m\u001b[0m\u001b[0m\n",
      "\u001b[1;32m~\\Anaconda3\\lib\\site-packages\\matplotlib\\artist.py\u001b[0m in \u001b[0;36mdraw_wrapper\u001b[1;34m(artist, renderer, *args, **kwargs)\u001b[0m\n\u001b[0;32m     36\u001b[0m                 \u001b[0mrenderer\u001b[0m\u001b[1;33m.\u001b[0m\u001b[0mstart_filter\u001b[0m\u001b[1;33m(\u001b[0m\u001b[1;33m)\u001b[0m\u001b[1;33m\u001b[0m\u001b[1;33m\u001b[0m\u001b[0m\n\u001b[0;32m     37\u001b[0m \u001b[1;33m\u001b[0m\u001b[0m\n\u001b[1;32m---> 38\u001b[1;33m             \u001b[1;32mreturn\u001b[0m \u001b[0mdraw\u001b[0m\u001b[1;33m(\u001b[0m\u001b[0martist\u001b[0m\u001b[1;33m,\u001b[0m \u001b[0mrenderer\u001b[0m\u001b[1;33m,\u001b[0m \u001b[1;33m*\u001b[0m\u001b[0margs\u001b[0m\u001b[1;33m,\u001b[0m \u001b[1;33m**\u001b[0m\u001b[0mkwargs\u001b[0m\u001b[1;33m)\u001b[0m\u001b[1;33m\u001b[0m\u001b[1;33m\u001b[0m\u001b[0m\n\u001b[0m\u001b[0;32m     39\u001b[0m         \u001b[1;32mfinally\u001b[0m\u001b[1;33m:\u001b[0m\u001b[1;33m\u001b[0m\u001b[1;33m\u001b[0m\u001b[0m\n\u001b[0;32m     40\u001b[0m             \u001b[1;32mif\u001b[0m \u001b[0martist\u001b[0m\u001b[1;33m.\u001b[0m\u001b[0mget_agg_filter\u001b[0m\u001b[1;33m(\u001b[0m\u001b[1;33m)\u001b[0m \u001b[1;32mis\u001b[0m \u001b[1;32mnot\u001b[0m \u001b[1;32mNone\u001b[0m\u001b[1;33m:\u001b[0m\u001b[1;33m\u001b[0m\u001b[1;33m\u001b[0m\u001b[0m\n",
      "\u001b[1;32m~\\Anaconda3\\lib\\site-packages\\matplotlib\\axis.py\u001b[0m in \u001b[0;36mdraw\u001b[1;34m(self, renderer, *args, **kwargs)\u001b[0m\n\u001b[0;32m   1201\u001b[0m         \u001b[0mrenderer\u001b[0m\u001b[1;33m.\u001b[0m\u001b[0mopen_group\u001b[0m\u001b[1;33m(\u001b[0m\u001b[0m__name__\u001b[0m\u001b[1;33m)\u001b[0m\u001b[1;33m\u001b[0m\u001b[1;33m\u001b[0m\u001b[0m\n\u001b[0;32m   1202\u001b[0m \u001b[1;33m\u001b[0m\u001b[0m\n\u001b[1;32m-> 1203\u001b[1;33m         \u001b[0mticks_to_draw\u001b[0m \u001b[1;33m=\u001b[0m \u001b[0mself\u001b[0m\u001b[1;33m.\u001b[0m\u001b[0m_update_ticks\u001b[0m\u001b[1;33m(\u001b[0m\u001b[1;33m)\u001b[0m\u001b[1;33m\u001b[0m\u001b[1;33m\u001b[0m\u001b[0m\n\u001b[0m\u001b[0;32m   1204\u001b[0m         ticklabelBoxes, ticklabelBoxes2 = self._get_tick_bboxes(ticks_to_draw,\n\u001b[0;32m   1205\u001b[0m                                                                 renderer)\n",
      "\u001b[1;32m~\\Anaconda3\\lib\\site-packages\\matplotlib\\axis.py\u001b[0m in \u001b[0;36m_update_ticks\u001b[1;34m(self)\u001b[0m\n\u001b[0;32m   1077\u001b[0m         \u001b[0mthe\u001b[0m \u001b[0maxes\u001b[0m\u001b[1;33m.\u001b[0m  \u001b[0mReturn\u001b[0m \u001b[0mthe\u001b[0m \u001b[0mlist\u001b[0m \u001b[0mof\u001b[0m \u001b[0mticks\u001b[0m \u001b[0mthat\u001b[0m \u001b[0mwill\u001b[0m \u001b[0mbe\u001b[0m \u001b[0mdrawn\u001b[0m\u001b[1;33m.\u001b[0m\u001b[1;33m\u001b[0m\u001b[1;33m\u001b[0m\u001b[0m\n\u001b[0;32m   1078\u001b[0m         \"\"\"\n\u001b[1;32m-> 1079\u001b[1;33m         \u001b[0mmajor_locs\u001b[0m \u001b[1;33m=\u001b[0m \u001b[0mself\u001b[0m\u001b[1;33m.\u001b[0m\u001b[0mget_majorticklocs\u001b[0m\u001b[1;33m(\u001b[0m\u001b[1;33m)\u001b[0m\u001b[1;33m\u001b[0m\u001b[1;33m\u001b[0m\u001b[0m\n\u001b[0m\u001b[0;32m   1080\u001b[0m         \u001b[0mmajor_labels\u001b[0m \u001b[1;33m=\u001b[0m \u001b[0mself\u001b[0m\u001b[1;33m.\u001b[0m\u001b[0mmajor\u001b[0m\u001b[1;33m.\u001b[0m\u001b[0mformatter\u001b[0m\u001b[1;33m.\u001b[0m\u001b[0mformat_ticks\u001b[0m\u001b[1;33m(\u001b[0m\u001b[0mmajor_locs\u001b[0m\u001b[1;33m)\u001b[0m\u001b[1;33m\u001b[0m\u001b[1;33m\u001b[0m\u001b[0m\n\u001b[0;32m   1081\u001b[0m         \u001b[0mmajor_ticks\u001b[0m \u001b[1;33m=\u001b[0m \u001b[0mself\u001b[0m\u001b[1;33m.\u001b[0m\u001b[0mget_major_ticks\u001b[0m\u001b[1;33m(\u001b[0m\u001b[0mlen\u001b[0m\u001b[1;33m(\u001b[0m\u001b[0mmajor_locs\u001b[0m\u001b[1;33m)\u001b[0m\u001b[1;33m)\u001b[0m\u001b[1;33m\u001b[0m\u001b[1;33m\u001b[0m\u001b[0m\n",
      "\u001b[1;32m~\\Anaconda3\\lib\\site-packages\\matplotlib\\axis.py\u001b[0m in \u001b[0;36mget_majorticklocs\u001b[1;34m(self)\u001b[0m\n\u001b[0;32m   1322\u001b[0m     \u001b[1;32mdef\u001b[0m \u001b[0mget_majorticklocs\u001b[0m\u001b[1;33m(\u001b[0m\u001b[0mself\u001b[0m\u001b[1;33m)\u001b[0m\u001b[1;33m:\u001b[0m\u001b[1;33m\u001b[0m\u001b[1;33m\u001b[0m\u001b[0m\n\u001b[0;32m   1323\u001b[0m         \u001b[1;34m\"\"\"Get the array of major tick locations in data coordinates.\"\"\"\u001b[0m\u001b[1;33m\u001b[0m\u001b[1;33m\u001b[0m\u001b[0m\n\u001b[1;32m-> 1324\u001b[1;33m         \u001b[1;32mreturn\u001b[0m \u001b[0mself\u001b[0m\u001b[1;33m.\u001b[0m\u001b[0mmajor\u001b[0m\u001b[1;33m.\u001b[0m\u001b[0mlocator\u001b[0m\u001b[1;33m(\u001b[0m\u001b[1;33m)\u001b[0m\u001b[1;33m\u001b[0m\u001b[1;33m\u001b[0m\u001b[0m\n\u001b[0m\u001b[0;32m   1325\u001b[0m \u001b[1;33m\u001b[0m\u001b[0m\n\u001b[0;32m   1326\u001b[0m     \u001b[1;32mdef\u001b[0m \u001b[0mget_minorticklocs\u001b[0m\u001b[1;33m(\u001b[0m\u001b[0mself\u001b[0m\u001b[1;33m)\u001b[0m\u001b[1;33m:\u001b[0m\u001b[1;33m\u001b[0m\u001b[1;33m\u001b[0m\u001b[0m\n",
      "\u001b[1;32m~\\Anaconda3\\lib\\site-packages\\matplotlib\\dates.py\u001b[0m in \u001b[0;36m__call__\u001b[1;34m(self)\u001b[0m\n\u001b[0;32m   1429\u001b[0m     \u001b[1;32mdef\u001b[0m \u001b[0m__call__\u001b[0m\u001b[1;33m(\u001b[0m\u001b[0mself\u001b[0m\u001b[1;33m)\u001b[0m\u001b[1;33m:\u001b[0m\u001b[1;33m\u001b[0m\u001b[1;33m\u001b[0m\u001b[0m\n\u001b[0;32m   1430\u001b[0m         \u001b[1;34m'Return the locations of the ticks'\u001b[0m\u001b[1;33m\u001b[0m\u001b[1;33m\u001b[0m\u001b[0m\n\u001b[1;32m-> 1431\u001b[1;33m         \u001b[0mself\u001b[0m\u001b[1;33m.\u001b[0m\u001b[0mrefresh\u001b[0m\u001b[1;33m(\u001b[0m\u001b[1;33m)\u001b[0m\u001b[1;33m\u001b[0m\u001b[1;33m\u001b[0m\u001b[0m\n\u001b[0m\u001b[0;32m   1432\u001b[0m         \u001b[1;32mreturn\u001b[0m \u001b[0mself\u001b[0m\u001b[1;33m.\u001b[0m\u001b[0m_locator\u001b[0m\u001b[1;33m(\u001b[0m\u001b[1;33m)\u001b[0m\u001b[1;33m\u001b[0m\u001b[1;33m\u001b[0m\u001b[0m\n\u001b[0;32m   1433\u001b[0m \u001b[1;33m\u001b[0m\u001b[0m\n",
      "\u001b[1;32m~\\Anaconda3\\lib\\site-packages\\matplotlib\\dates.py\u001b[0m in \u001b[0;36mrefresh\u001b[1;34m(self)\u001b[0m\n\u001b[0;32m   1449\u001b[0m     \u001b[1;32mdef\u001b[0m \u001b[0mrefresh\u001b[0m\u001b[1;33m(\u001b[0m\u001b[0mself\u001b[0m\u001b[1;33m)\u001b[0m\u001b[1;33m:\u001b[0m\u001b[1;33m\u001b[0m\u001b[1;33m\u001b[0m\u001b[0m\n\u001b[0;32m   1450\u001b[0m         \u001b[1;34m'Refresh internal information based on current limits.'\u001b[0m\u001b[1;33m\u001b[0m\u001b[1;33m\u001b[0m\u001b[0m\n\u001b[1;32m-> 1451\u001b[1;33m         \u001b[0mdmin\u001b[0m\u001b[1;33m,\u001b[0m \u001b[0mdmax\u001b[0m \u001b[1;33m=\u001b[0m \u001b[0mself\u001b[0m\u001b[1;33m.\u001b[0m\u001b[0mviewlim_to_dt\u001b[0m\u001b[1;33m(\u001b[0m\u001b[1;33m)\u001b[0m\u001b[1;33m\u001b[0m\u001b[1;33m\u001b[0m\u001b[0m\n\u001b[0m\u001b[0;32m   1452\u001b[0m         \u001b[0mself\u001b[0m\u001b[1;33m.\u001b[0m\u001b[0m_locator\u001b[0m \u001b[1;33m=\u001b[0m \u001b[0mself\u001b[0m\u001b[1;33m.\u001b[0m\u001b[0mget_locator\u001b[0m\u001b[1;33m(\u001b[0m\u001b[0mdmin\u001b[0m\u001b[1;33m,\u001b[0m \u001b[0mdmax\u001b[0m\u001b[1;33m)\u001b[0m\u001b[1;33m\u001b[0m\u001b[1;33m\u001b[0m\u001b[0m\n\u001b[0;32m   1453\u001b[0m \u001b[1;33m\u001b[0m\u001b[0m\n",
      "\u001b[1;32m~\\Anaconda3\\lib\\site-packages\\matplotlib\\dates.py\u001b[0m in \u001b[0;36mviewlim_to_dt\u001b[1;34m(self)\u001b[0m\n\u001b[0;32m   1200\u001b[0m                              \u001b[1;34m'often happens if you pass a non-datetime '\u001b[0m\u001b[1;33m\u001b[0m\u001b[1;33m\u001b[0m\u001b[0m\n\u001b[0;32m   1201\u001b[0m                              \u001b[1;34m'value to an axis that has datetime units'\u001b[0m\u001b[1;33m\u001b[0m\u001b[1;33m\u001b[0m\u001b[0m\n\u001b[1;32m-> 1202\u001b[1;33m                              .format(vmin))\n\u001b[0m\u001b[0;32m   1203\u001b[0m         \u001b[1;32mreturn\u001b[0m \u001b[0mnum2date\u001b[0m\u001b[1;33m(\u001b[0m\u001b[0mvmin\u001b[0m\u001b[1;33m,\u001b[0m \u001b[0mself\u001b[0m\u001b[1;33m.\u001b[0m\u001b[0mtz\u001b[0m\u001b[1;33m)\u001b[0m\u001b[1;33m,\u001b[0m \u001b[0mnum2date\u001b[0m\u001b[1;33m(\u001b[0m\u001b[0mvmax\u001b[0m\u001b[1;33m,\u001b[0m \u001b[0mself\u001b[0m\u001b[1;33m.\u001b[0m\u001b[0mtz\u001b[0m\u001b[1;33m)\u001b[0m\u001b[1;33m\u001b[0m\u001b[1;33m\u001b[0m\u001b[0m\n\u001b[0;32m   1204\u001b[0m \u001b[1;33m\u001b[0m\u001b[0m\n",
      "\u001b[1;31mValueError\u001b[0m: view limit minimum 0.5599999999999997 is less than 1 and is an invalid Matplotlib date value. This often happens if you pass a non-datetime value to an axis that has datetime units"
     ]
    },
    {
     "ename": "ValueError",
     "evalue": "view limit minimum 0.5599999999999997 is less than 1 and is an invalid Matplotlib date value. This often happens if you pass a non-datetime value to an axis that has datetime units",
     "output_type": "error",
     "traceback": [
      "\u001b[1;31m---------------------------------------------------------------------------\u001b[0m",
      "\u001b[1;31mValueError\u001b[0m                                Traceback (most recent call last)",
      "\u001b[1;32m~\\Anaconda3\\lib\\site-packages\\ipykernel\\pylab\\backend_inline.py\u001b[0m in \u001b[0;36mshow\u001b[1;34m(close, block)\u001b[0m\n\u001b[0;32m     37\u001b[0m             display(\n\u001b[0;32m     38\u001b[0m                 \u001b[0mfigure_manager\u001b[0m\u001b[1;33m.\u001b[0m\u001b[0mcanvas\u001b[0m\u001b[1;33m.\u001b[0m\u001b[0mfigure\u001b[0m\u001b[1;33m,\u001b[0m\u001b[1;33m\u001b[0m\u001b[1;33m\u001b[0m\u001b[0m\n\u001b[1;32m---> 39\u001b[1;33m                 \u001b[0mmetadata\u001b[0m\u001b[1;33m=\u001b[0m\u001b[0m_fetch_figure_metadata\u001b[0m\u001b[1;33m(\u001b[0m\u001b[0mfigure_manager\u001b[0m\u001b[1;33m.\u001b[0m\u001b[0mcanvas\u001b[0m\u001b[1;33m.\u001b[0m\u001b[0mfigure\u001b[0m\u001b[1;33m)\u001b[0m\u001b[1;33m\u001b[0m\u001b[1;33m\u001b[0m\u001b[0m\n\u001b[0m\u001b[0;32m     40\u001b[0m             )\n\u001b[0;32m     41\u001b[0m     \u001b[1;32mfinally\u001b[0m\u001b[1;33m:\u001b[0m\u001b[1;33m\u001b[0m\u001b[1;33m\u001b[0m\u001b[0m\n",
      "\u001b[1;32m~\\Anaconda3\\lib\\site-packages\\ipykernel\\pylab\\backend_inline.py\u001b[0m in \u001b[0;36m_fetch_figure_metadata\u001b[1;34m(fig)\u001b[0m\n\u001b[0;32m    175\u001b[0m         \u001b[1;31m# the background is transparent\u001b[0m\u001b[1;33m\u001b[0m\u001b[1;33m\u001b[0m\u001b[1;33m\u001b[0m\u001b[0m\n\u001b[0;32m    176\u001b[0m         ticksLight = _is_light([label.get_color()\n\u001b[1;32m--> 177\u001b[1;33m                                 \u001b[1;32mfor\u001b[0m \u001b[0maxes\u001b[0m \u001b[1;32min\u001b[0m \u001b[0mfig\u001b[0m\u001b[1;33m.\u001b[0m\u001b[0maxes\u001b[0m\u001b[1;33m\u001b[0m\u001b[1;33m\u001b[0m\u001b[0m\n\u001b[0m\u001b[0;32m    178\u001b[0m                                 \u001b[1;32mfor\u001b[0m \u001b[0maxis\u001b[0m \u001b[1;32min\u001b[0m \u001b[1;33m(\u001b[0m\u001b[0maxes\u001b[0m\u001b[1;33m.\u001b[0m\u001b[0mxaxis\u001b[0m\u001b[1;33m,\u001b[0m \u001b[0maxes\u001b[0m\u001b[1;33m.\u001b[0m\u001b[0myaxis\u001b[0m\u001b[1;33m)\u001b[0m\u001b[1;33m\u001b[0m\u001b[1;33m\u001b[0m\u001b[0m\n\u001b[0;32m    179\u001b[0m                                 for label in axis.get_ticklabels()])\n",
      "\u001b[1;32m~\\Anaconda3\\lib\\site-packages\\ipykernel\\pylab\\backend_inline.py\u001b[0m in \u001b[0;36m<listcomp>\u001b[1;34m(.0)\u001b[0m\n\u001b[0;32m    177\u001b[0m                                 \u001b[1;32mfor\u001b[0m \u001b[0maxes\u001b[0m \u001b[1;32min\u001b[0m \u001b[0mfig\u001b[0m\u001b[1;33m.\u001b[0m\u001b[0maxes\u001b[0m\u001b[1;33m\u001b[0m\u001b[1;33m\u001b[0m\u001b[0m\n\u001b[0;32m    178\u001b[0m                                 \u001b[1;32mfor\u001b[0m \u001b[0maxis\u001b[0m \u001b[1;32min\u001b[0m \u001b[1;33m(\u001b[0m\u001b[0maxes\u001b[0m\u001b[1;33m.\u001b[0m\u001b[0mxaxis\u001b[0m\u001b[1;33m,\u001b[0m \u001b[0maxes\u001b[0m\u001b[1;33m.\u001b[0m\u001b[0myaxis\u001b[0m\u001b[1;33m)\u001b[0m\u001b[1;33m\u001b[0m\u001b[1;33m\u001b[0m\u001b[0m\n\u001b[1;32m--> 179\u001b[1;33m                                 for label in axis.get_ticklabels()])\n\u001b[0m\u001b[0;32m    180\u001b[0m         \u001b[1;32mif\u001b[0m \u001b[0mticksLight\u001b[0m\u001b[1;33m.\u001b[0m\u001b[0msize\u001b[0m \u001b[1;32mand\u001b[0m \u001b[1;33m(\u001b[0m\u001b[0mticksLight\u001b[0m \u001b[1;33m==\u001b[0m \u001b[0mticksLight\u001b[0m\u001b[1;33m[\u001b[0m\u001b[1;36m0\u001b[0m\u001b[1;33m]\u001b[0m\u001b[1;33m)\u001b[0m\u001b[1;33m.\u001b[0m\u001b[0mall\u001b[0m\u001b[1;33m(\u001b[0m\u001b[1;33m)\u001b[0m\u001b[1;33m:\u001b[0m\u001b[1;33m\u001b[0m\u001b[1;33m\u001b[0m\u001b[0m\n\u001b[0;32m    181\u001b[0m             \u001b[1;31m# there are one or more tick labels, all with the same lightness\u001b[0m\u001b[1;33m\u001b[0m\u001b[1;33m\u001b[0m\u001b[1;33m\u001b[0m\u001b[0m\n",
      "\u001b[1;32m~\\Anaconda3\\lib\\site-packages\\matplotlib\\axis.py\u001b[0m in \u001b[0;36mget_ticklabels\u001b[1;34m(self, minor, which)\u001b[0m\n\u001b[0;32m   1294\u001b[0m         \u001b[1;32mif\u001b[0m \u001b[0mminor\u001b[0m\u001b[1;33m:\u001b[0m\u001b[1;33m\u001b[0m\u001b[1;33m\u001b[0m\u001b[0m\n\u001b[0;32m   1295\u001b[0m             \u001b[1;32mreturn\u001b[0m \u001b[0mself\u001b[0m\u001b[1;33m.\u001b[0m\u001b[0mget_minorticklabels\u001b[0m\u001b[1;33m(\u001b[0m\u001b[1;33m)\u001b[0m\u001b[1;33m\u001b[0m\u001b[1;33m\u001b[0m\u001b[0m\n\u001b[1;32m-> 1296\u001b[1;33m         \u001b[1;32mreturn\u001b[0m \u001b[0mself\u001b[0m\u001b[1;33m.\u001b[0m\u001b[0mget_majorticklabels\u001b[0m\u001b[1;33m(\u001b[0m\u001b[1;33m)\u001b[0m\u001b[1;33m\u001b[0m\u001b[1;33m\u001b[0m\u001b[0m\n\u001b[0m\u001b[0;32m   1297\u001b[0m \u001b[1;33m\u001b[0m\u001b[0m\n\u001b[0;32m   1298\u001b[0m     \u001b[1;32mdef\u001b[0m \u001b[0mget_majorticklines\u001b[0m\u001b[1;33m(\u001b[0m\u001b[0mself\u001b[0m\u001b[1;33m)\u001b[0m\u001b[1;33m:\u001b[0m\u001b[1;33m\u001b[0m\u001b[1;33m\u001b[0m\u001b[0m\n",
      "\u001b[1;32m~\\Anaconda3\\lib\\site-packages\\matplotlib\\axis.py\u001b[0m in \u001b[0;36mget_majorticklabels\u001b[1;34m(self)\u001b[0m\n\u001b[0;32m   1250\u001b[0m     \u001b[1;32mdef\u001b[0m \u001b[0mget_majorticklabels\u001b[0m\u001b[1;33m(\u001b[0m\u001b[0mself\u001b[0m\u001b[1;33m)\u001b[0m\u001b[1;33m:\u001b[0m\u001b[1;33m\u001b[0m\u001b[1;33m\u001b[0m\u001b[0m\n\u001b[0;32m   1251\u001b[0m         \u001b[1;34m'Return a list of Text instances for the major ticklabels.'\u001b[0m\u001b[1;33m\u001b[0m\u001b[1;33m\u001b[0m\u001b[0m\n\u001b[1;32m-> 1252\u001b[1;33m         \u001b[0mticks\u001b[0m \u001b[1;33m=\u001b[0m \u001b[0mself\u001b[0m\u001b[1;33m.\u001b[0m\u001b[0mget_major_ticks\u001b[0m\u001b[1;33m(\u001b[0m\u001b[1;33m)\u001b[0m\u001b[1;33m\u001b[0m\u001b[1;33m\u001b[0m\u001b[0m\n\u001b[0m\u001b[0;32m   1253\u001b[0m         \u001b[0mlabels1\u001b[0m \u001b[1;33m=\u001b[0m \u001b[1;33m[\u001b[0m\u001b[0mtick\u001b[0m\u001b[1;33m.\u001b[0m\u001b[0mlabel1\u001b[0m \u001b[1;32mfor\u001b[0m \u001b[0mtick\u001b[0m \u001b[1;32min\u001b[0m \u001b[0mticks\u001b[0m \u001b[1;32mif\u001b[0m \u001b[0mtick\u001b[0m\u001b[1;33m.\u001b[0m\u001b[0mlabel1\u001b[0m\u001b[1;33m.\u001b[0m\u001b[0mget_visible\u001b[0m\u001b[1;33m(\u001b[0m\u001b[1;33m)\u001b[0m\u001b[1;33m]\u001b[0m\u001b[1;33m\u001b[0m\u001b[1;33m\u001b[0m\u001b[0m\n\u001b[0;32m   1254\u001b[0m         \u001b[0mlabels2\u001b[0m \u001b[1;33m=\u001b[0m \u001b[1;33m[\u001b[0m\u001b[0mtick\u001b[0m\u001b[1;33m.\u001b[0m\u001b[0mlabel2\u001b[0m \u001b[1;32mfor\u001b[0m \u001b[0mtick\u001b[0m \u001b[1;32min\u001b[0m \u001b[0mticks\u001b[0m \u001b[1;32mif\u001b[0m \u001b[0mtick\u001b[0m\u001b[1;33m.\u001b[0m\u001b[0mlabel2\u001b[0m\u001b[1;33m.\u001b[0m\u001b[0mget_visible\u001b[0m\u001b[1;33m(\u001b[0m\u001b[1;33m)\u001b[0m\u001b[1;33m]\u001b[0m\u001b[1;33m\u001b[0m\u001b[1;33m\u001b[0m\u001b[0m\n",
      "\u001b[1;32m~\\Anaconda3\\lib\\site-packages\\matplotlib\\axis.py\u001b[0m in \u001b[0;36mget_major_ticks\u001b[1;34m(self, numticks)\u001b[0m\n\u001b[0;32m   1405\u001b[0m         \u001b[1;34m'Get the tick instances; grow as necessary.'\u001b[0m\u001b[1;33m\u001b[0m\u001b[1;33m\u001b[0m\u001b[0m\n\u001b[0;32m   1406\u001b[0m         \u001b[1;32mif\u001b[0m \u001b[0mnumticks\u001b[0m \u001b[1;32mis\u001b[0m \u001b[1;32mNone\u001b[0m\u001b[1;33m:\u001b[0m\u001b[1;33m\u001b[0m\u001b[1;33m\u001b[0m\u001b[0m\n\u001b[1;32m-> 1407\u001b[1;33m             \u001b[0mnumticks\u001b[0m \u001b[1;33m=\u001b[0m \u001b[0mlen\u001b[0m\u001b[1;33m(\u001b[0m\u001b[0mself\u001b[0m\u001b[1;33m.\u001b[0m\u001b[0mget_majorticklocs\u001b[0m\u001b[1;33m(\u001b[0m\u001b[1;33m)\u001b[0m\u001b[1;33m)\u001b[0m\u001b[1;33m\u001b[0m\u001b[1;33m\u001b[0m\u001b[0m\n\u001b[0m\u001b[0;32m   1408\u001b[0m \u001b[1;33m\u001b[0m\u001b[0m\n\u001b[0;32m   1409\u001b[0m         \u001b[1;32mwhile\u001b[0m \u001b[0mlen\u001b[0m\u001b[1;33m(\u001b[0m\u001b[0mself\u001b[0m\u001b[1;33m.\u001b[0m\u001b[0mmajorTicks\u001b[0m\u001b[1;33m)\u001b[0m \u001b[1;33m<\u001b[0m \u001b[0mnumticks\u001b[0m\u001b[1;33m:\u001b[0m\u001b[1;33m\u001b[0m\u001b[1;33m\u001b[0m\u001b[0m\n",
      "\u001b[1;32m~\\Anaconda3\\lib\\site-packages\\matplotlib\\axis.py\u001b[0m in \u001b[0;36mget_majorticklocs\u001b[1;34m(self)\u001b[0m\n\u001b[0;32m   1322\u001b[0m     \u001b[1;32mdef\u001b[0m \u001b[0mget_majorticklocs\u001b[0m\u001b[1;33m(\u001b[0m\u001b[0mself\u001b[0m\u001b[1;33m)\u001b[0m\u001b[1;33m:\u001b[0m\u001b[1;33m\u001b[0m\u001b[1;33m\u001b[0m\u001b[0m\n\u001b[0;32m   1323\u001b[0m         \u001b[1;34m\"\"\"Get the array of major tick locations in data coordinates.\"\"\"\u001b[0m\u001b[1;33m\u001b[0m\u001b[1;33m\u001b[0m\u001b[0m\n\u001b[1;32m-> 1324\u001b[1;33m         \u001b[1;32mreturn\u001b[0m \u001b[0mself\u001b[0m\u001b[1;33m.\u001b[0m\u001b[0mmajor\u001b[0m\u001b[1;33m.\u001b[0m\u001b[0mlocator\u001b[0m\u001b[1;33m(\u001b[0m\u001b[1;33m)\u001b[0m\u001b[1;33m\u001b[0m\u001b[1;33m\u001b[0m\u001b[0m\n\u001b[0m\u001b[0;32m   1325\u001b[0m \u001b[1;33m\u001b[0m\u001b[0m\n\u001b[0;32m   1326\u001b[0m     \u001b[1;32mdef\u001b[0m \u001b[0mget_minorticklocs\u001b[0m\u001b[1;33m(\u001b[0m\u001b[0mself\u001b[0m\u001b[1;33m)\u001b[0m\u001b[1;33m:\u001b[0m\u001b[1;33m\u001b[0m\u001b[1;33m\u001b[0m\u001b[0m\n",
      "\u001b[1;32m~\\Anaconda3\\lib\\site-packages\\matplotlib\\dates.py\u001b[0m in \u001b[0;36m__call__\u001b[1;34m(self)\u001b[0m\n\u001b[0;32m   1429\u001b[0m     \u001b[1;32mdef\u001b[0m \u001b[0m__call__\u001b[0m\u001b[1;33m(\u001b[0m\u001b[0mself\u001b[0m\u001b[1;33m)\u001b[0m\u001b[1;33m:\u001b[0m\u001b[1;33m\u001b[0m\u001b[1;33m\u001b[0m\u001b[0m\n\u001b[0;32m   1430\u001b[0m         \u001b[1;34m'Return the locations of the ticks'\u001b[0m\u001b[1;33m\u001b[0m\u001b[1;33m\u001b[0m\u001b[0m\n\u001b[1;32m-> 1431\u001b[1;33m         \u001b[0mself\u001b[0m\u001b[1;33m.\u001b[0m\u001b[0mrefresh\u001b[0m\u001b[1;33m(\u001b[0m\u001b[1;33m)\u001b[0m\u001b[1;33m\u001b[0m\u001b[1;33m\u001b[0m\u001b[0m\n\u001b[0m\u001b[0;32m   1432\u001b[0m         \u001b[1;32mreturn\u001b[0m \u001b[0mself\u001b[0m\u001b[1;33m.\u001b[0m\u001b[0m_locator\u001b[0m\u001b[1;33m(\u001b[0m\u001b[1;33m)\u001b[0m\u001b[1;33m\u001b[0m\u001b[1;33m\u001b[0m\u001b[0m\n\u001b[0;32m   1433\u001b[0m \u001b[1;33m\u001b[0m\u001b[0m\n",
      "\u001b[1;32m~\\Anaconda3\\lib\\site-packages\\matplotlib\\dates.py\u001b[0m in \u001b[0;36mrefresh\u001b[1;34m(self)\u001b[0m\n\u001b[0;32m   1449\u001b[0m     \u001b[1;32mdef\u001b[0m \u001b[0mrefresh\u001b[0m\u001b[1;33m(\u001b[0m\u001b[0mself\u001b[0m\u001b[1;33m)\u001b[0m\u001b[1;33m:\u001b[0m\u001b[1;33m\u001b[0m\u001b[1;33m\u001b[0m\u001b[0m\n\u001b[0;32m   1450\u001b[0m         \u001b[1;34m'Refresh internal information based on current limits.'\u001b[0m\u001b[1;33m\u001b[0m\u001b[1;33m\u001b[0m\u001b[0m\n\u001b[1;32m-> 1451\u001b[1;33m         \u001b[0mdmin\u001b[0m\u001b[1;33m,\u001b[0m \u001b[0mdmax\u001b[0m \u001b[1;33m=\u001b[0m \u001b[0mself\u001b[0m\u001b[1;33m.\u001b[0m\u001b[0mviewlim_to_dt\u001b[0m\u001b[1;33m(\u001b[0m\u001b[1;33m)\u001b[0m\u001b[1;33m\u001b[0m\u001b[1;33m\u001b[0m\u001b[0m\n\u001b[0m\u001b[0;32m   1452\u001b[0m         \u001b[0mself\u001b[0m\u001b[1;33m.\u001b[0m\u001b[0m_locator\u001b[0m \u001b[1;33m=\u001b[0m \u001b[0mself\u001b[0m\u001b[1;33m.\u001b[0m\u001b[0mget_locator\u001b[0m\u001b[1;33m(\u001b[0m\u001b[0mdmin\u001b[0m\u001b[1;33m,\u001b[0m \u001b[0mdmax\u001b[0m\u001b[1;33m)\u001b[0m\u001b[1;33m\u001b[0m\u001b[1;33m\u001b[0m\u001b[0m\n\u001b[0;32m   1453\u001b[0m \u001b[1;33m\u001b[0m\u001b[0m\n",
      "\u001b[1;32m~\\Anaconda3\\lib\\site-packages\\matplotlib\\dates.py\u001b[0m in \u001b[0;36mviewlim_to_dt\u001b[1;34m(self)\u001b[0m\n\u001b[0;32m   1200\u001b[0m                              \u001b[1;34m'often happens if you pass a non-datetime '\u001b[0m\u001b[1;33m\u001b[0m\u001b[1;33m\u001b[0m\u001b[0m\n\u001b[0;32m   1201\u001b[0m                              \u001b[1;34m'value to an axis that has datetime units'\u001b[0m\u001b[1;33m\u001b[0m\u001b[1;33m\u001b[0m\u001b[0m\n\u001b[1;32m-> 1202\u001b[1;33m                              .format(vmin))\n\u001b[0m\u001b[0;32m   1203\u001b[0m         \u001b[1;32mreturn\u001b[0m \u001b[0mnum2date\u001b[0m\u001b[1;33m(\u001b[0m\u001b[0mvmin\u001b[0m\u001b[1;33m,\u001b[0m \u001b[0mself\u001b[0m\u001b[1;33m.\u001b[0m\u001b[0mtz\u001b[0m\u001b[1;33m)\u001b[0m\u001b[1;33m,\u001b[0m \u001b[0mnum2date\u001b[0m\u001b[1;33m(\u001b[0m\u001b[0mvmax\u001b[0m\u001b[1;33m,\u001b[0m \u001b[0mself\u001b[0m\u001b[1;33m.\u001b[0m\u001b[0mtz\u001b[0m\u001b[1;33m)\u001b[0m\u001b[1;33m\u001b[0m\u001b[1;33m\u001b[0m\u001b[0m\n\u001b[0;32m   1204\u001b[0m \u001b[1;33m\u001b[0m\u001b[0m\n",
      "\u001b[1;31mValueError\u001b[0m: view limit minimum 0.5599999999999997 is less than 1 and is an invalid Matplotlib date value. This often happens if you pass a non-datetime value to an axis that has datetime units"
     ]
    }
   ],
   "source": [
    "horror_movies.plot.hist(by='release_year')"
   ]
  },
  {
   "cell_type": "code",
   "execution_count": null,
   "metadata": {},
   "outputs": [],
   "source": []
  },
  {
   "cell_type": "code",
   "execution_count": null,
   "metadata": {},
   "outputs": [],
   "source": []
  },
  {
   "cell_type": "code",
   "execution_count": null,
   "metadata": {},
   "outputs": [],
   "source": []
  },
  {
   "cell_type": "code",
   "execution_count": null,
   "metadata": {},
   "outputs": [],
   "source": []
  },
  {
   "cell_type": "code",
   "execution_count": null,
   "metadata": {},
   "outputs": [],
   "source": []
  },
  {
   "cell_type": "code",
   "execution_count": null,
   "metadata": {},
   "outputs": [],
   "source": []
  },
  {
   "cell_type": "code",
   "execution_count": 84,
   "metadata": {},
   "outputs": [
    {
     "name": "stdout",
     "output_type": "stream",
     "text": [
      "<class 'pandas.core.frame.DataFrame'>\n",
      "RangeIndex: 3328 entries, 0 to 3327\n",
      "Data columns (total 15 columns):\n",
      "title                3328 non-null object\n",
      "genres               3327 non-null object\n",
      "release_date         3328 non-null object\n",
      "release_country      3328 non-null object\n",
      "movie_rating         1451 non-null object\n",
      "review_rating        3076 non-null float64\n",
      "movie_run_time       2784 non-null object\n",
      "plot                 3327 non-null object\n",
      "cast                 3314 non-null object\n",
      "language             3257 non-null object\n",
      "filming_locations    2096 non-null object\n",
      "budget               1234 non-null object\n",
      "release_year         3327 non-null object\n",
      "neu                  3327 non-null object\n",
      "date                 3327 non-null object\n",
      "dtypes: float64(1), object(14)\n",
      "memory usage: 390.1+ KB\n"
     ]
    }
   ],
   "source": [
    "horror_movies.info()"
   ]
  },
  {
   "cell_type": "markdown",
   "metadata": {},
   "source": [
    "```{r}\n",
    "horror_movies <- horror_movies_raw %>%\n",
    "  arrange(desc(review_rating)) %>%\n",
    "  extract(title, \"year\", \"\\\\((\\\\d\\\\d\\\\d\\\\d)\\\\)$\", remove = FALSE, convert = TRUE) %>%\n",
    "  mutate(budget = parse_number(budget)) %>%\n",
    "  separate(plot, c(\"director\", \"cast_sentence\", \"plot\"), extra = \"merge\", sep = \"\\\\. \", fill = \"right\") %>%\n",
    "  distinct(title, .keep_all = TRUE)\n",
    "```"
   ]
  },
  {
   "cell_type": "code",
   "execution_count": 14,
   "metadata": {},
   "outputs": [
    {
     "data": {
      "text/plain": [
       "Index(['title', 'genres', 'release_date', 'release_country', 'movie_rating',\n",
       "       'review_rating', 'movie_run_time', 'plot', 'cast', 'language',\n",
       "       'filming_locations', 'budget'],\n",
       "      dtype='object')"
      ]
     },
     "execution_count": 14,
     "metadata": {},
     "output_type": "execute_result"
    }
   ],
   "source": [
    "Die Syntax von "
   ]
  },
  {
   "cell_type": "code",
   "execution_count": 89,
   "metadata": {},
   "outputs": [
    {
     "name": "stdout",
     "output_type": "stream",
     "text": [
      "<class 'pandas.core.frame.DataFrame'>\n",
      "RangeIndex: 3 entries, 0 to 2\n",
      "Data columns (total 3 columns):\n",
      "Date     3 non-null datetime64[ns]\n",
      "Event    3 non-null object\n",
      "Cost     3 non-null int64\n",
      "dtypes: datetime64[ns](1), int64(1), object(1)\n",
      "memory usage: 200.0+ bytes\n"
     ]
    }
   ],
   "source": [
    "# importing pandas as pd \n",
    "import pandas as pd \n",
    "  \n",
    "# Creating the dataframe \n",
    "df = pd.DataFrame({'Date':['11/8/2011', '04/23/2008', '10/2/2019'], \n",
    "                'Event':['Music', 'Poetry', 'Theatre'], \n",
    "                'Cost':[10000, 5000, 15000]}) \n",
    "\n",
    "# convert the 'Date' column to datetime format \n",
    "df['Date']= pd.to_datetime(df['Date']) \n",
    "  \n",
    "# Check the format of 'Date' column \n",
    "df.info() "
   ]
  },
  {
   "cell_type": "code",
   "execution_count": 71,
   "metadata": {},
   "outputs": [
    {
     "name": "stdout",
     "output_type": "stream",
     "text": [
      "<class 'pandas.core.frame.DataFrame'>\n",
      "RangeIndex: 3 entries, 0 to 2\n",
      "Data columns (total 3 columns):\n",
      "Date     3 non-null datetime64[ns]\n",
      "Event    3 non-null object\n",
      "Cost     3 non-null int64\n",
      "dtypes: datetime64[ns](1), int64(1), object(1)\n",
      "memory usage: 200.0+ bytes\n"
     ]
    }
   ],
   "source": []
  },
  {
   "cell_type": "code",
   "execution_count": null,
   "metadata": {},
   "outputs": [],
   "source": []
  },
  {
   "cell_type": "code",
   "execution_count": null,
   "metadata": {},
   "outputs": [],
   "source": []
  },
  {
   "cell_type": "code",
   "execution_count": null,
   "metadata": {},
   "outputs": [],
   "source": []
  },
  {
   "cell_type": "code",
   "execution_count": null,
   "metadata": {},
   "outputs": [],
   "source": []
  },
  {
   "cell_type": "code",
   "execution_count": null,
   "metadata": {},
   "outputs": [],
   "source": []
  },
  {
   "cell_type": "code",
   "execution_count": null,
   "metadata": {},
   "outputs": [],
   "source": []
  },
  {
   "cell_type": "markdown",
   "metadata": {},
   "source": [
    "Wie immer beginnen wir mit einer ersten Gesamtanalayse des Datensatzes. Um einen ersten Eindruck zu gewinnen, bieten sich die Methoden ``.shape``, ``"
   ]
  },
  {
   "cell_type": "code",
   "execution_count": 5,
   "metadata": {},
   "outputs": [
    {
     "data": {
      "text/plain": [
       "(3328, 12)"
      ]
     },
     "execution_count": 5,
     "metadata": {},
     "output_type": "execute_result"
    }
   ],
   "source": [
    "df.shape"
   ]
  },
  {
   "cell_type": "code",
   "execution_count": 6,
   "metadata": {},
   "outputs": [
    {
     "name": "stdout",
     "output_type": "stream",
     "text": [
      "<class 'pandas.core.frame.DataFrame'>\n",
      "RangeIndex: 3328 entries, 0 to 3327\n",
      "Data columns (total 12 columns):\n",
      "title                3328 non-null object\n",
      "genres               3327 non-null object\n",
      "release_date         3328 non-null object\n",
      "release_country      3328 non-null object\n",
      "movie_rating         1451 non-null object\n",
      "review_rating        3076 non-null float64\n",
      "movie_run_time       2784 non-null object\n",
      "plot                 3327 non-null object\n",
      "cast                 3314 non-null object\n",
      "language             3257 non-null object\n",
      "filming_locations    2096 non-null object\n",
      "budget               1234 non-null object\n",
      "dtypes: float64(1), object(11)\n",
      "memory usage: 312.1+ KB\n"
     ]
    }
   ],
   "source": [
    "df.info()"
   ]
  },
  {
   "cell_type": "code",
   "execution_count": 8,
   "metadata": {},
   "outputs": [
    {
     "data": {
      "text/plain": [
       "title                object\n",
       "genres               object\n",
       "release_date         object\n",
       "release_country      object\n",
       "movie_rating         object\n",
       "                      ...  \n",
       "plot                 object\n",
       "cast                 object\n",
       "language             object\n",
       "filming_locations    object\n",
       "budget               object\n",
       "Length: 12, dtype: object"
      ]
     },
     "execution_count": 8,
     "metadata": {},
     "output_type": "execute_result"
    }
   ],
   "source": [
    "df.dtypes"
   ]
  },
  {
   "cell_type": "markdown",
   "metadata": {},
   "source": [
    "Zu den ersten Schritten gehört heraus zu finden wie viele NaN, also fehlende Werte (\"missing values\") der Datensatz aufweist.\n",
    "\n",
    "Pandas verwendet für fehlende Werte die numpy-Implementierung NaN. NaN steht für Not a Number und kann frei übersetzt als Missing Value bezeichnet werden. Über den Befehl ``isna()`` finden wir die NaN-Werte des Datensatz, dann müssen wir diese nur noch addieren und der Größe nach sortieren, um einen guten Überblick zu behalten. "
   ]
  },
  {
   "cell_type": "code",
   "execution_count": 11,
   "metadata": {},
   "outputs": [
    {
     "data": {
      "text/plain": [
       "title                   0\n",
       "release_date            0\n",
       "release_country         0\n",
       "genres                  1\n",
       "plot                    1\n",
       "                     ... \n",
       "review_rating         252\n",
       "movie_run_time        544\n",
       "filming_locations    1232\n",
       "movie_rating         1877\n",
       "budget               2094\n",
       "Length: 12, dtype: int64"
      ]
     },
     "execution_count": 11,
     "metadata": {},
     "output_type": "execute_result"
    }
   ],
   "source": [
    "df.isna().sum().sort_values()"
   ]
  },
  {
   "cell_type": "markdown",
   "metadata": {},
   "source": [
    "Besonders viele fehlende Werte zeigen die Spalten filming_locations, movie_rating und budget.   "
   ]
  },
  {
   "cell_type": "code",
   "execution_count": null,
   "metadata": {},
   "outputs": [],
   "source": []
  },
  {
   "cell_type": "code",
   "execution_count": 3,
   "metadata": {},
   "outputs": [],
   "source": [
    "df = (df.sort_values(by=\"title\", ascending=False)\n",
    "       .sort_values(by=\"review_rating\", ascending=False)\n",
    "       .assign(release_date=lambda x: pd.to_datetime(x['release_date']))\n",
    "       .assign(release_year=df.title.apply(lambda st: st[st.find(\"(\")+1:st.find(\")\")]))\n",
    "       .reindex(columns=['title', 'release_year', 'genres', 'release_date', 'release_country', 'movie_rating','review_rating', 'movie_run_time', 'plot', 'cast', 'language', 'filming_locations', 'budget']))"
   ]
  },
  {
   "cell_type": "code",
   "execution_count": 4,
   "metadata": {},
   "outputs": [
    {
     "data": {
      "text/html": [
       "<div>\n",
       "<style scoped>\n",
       "    .dataframe tbody tr th:only-of-type {\n",
       "        vertical-align: middle;\n",
       "    }\n",
       "\n",
       "    .dataframe tbody tr th {\n",
       "        vertical-align: top;\n",
       "    }\n",
       "\n",
       "    .dataframe thead th {\n",
       "        text-align: right;\n",
       "    }\n",
       "</style>\n",
       "<table border=\"1\" class=\"dataframe\">\n",
       "  <thead>\n",
       "    <tr style=\"text-align: right;\">\n",
       "      <th></th>\n",
       "      <th>title</th>\n",
       "      <th>release_year</th>\n",
       "      <th>genres</th>\n",
       "      <th>release_date</th>\n",
       "      <th>release_country</th>\n",
       "      <th>movie_rating</th>\n",
       "      <th>review_rating</th>\n",
       "      <th>movie_run_time</th>\n",
       "      <th>plot</th>\n",
       "      <th>cast</th>\n",
       "      <th>language</th>\n",
       "      <th>filming_locations</th>\n",
       "      <th>budget</th>\n",
       "    </tr>\n",
       "  </thead>\n",
       "  <tbody>\n",
       "    <tr>\n",
       "      <td>774</td>\n",
       "      <td>Johann Karlo's Gun Driver (2016)</td>\n",
       "      <td>2016</td>\n",
       "      <td>Action| Adventure| Fantasy| Horror| Sci-Fi| We...</td>\n",
       "      <td>2016-09-01</td>\n",
       "      <td>USA</td>\n",
       "      <td>NaN</td>\n",
       "      <td>9.3</td>\n",
       "      <td>52 min</td>\n",
       "      <td>Directed by Johann Karlo. With Curtis Wayne Jo...</td>\n",
       "      <td>Curtis Wayne Johnson II|Megan Hanks|Andres Per...</td>\n",
       "      <td>English</td>\n",
       "      <td>Tucson, Arizona, USA</td>\n",
       "      <td>$5,000</td>\n",
       "    </tr>\n",
       "    <tr>\n",
       "      <td>1667</td>\n",
       "      <td>Hell Mountain (2016)</td>\n",
       "      <td>2016</td>\n",
       "      <td>Horror</td>\n",
       "      <td>2016-01-01</td>\n",
       "      <td>USA</td>\n",
       "      <td>NaN</td>\n",
       "      <td>9.2</td>\n",
       "      <td>92 min</td>\n",
       "      <td>Directed by Jesse Pomeroy. With Megan Collaso,...</td>\n",
       "      <td>Megan Collaso|Taylor Dooley|Markus Innocenti|C...</td>\n",
       "      <td>English</td>\n",
       "      <td>NaN</td>\n",
       "      <td>NaN</td>\n",
       "    </tr>\n",
       "    <tr>\n",
       "      <td>1221</td>\n",
       "      <td>Barrio Tales 2 (2016)</td>\n",
       "      <td>2016</td>\n",
       "      <td>Comedy| Horror</td>\n",
       "      <td>2016-01-01</td>\n",
       "      <td>USA</td>\n",
       "      <td>NaN</td>\n",
       "      <td>9.2</td>\n",
       "      <td>80 min</td>\n",
       "      <td>Directed by Jarret Tarnol. With Alexander Agui...</td>\n",
       "      <td>Alexander Aguila|Ronnie Alvarez|Alberto Barros...</td>\n",
       "      <td>English</td>\n",
       "      <td>Los Angeles, California, USA</td>\n",
       "      <td>NaN</td>\n",
       "    </tr>\n",
       "    <tr>\n",
       "      <td>1588</td>\n",
       "      <td>Teniente Gimo (2016)</td>\n",
       "      <td>2016</td>\n",
       "      <td>Horror</td>\n",
       "      <td>2016-06-01</td>\n",
       "      <td>Philippines</td>\n",
       "      <td>NaN</td>\n",
       "      <td>9.1</td>\n",
       "      <td>NaN</td>\n",
       "      <td>Directed by Roland Sanchez, Roland Sanchez. Wi...</td>\n",
       "      <td>John Regala|Kate Brios|Julio Diaz|Mon Confiado...</td>\n",
       "      <td>Filipino|Tagalog|Visayan</td>\n",
       "      <td>NaN</td>\n",
       "      <td>NaN</td>\n",
       "    </tr>\n",
       "    <tr>\n",
       "      <td>2257</td>\n",
       "      <td>Family Possessions (2016)</td>\n",
       "      <td>2016</td>\n",
       "      <td>Horror</td>\n",
       "      <td>2016-10-21</td>\n",
       "      <td>USA</td>\n",
       "      <td>NaN</td>\n",
       "      <td>9.0</td>\n",
       "      <td>NaN</td>\n",
       "      <td>Directed by Tommy Faircloth. With Mark Patton,...</td>\n",
       "      <td>Mark Patton|Felissa Rose|Jason Vail|Suzie Hain...</td>\n",
       "      <td>NaN</td>\n",
       "      <td>NaN</td>\n",
       "      <td>NaN</td>\n",
       "    </tr>\n",
       "    <tr>\n",
       "      <td>...</td>\n",
       "      <td>...</td>\n",
       "      <td>...</td>\n",
       "      <td>...</td>\n",
       "      <td>...</td>\n",
       "      <td>...</td>\n",
       "      <td>...</td>\n",
       "      <td>...</td>\n",
       "      <td>...</td>\n",
       "      <td>...</td>\n",
       "      <td>...</td>\n",
       "      <td>...</td>\n",
       "      <td>...</td>\n",
       "      <td>...</td>\n",
       "    </tr>\n",
       "    <tr>\n",
       "      <td>1392</td>\n",
       "      <td>Dark Entry (2016)</td>\n",
       "      <td>2016</td>\n",
       "      <td>Horror</td>\n",
       "      <td>2016-04-20</td>\n",
       "      <td>USA</td>\n",
       "      <td>NOT RATED</td>\n",
       "      <td>NaN</td>\n",
       "      <td>87 min</td>\n",
       "      <td>Directed by Thomas David Dean. With Thomas Dav...</td>\n",
       "      <td>Thomas David Dean|Jessica Anne Barone</td>\n",
       "      <td>English</td>\n",
       "      <td>Litchfield, Connecticut, USA</td>\n",
       "      <td>$50,000</td>\n",
       "    </tr>\n",
       "    <tr>\n",
       "      <td>1246</td>\n",
       "      <td>Coulrophobia (2016)</td>\n",
       "      <td>2016</td>\n",
       "      <td>Horror</td>\n",
       "      <td>2016-01-20</td>\n",
       "      <td>UK</td>\n",
       "      <td>NaN</td>\n",
       "      <td>NaN</td>\n",
       "      <td>85 min</td>\n",
       "      <td>Directed by Warren Speed. With Pete Bennett, D...</td>\n",
       "      <td>Pete Bennett|Daniella D'Ville|Roxy Bordeaux|Wa...</td>\n",
       "      <td>English</td>\n",
       "      <td>Rowlands Gill, Durham, England, UK</td>\n",
       "      <td>£50,000</td>\n",
       "    </tr>\n",
       "    <tr>\n",
       "      <td>1344</td>\n",
       "      <td>Bayou Tales (2016)</td>\n",
       "      <td>2016</td>\n",
       "      <td>Horror</td>\n",
       "      <td>2016-04-06</td>\n",
       "      <td>USA</td>\n",
       "      <td>NaN</td>\n",
       "      <td>NaN</td>\n",
       "      <td>NaN</td>\n",
       "      <td>Directed by David DuBos. With Kim Baptiste, Ro...</td>\n",
       "      <td>Kim Baptiste|Roger Bart|Neil Brown Jr.|Ian Cas...</td>\n",
       "      <td>English</td>\n",
       "      <td>New Orleans, Louisiana, USA</td>\n",
       "      <td>$1,500,000</td>\n",
       "    </tr>\n",
       "    <tr>\n",
       "      <td>868</td>\n",
       "      <td>Aurora (2016)</td>\n",
       "      <td>2016</td>\n",
       "      <td>Horror</td>\n",
       "      <td>2016-01-01</td>\n",
       "      <td>Brazil</td>\n",
       "      <td>NaN</td>\n",
       "      <td>NaN</td>\n",
       "      <td>NaN</td>\n",
       "      <td>Directed by José Eduardo Belmonte. With João B...</td>\n",
       "      <td>João Bourbonnais|Humberto Carrão|Juliano Cazar...</td>\n",
       "      <td>Portuguese</td>\n",
       "      <td>NaN</td>\n",
       "      <td>NaN</td>\n",
       "    </tr>\n",
       "    <tr>\n",
       "      <td>752</td>\n",
       "      <td>Ascension (2016)</td>\n",
       "      <td>2016</td>\n",
       "      <td>Horror| Sci-Fi| Thriller</td>\n",
       "      <td>2016-07-10</td>\n",
       "      <td>USA</td>\n",
       "      <td>NaN</td>\n",
       "      <td>NaN</td>\n",
       "      <td>NaN</td>\n",
       "      <td>Directed by Ross Wachsman. With Anne Betancour...</td>\n",
       "      <td>Anne Betancourt|Christie Burke|Robyn Cohen|Rob...</td>\n",
       "      <td>English</td>\n",
       "      <td>Altadena, California, USA</td>\n",
       "      <td>NaN</td>\n",
       "    </tr>\n",
       "  </tbody>\n",
       "</table>\n",
       "<p>614 rows × 13 columns</p>\n",
       "</div>"
      ],
      "text/plain": [
       "                                 title release_year  \\\n",
       "774   Johann Karlo's Gun Driver (2016)         2016   \n",
       "1667              Hell Mountain (2016)         2016   \n",
       "1221             Barrio Tales 2 (2016)         2016   \n",
       "1588              Teniente Gimo (2016)         2016   \n",
       "2257         Family Possessions (2016)         2016   \n",
       "...                                ...          ...   \n",
       "1392                 Dark Entry (2016)         2016   \n",
       "1246               Coulrophobia (2016)         2016   \n",
       "1344                Bayou Tales (2016)         2016   \n",
       "868                      Aurora (2016)         2016   \n",
       "752                   Ascension (2016)         2016   \n",
       "\n",
       "                                                 genres release_date  \\\n",
       "774   Action| Adventure| Fantasy| Horror| Sci-Fi| We...   2016-09-01   \n",
       "1667                                             Horror   2016-01-01   \n",
       "1221                                     Comedy| Horror   2016-01-01   \n",
       "1588                                             Horror   2016-06-01   \n",
       "2257                                             Horror   2016-10-21   \n",
       "...                                                 ...          ...   \n",
       "1392                                             Horror   2016-04-20   \n",
       "1246                                             Horror   2016-01-20   \n",
       "1344                                             Horror   2016-04-06   \n",
       "868                                              Horror   2016-01-01   \n",
       "752                            Horror| Sci-Fi| Thriller   2016-07-10   \n",
       "\n",
       "     release_country movie_rating  review_rating movie_run_time  \\\n",
       "774              USA          NaN            9.3         52 min   \n",
       "1667             USA          NaN            9.2         92 min   \n",
       "1221             USA          NaN            9.2         80 min   \n",
       "1588     Philippines          NaN            9.1            NaN   \n",
       "2257             USA          NaN            9.0            NaN   \n",
       "...              ...          ...            ...            ...   \n",
       "1392             USA    NOT RATED            NaN         87 min   \n",
       "1246              UK          NaN            NaN         85 min   \n",
       "1344             USA          NaN            NaN            NaN   \n",
       "868           Brazil          NaN            NaN            NaN   \n",
       "752              USA          NaN            NaN            NaN   \n",
       "\n",
       "                                                   plot  \\\n",
       "774   Directed by Johann Karlo. With Curtis Wayne Jo...   \n",
       "1667  Directed by Jesse Pomeroy. With Megan Collaso,...   \n",
       "1221  Directed by Jarret Tarnol. With Alexander Agui...   \n",
       "1588  Directed by Roland Sanchez, Roland Sanchez. Wi...   \n",
       "2257  Directed by Tommy Faircloth. With Mark Patton,...   \n",
       "...                                                 ...   \n",
       "1392  Directed by Thomas David Dean. With Thomas Dav...   \n",
       "1246  Directed by Warren Speed. With Pete Bennett, D...   \n",
       "1344  Directed by David DuBos. With Kim Baptiste, Ro...   \n",
       "868   Directed by José Eduardo Belmonte. With João B...   \n",
       "752   Directed by Ross Wachsman. With Anne Betancour...   \n",
       "\n",
       "                                                   cast  \\\n",
       "774   Curtis Wayne Johnson II|Megan Hanks|Andres Per...   \n",
       "1667  Megan Collaso|Taylor Dooley|Markus Innocenti|C...   \n",
       "1221  Alexander Aguila|Ronnie Alvarez|Alberto Barros...   \n",
       "1588  John Regala|Kate Brios|Julio Diaz|Mon Confiado...   \n",
       "2257  Mark Patton|Felissa Rose|Jason Vail|Suzie Hain...   \n",
       "...                                                 ...   \n",
       "1392              Thomas David Dean|Jessica Anne Barone   \n",
       "1246  Pete Bennett|Daniella D'Ville|Roxy Bordeaux|Wa...   \n",
       "1344  Kim Baptiste|Roger Bart|Neil Brown Jr.|Ian Cas...   \n",
       "868   João Bourbonnais|Humberto Carrão|Juliano Cazar...   \n",
       "752   Anne Betancourt|Christie Burke|Robyn Cohen|Rob...   \n",
       "\n",
       "                      language                   filming_locations      budget  \n",
       "774                    English                Tucson, Arizona, USA      $5,000  \n",
       "1667                   English                                 NaN         NaN  \n",
       "1221                   English        Los Angeles, California, USA         NaN  \n",
       "1588  Filipino|Tagalog|Visayan                                 NaN         NaN  \n",
       "2257                       NaN                                 NaN         NaN  \n",
       "...                        ...                                 ...         ...  \n",
       "1392                   English        Litchfield, Connecticut, USA     $50,000  \n",
       "1246                   English  Rowlands Gill, Durham, England, UK     £50,000  \n",
       "1344                   English         New Orleans, Louisiana, USA  $1,500,000  \n",
       "868                 Portuguese                                 NaN         NaN  \n",
       "752                    English           Altadena, California, USA         NaN  \n",
       "\n",
       "[614 rows x 13 columns]"
      ]
     },
     "execution_count": 4,
     "metadata": {},
     "output_type": "execute_result"
    }
   ],
   "source": [
    "df.loc[df['release_year'] == \"2016\"]"
   ]
  },
  {
   "cell_type": "code",
   "execution_count": null,
   "metadata": {},
   "outputs": [],
   "source": []
  },
  {
   "cell_type": "code",
   "execution_count": null,
   "metadata": {},
   "outputs": [],
   "source": []
  },
  {
   "cell_type": "code",
   "execution_count": null,
   "metadata": {},
   "outputs": [],
   "source": []
  },
  {
   "cell_type": "code",
   "execution_count": null,
   "metadata": {},
   "outputs": [],
   "source": []
  },
  {
   "cell_type": "code",
   "execution_count": null,
   "metadata": {},
   "outputs": [],
   "source": []
  },
  {
   "cell_type": "code",
   "execution_count": null,
   "metadata": {},
   "outputs": [],
   "source": []
  },
  {
   "cell_type": "code",
   "execution_count": null,
   "metadata": {},
   "outputs": [],
   "source": []
  },
  {
   "cell_type": "code",
   "execution_count": null,
   "metadata": {},
   "outputs": [],
   "source": []
  },
  {
   "cell_type": "code",
   "execution_count": null,
   "metadata": {},
   "outputs": [],
   "source": []
  },
  {
   "cell_type": "code",
   "execution_count": null,
   "metadata": {},
   "outputs": [],
   "source": []
  },
  {
   "cell_type": "code",
   "execution_count": null,
   "metadata": {},
   "outputs": [],
   "source": []
  },
  {
   "cell_type": "code",
   "execution_count": null,
   "metadata": {},
   "outputs": [],
   "source": []
  },
  {
   "cell_type": "code",
   "execution_count": null,
   "metadata": {},
   "outputs": [],
   "source": []
  },
  {
   "cell_type": "code",
   "execution_count": null,
   "metadata": {},
   "outputs": [],
   "source": []
  },
  {
   "cell_type": "code",
   "execution_count": 28,
   "metadata": {},
   "outputs": [
    {
     "data": {
      "text/html": [
       "<div>\n",
       "<style scoped>\n",
       "    .dataframe tbody tr th:only-of-type {\n",
       "        vertical-align: middle;\n",
       "    }\n",
       "\n",
       "    .dataframe tbody tr th {\n",
       "        vertical-align: top;\n",
       "    }\n",
       "\n",
       "    .dataframe thead th {\n",
       "        text-align: right;\n",
       "    }\n",
       "</style>\n",
       "<table border=\"1\" class=\"dataframe\">\n",
       "  <thead>\n",
       "    <tr style=\"text-align: right;\">\n",
       "      <th></th>\n",
       "      <th>review_rating</th>\n",
       "      <th>title</th>\n",
       "    </tr>\n",
       "  </thead>\n",
       "  <tbody>\n",
       "    <tr>\n",
       "      <td>0</td>\n",
       "      <td>0</td>\n",
       "      <td>foo(2016)</td>\n",
       "    </tr>\n",
       "    <tr>\n",
       "      <td>1</td>\n",
       "      <td>1</td>\n",
       "      <td>bar(2017)</td>\n",
       "    </tr>\n",
       "    <tr>\n",
       "      <td>2</td>\n",
       "      <td>2</td>\n",
       "      <td>baz(2018)</td>\n",
       "    </tr>\n",
       "  </tbody>\n",
       "</table>\n",
       "</div>"
      ],
      "text/plain": [
       "   review_rating      title\n",
       "0              0  foo(2016)\n",
       "1              1  bar(2017)\n",
       "2              2  baz(2018)"
      ]
     },
     "execution_count": 28,
     "metadata": {},
     "output_type": "execute_result"
    }
   ],
   "source": [
    "df = pd.DataFrame({'review_rating': range(3),\n",
    "                   'title': 'foo(2016) bar(2017) baz(2018)'.split()})\n",
    "df"
   ]
  },
  {
   "cell_type": "code",
   "execution_count": 31,
   "metadata": {},
   "outputs": [],
   "source": [
    "newly_assigned = df.sort_values(\"review_rating\", ascending=False) \\\n",
    "   .assign(release_year=lambda x: x.title.str.extract('\\((.*)\\)')) \\\n",
    "   .loc[lambda x: x.release_year == \"2016\"]"
   ]
  },
  {
   "cell_type": "code",
   "execution_count": 32,
   "metadata": {},
   "outputs": [
    {
     "data": {
      "text/html": [
       "<div>\n",
       "<style scoped>\n",
       "    .dataframe tbody tr th:only-of-type {\n",
       "        vertical-align: middle;\n",
       "    }\n",
       "\n",
       "    .dataframe tbody tr th {\n",
       "        vertical-align: top;\n",
       "    }\n",
       "\n",
       "    .dataframe thead th {\n",
       "        text-align: right;\n",
       "    }\n",
       "</style>\n",
       "<table border=\"1\" class=\"dataframe\">\n",
       "  <thead>\n",
       "    <tr style=\"text-align: right;\">\n",
       "      <th></th>\n",
       "      <th>review_rating</th>\n",
       "      <th>title</th>\n",
       "      <th>release_year</th>\n",
       "    </tr>\n",
       "  </thead>\n",
       "  <tbody>\n",
       "    <tr>\n",
       "      <td>0</td>\n",
       "      <td>0</td>\n",
       "      <td>foo(2016)</td>\n",
       "      <td>2016</td>\n",
       "    </tr>\n",
       "  </tbody>\n",
       "</table>\n",
       "</div>"
      ],
      "text/plain": [
       "   review_rating      title release_year\n",
       "0              0  foo(2016)         2016"
      ]
     },
     "execution_count": 32,
     "metadata": {},
     "output_type": "execute_result"
    }
   ],
   "source": [
    "df.sort_values(\"review_rating\", ascending=False) \\\n",
    "   .assign(release_year=lambda x: x.title.str.extract('\\((.*)\\)')) \\\n",
    "   .loc[lambda x: x.release_year == \"2016\"]"
   ]
  },
  {
   "cell_type": "code",
   "execution_count": null,
   "metadata": {},
   "outputs": [],
   "source": [
    "fp = r\"C:\\Users\\tim\\Programmieren\\Datasets\\tidytuesday-master\\data\\2019\\2019-10-22\\horror_movies.csv\"\n",
    "\n",
    "df = pd.read_csv(fp)"
   ]
  },
  {
   "cell_type": "code",
   "execution_count": 34,
   "metadata": {},
   "outputs": [],
   "source": [
    "jobs_gender = pd.read_csv(\"https://raw.githubusercontent.com/rfordatascience/tidytuesday/master/data/2019/2019-03-05/jobs_gender.csv\")\n",
    "earnings_female = pd.read_csv(\"https://raw.githubusercontent.com/rfordatascience/tidytuesday/master/data/2019/2019-03-05/earnings_female.csv\") \n",
    "employed_gender = pd.read_csv(\"https://raw.githubusercontent.com/rfordatascience/tidytuesday/master/data/2019/2019-03-05/employed_gender.csv\") "
   ]
  },
  {
   "cell_type": "code",
   "execution_count": 35,
   "metadata": {},
   "outputs": [
    {
     "data": {
      "text/html": [
       "<div>\n",
       "<style scoped>\n",
       "    .dataframe tbody tr th:only-of-type {\n",
       "        vertical-align: middle;\n",
       "    }\n",
       "\n",
       "    .dataframe tbody tr th {\n",
       "        vertical-align: top;\n",
       "    }\n",
       "\n",
       "    .dataframe thead th {\n",
       "        text-align: right;\n",
       "    }\n",
       "</style>\n",
       "<table border=\"1\" class=\"dataframe\">\n",
       "  <thead>\n",
       "    <tr style=\"text-align: right;\">\n",
       "      <th></th>\n",
       "      <th>year</th>\n",
       "      <th>total_full_time</th>\n",
       "      <th>total_part_time</th>\n",
       "      <th>full_time_female</th>\n",
       "      <th>part_time_female</th>\n",
       "      <th>full_time_male</th>\n",
       "      <th>part_time_male</th>\n",
       "    </tr>\n",
       "  </thead>\n",
       "  <tbody>\n",
       "    <tr>\n",
       "      <td>0</td>\n",
       "      <td>1968</td>\n",
       "      <td>86.0</td>\n",
       "      <td>14.0</td>\n",
       "      <td>75.1</td>\n",
       "      <td>24.9</td>\n",
       "      <td>92.2</td>\n",
       "      <td>7.8</td>\n",
       "    </tr>\n",
       "    <tr>\n",
       "      <td>1</td>\n",
       "      <td>1969</td>\n",
       "      <td>85.5</td>\n",
       "      <td>14.5</td>\n",
       "      <td>74.9</td>\n",
       "      <td>25.1</td>\n",
       "      <td>91.8</td>\n",
       "      <td>8.2</td>\n",
       "    </tr>\n",
       "    <tr>\n",
       "      <td>2</td>\n",
       "      <td>1970</td>\n",
       "      <td>84.8</td>\n",
       "      <td>15.2</td>\n",
       "      <td>73.9</td>\n",
       "      <td>26.1</td>\n",
       "      <td>91.5</td>\n",
       "      <td>8.5</td>\n",
       "    </tr>\n",
       "    <tr>\n",
       "      <td>3</td>\n",
       "      <td>1971</td>\n",
       "      <td>84.4</td>\n",
       "      <td>15.6</td>\n",
       "      <td>73.2</td>\n",
       "      <td>26.8</td>\n",
       "      <td>91.2</td>\n",
       "      <td>8.8</td>\n",
       "    </tr>\n",
       "    <tr>\n",
       "      <td>4</td>\n",
       "      <td>1972</td>\n",
       "      <td>84.3</td>\n",
       "      <td>15.7</td>\n",
       "      <td>73.1</td>\n",
       "      <td>26.9</td>\n",
       "      <td>91.1</td>\n",
       "      <td>8.9</td>\n",
       "    </tr>\n",
       "    <tr>\n",
       "      <td>...</td>\n",
       "      <td>...</td>\n",
       "      <td>...</td>\n",
       "      <td>...</td>\n",
       "      <td>...</td>\n",
       "      <td>...</td>\n",
       "      <td>...</td>\n",
       "      <td>...</td>\n",
       "    </tr>\n",
       "    <tr>\n",
       "      <td>44</td>\n",
       "      <td>2012</td>\n",
       "      <td>80.6</td>\n",
       "      <td>19.4</td>\n",
       "      <td>73.7</td>\n",
       "      <td>26.3</td>\n",
       "      <td>86.7</td>\n",
       "      <td>13.3</td>\n",
       "    </tr>\n",
       "    <tr>\n",
       "      <td>45</td>\n",
       "      <td>2013</td>\n",
       "      <td>80.8</td>\n",
       "      <td>19.2</td>\n",
       "      <td>74.0</td>\n",
       "      <td>26.0</td>\n",
       "      <td>86.9</td>\n",
       "      <td>13.1</td>\n",
       "    </tr>\n",
       "    <tr>\n",
       "      <td>46</td>\n",
       "      <td>2014</td>\n",
       "      <td>81.1</td>\n",
       "      <td>18.9</td>\n",
       "      <td>74.2</td>\n",
       "      <td>25.8</td>\n",
       "      <td>87.3</td>\n",
       "      <td>12.7</td>\n",
       "    </tr>\n",
       "    <tr>\n",
       "      <td>47</td>\n",
       "      <td>2015</td>\n",
       "      <td>81.6</td>\n",
       "      <td>18.4</td>\n",
       "      <td>74.8</td>\n",
       "      <td>25.2</td>\n",
       "      <td>87.6</td>\n",
       "      <td>12.4</td>\n",
       "    </tr>\n",
       "    <tr>\n",
       "      <td>48</td>\n",
       "      <td>2016</td>\n",
       "      <td>81.7</td>\n",
       "      <td>18.3</td>\n",
       "      <td>75.1</td>\n",
       "      <td>24.9</td>\n",
       "      <td>87.6</td>\n",
       "      <td>12.4</td>\n",
       "    </tr>\n",
       "  </tbody>\n",
       "</table>\n",
       "<p>49 rows × 7 columns</p>\n",
       "</div>"
      ],
      "text/plain": [
       "    year  total_full_time  total_part_time  full_time_female  \\\n",
       "0   1968             86.0             14.0              75.1   \n",
       "1   1969             85.5             14.5              74.9   \n",
       "2   1970             84.8             15.2              73.9   \n",
       "3   1971             84.4             15.6              73.2   \n",
       "4   1972             84.3             15.7              73.1   \n",
       "..   ...              ...              ...               ...   \n",
       "44  2012             80.6             19.4              73.7   \n",
       "45  2013             80.8             19.2              74.0   \n",
       "46  2014             81.1             18.9              74.2   \n",
       "47  2015             81.6             18.4              74.8   \n",
       "48  2016             81.7             18.3              75.1   \n",
       "\n",
       "    part_time_female  full_time_male  part_time_male  \n",
       "0               24.9            92.2             7.8  \n",
       "1               25.1            91.8             8.2  \n",
       "2               26.1            91.5             8.5  \n",
       "3               26.8            91.2             8.8  \n",
       "4               26.9            91.1             8.9  \n",
       "..               ...             ...             ...  \n",
       "44              26.3            86.7            13.3  \n",
       "45              26.0            86.9            13.1  \n",
       "46              25.8            87.3            12.7  \n",
       "47              25.2            87.6            12.4  \n",
       "48              24.9            87.6            12.4  \n",
       "\n",
       "[49 rows x 7 columns]"
      ]
     },
     "execution_count": 35,
     "metadata": {},
     "output_type": "execute_result"
    }
   ],
   "source": [
    "employed_gender"
   ]
  },
  {
   "cell_type": "code",
   "execution_count": 36,
   "metadata": {},
   "outputs": [
    {
     "data": {
      "text/html": [
       "<div>\n",
       "<style scoped>\n",
       "    .dataframe tbody tr th:only-of-type {\n",
       "        vertical-align: middle;\n",
       "    }\n",
       "\n",
       "    .dataframe tbody tr th {\n",
       "        vertical-align: top;\n",
       "    }\n",
       "\n",
       "    .dataframe thead th {\n",
       "        text-align: right;\n",
       "    }\n",
       "</style>\n",
       "<table border=\"1\" class=\"dataframe\">\n",
       "  <thead>\n",
       "    <tr style=\"text-align: right;\">\n",
       "      <th></th>\n",
       "      <th>year</th>\n",
       "      <th>occupation</th>\n",
       "      <th>major_category</th>\n",
       "      <th>minor_category</th>\n",
       "      <th>total_workers</th>\n",
       "      <th>workers_male</th>\n",
       "      <th>workers_female</th>\n",
       "      <th>percent_female</th>\n",
       "      <th>total_earnings</th>\n",
       "      <th>total_earnings_male</th>\n",
       "      <th>total_earnings_female</th>\n",
       "      <th>wage_percent_of_male</th>\n",
       "    </tr>\n",
       "  </thead>\n",
       "  <tbody>\n",
       "    <tr>\n",
       "      <td>0</td>\n",
       "      <td>2013</td>\n",
       "      <td>Chief executives</td>\n",
       "      <td>Management, Business, and Financial</td>\n",
       "      <td>Management</td>\n",
       "      <td>1024259</td>\n",
       "      <td>782400</td>\n",
       "      <td>241859</td>\n",
       "      <td>23.600000</td>\n",
       "      <td>120254</td>\n",
       "      <td>126142.0</td>\n",
       "      <td>95921.0</td>\n",
       "      <td>76.042080</td>\n",
       "    </tr>\n",
       "    <tr>\n",
       "      <td>1</td>\n",
       "      <td>2013</td>\n",
       "      <td>General and operations managers</td>\n",
       "      <td>Management, Business, and Financial</td>\n",
       "      <td>Management</td>\n",
       "      <td>977284</td>\n",
       "      <td>681627</td>\n",
       "      <td>295657</td>\n",
       "      <td>30.300000</td>\n",
       "      <td>73557</td>\n",
       "      <td>81041.0</td>\n",
       "      <td>60759.0</td>\n",
       "      <td>74.973162</td>\n",
       "    </tr>\n",
       "    <tr>\n",
       "      <td>2</td>\n",
       "      <td>2013</td>\n",
       "      <td>Legislators</td>\n",
       "      <td>Management, Business, and Financial</td>\n",
       "      <td>Management</td>\n",
       "      <td>14815</td>\n",
       "      <td>8375</td>\n",
       "      <td>6440</td>\n",
       "      <td>43.500000</td>\n",
       "      <td>67155</td>\n",
       "      <td>71530.0</td>\n",
       "      <td>65325.0</td>\n",
       "      <td>91.325318</td>\n",
       "    </tr>\n",
       "    <tr>\n",
       "      <td>3</td>\n",
       "      <td>2013</td>\n",
       "      <td>Advertising and promotions managers</td>\n",
       "      <td>Management, Business, and Financial</td>\n",
       "      <td>Management</td>\n",
       "      <td>43015</td>\n",
       "      <td>17775</td>\n",
       "      <td>25240</td>\n",
       "      <td>58.700000</td>\n",
       "      <td>61371</td>\n",
       "      <td>75190.0</td>\n",
       "      <td>55860.0</td>\n",
       "      <td>74.291794</td>\n",
       "    </tr>\n",
       "    <tr>\n",
       "      <td>4</td>\n",
       "      <td>2013</td>\n",
       "      <td>Marketing and sales managers</td>\n",
       "      <td>Management, Business, and Financial</td>\n",
       "      <td>Management</td>\n",
       "      <td>754514</td>\n",
       "      <td>440078</td>\n",
       "      <td>314436</td>\n",
       "      <td>41.700000</td>\n",
       "      <td>78455</td>\n",
       "      <td>91998.0</td>\n",
       "      <td>65040.0</td>\n",
       "      <td>70.697189</td>\n",
       "    </tr>\n",
       "    <tr>\n",
       "      <td>...</td>\n",
       "      <td>...</td>\n",
       "      <td>...</td>\n",
       "      <td>...</td>\n",
       "      <td>...</td>\n",
       "      <td>...</td>\n",
       "      <td>...</td>\n",
       "      <td>...</td>\n",
       "      <td>...</td>\n",
       "      <td>...</td>\n",
       "      <td>...</td>\n",
       "      <td>...</td>\n",
       "      <td>...</td>\n",
       "    </tr>\n",
       "    <tr>\n",
       "      <td>2083</td>\n",
       "      <td>2016</td>\n",
       "      <td>Pumping station operators</td>\n",
       "      <td>Production, Transportation, and Material Moving</td>\n",
       "      <td>Material Moving</td>\n",
       "      <td>19540</td>\n",
       "      <td>18917</td>\n",
       "      <td>623</td>\n",
       "      <td>3.188332</td>\n",
       "      <td>62096</td>\n",
       "      <td>62053.0</td>\n",
       "      <td>67083.0</td>\n",
       "      <td>NaN</td>\n",
       "    </tr>\n",
       "    <tr>\n",
       "      <td>2084</td>\n",
       "      <td>2016</td>\n",
       "      <td>Refuse and recyclable material collectors</td>\n",
       "      <td>Production, Transportation, and Material Moving</td>\n",
       "      <td>Material Moving</td>\n",
       "      <td>65170</td>\n",
       "      <td>58851</td>\n",
       "      <td>6319</td>\n",
       "      <td>9.696179</td>\n",
       "      <td>32367</td>\n",
       "      <td>34488.0</td>\n",
       "      <td>24268.0</td>\n",
       "      <td>NaN</td>\n",
       "    </tr>\n",
       "    <tr>\n",
       "      <td>2085</td>\n",
       "      <td>2016</td>\n",
       "      <td>Mine shuttle car operators</td>\n",
       "      <td>Production, Transportation, and Material Moving</td>\n",
       "      <td>Material Moving</td>\n",
       "      <td>732</td>\n",
       "      <td>722</td>\n",
       "      <td>10</td>\n",
       "      <td>1.366120</td>\n",
       "      <td>43866</td>\n",
       "      <td>43808.0</td>\n",
       "      <td>NaN</td>\n",
       "      <td>NaN</td>\n",
       "    </tr>\n",
       "    <tr>\n",
       "      <td>2086</td>\n",
       "      <td>2016</td>\n",
       "      <td>Tank car, truck, and ship loaders</td>\n",
       "      <td>Production, Transportation, and Material Moving</td>\n",
       "      <td>Material Moving</td>\n",
       "      <td>4198</td>\n",
       "      <td>4155</td>\n",
       "      <td>43</td>\n",
       "      <td>1.024297</td>\n",
       "      <td>44079</td>\n",
       "      <td>44487.0</td>\n",
       "      <td>NaN</td>\n",
       "      <td>NaN</td>\n",
       "    </tr>\n",
       "    <tr>\n",
       "      <td>2087</td>\n",
       "      <td>2016</td>\n",
       "      <td>Material moving workers, all other</td>\n",
       "      <td>Production, Transportation, and Material Moving</td>\n",
       "      <td>Material Moving</td>\n",
       "      <td>31072</td>\n",
       "      <td>26478</td>\n",
       "      <td>4594</td>\n",
       "      <td>14.785015</td>\n",
       "      <td>35716</td>\n",
       "      <td>36013.0</td>\n",
       "      <td>31922.0</td>\n",
       "      <td>NaN</td>\n",
       "    </tr>\n",
       "  </tbody>\n",
       "</table>\n",
       "<p>2088 rows × 12 columns</p>\n",
       "</div>"
      ],
      "text/plain": [
       "      year                                 occupation  \\\n",
       "0     2013                           Chief executives   \n",
       "1     2013            General and operations managers   \n",
       "2     2013                                Legislators   \n",
       "3     2013        Advertising and promotions managers   \n",
       "4     2013               Marketing and sales managers   \n",
       "...    ...                                        ...   \n",
       "2083  2016                  Pumping station operators   \n",
       "2084  2016  Refuse and recyclable material collectors   \n",
       "2085  2016                 Mine shuttle car operators   \n",
       "2086  2016          Tank car, truck, and ship loaders   \n",
       "2087  2016         Material moving workers, all other   \n",
       "\n",
       "                                       major_category   minor_category  \\\n",
       "0                 Management, Business, and Financial       Management   \n",
       "1                 Management, Business, and Financial       Management   \n",
       "2                 Management, Business, and Financial       Management   \n",
       "3                 Management, Business, and Financial       Management   \n",
       "4                 Management, Business, and Financial       Management   \n",
       "...                                               ...              ...   \n",
       "2083  Production, Transportation, and Material Moving  Material Moving   \n",
       "2084  Production, Transportation, and Material Moving  Material Moving   \n",
       "2085  Production, Transportation, and Material Moving  Material Moving   \n",
       "2086  Production, Transportation, and Material Moving  Material Moving   \n",
       "2087  Production, Transportation, and Material Moving  Material Moving   \n",
       "\n",
       "      total_workers  workers_male  workers_female  percent_female  \\\n",
       "0           1024259        782400          241859       23.600000   \n",
       "1            977284        681627          295657       30.300000   \n",
       "2             14815          8375            6440       43.500000   \n",
       "3             43015         17775           25240       58.700000   \n",
       "4            754514        440078          314436       41.700000   \n",
       "...             ...           ...             ...             ...   \n",
       "2083          19540         18917             623        3.188332   \n",
       "2084          65170         58851            6319        9.696179   \n",
       "2085            732           722              10        1.366120   \n",
       "2086           4198          4155              43        1.024297   \n",
       "2087          31072         26478            4594       14.785015   \n",
       "\n",
       "      total_earnings  total_earnings_male  total_earnings_female  \\\n",
       "0             120254             126142.0                95921.0   \n",
       "1              73557              81041.0                60759.0   \n",
       "2              67155              71530.0                65325.0   \n",
       "3              61371              75190.0                55860.0   \n",
       "4              78455              91998.0                65040.0   \n",
       "...              ...                  ...                    ...   \n",
       "2083           62096              62053.0                67083.0   \n",
       "2084           32367              34488.0                24268.0   \n",
       "2085           43866              43808.0                    NaN   \n",
       "2086           44079              44487.0                    NaN   \n",
       "2087           35716              36013.0                31922.0   \n",
       "\n",
       "      wage_percent_of_male  \n",
       "0                76.042080  \n",
       "1                74.973162  \n",
       "2                91.325318  \n",
       "3                74.291794  \n",
       "4                70.697189  \n",
       "...                    ...  \n",
       "2083                   NaN  \n",
       "2084                   NaN  \n",
       "2085                   NaN  \n",
       "2086                   NaN  \n",
       "2087                   NaN  \n",
       "\n",
       "[2088 rows x 12 columns]"
      ]
     },
     "execution_count": 36,
     "metadata": {},
     "output_type": "execute_result"
    }
   ],
   "source": [
    "jobs_gender"
   ]
  },
  {
   "cell_type": "code",
   "execution_count": 46,
   "metadata": {},
   "outputs": [
    {
     "data": {
      "text/plain": [
       "Nurse practitioners                                             4\n",
       "Automotive body and related repairers                           4\n",
       "Police and sheriff's patrol officers                            4\n",
       "Physical therapist assistants and aides                         4\n",
       "Coin, vending, and amusement machine servicers and repairers    4\n",
       "                                                               ..\n",
       "Computer , all other                                            4\n",
       "Photographers                                                   4\n",
       "Miscellaneous therapists, including exercise physiologists      4\n",
       "Agricultural engineers                                          4\n",
       "Small engine mechanics                                          4\n",
       "Name: occupation, Length: 522, dtype: int64"
      ]
     },
     "execution_count": 46,
     "metadata": {},
     "output_type": "execute_result"
    }
   ],
   "source": [
    "jobs_gender['occupation'].value_counts() "
   ]
  },
  {
   "cell_type": "code",
   "execution_count": 41,
   "metadata": {},
   "outputs": [
    {
     "data": {
      "text/plain": [
       "(2088, 12)"
      ]
     },
     "execution_count": 41,
     "metadata": {},
     "output_type": "execute_result"
    }
   ],
   "source": [
    "jobs_gender.shape"
   ]
  },
  {
   "cell_type": "code",
   "execution_count": 63,
   "metadata": {},
   "outputs": [],
   "source": [
    "import numpy as np"
   ]
  },
  {
   "cell_type": "code",
   "execution_count": 68,
   "metadata": {},
   "outputs": [
    {
     "data": {
      "text/plain": [
       "8"
      ]
     },
     "execution_count": 68,
     "metadata": {},
     "output_type": "execute_result"
    }
   ],
   "source": [
    "jobs_gender['major_category'].unique().size #wie viele unique values hat die Kategorie"
   ]
  },
  {
   "cell_type": "code",
   "execution_count": 74,
   "metadata": {},
   "outputs": [
    {
     "data": {
      "text/plain": [
       "{(2013,\n",
       "  'Computer, Engineering, and Science'): Int64Index([ 58,  59,  60,  61,  62,  63,  64,  65,  66,  67,  68,  69,  70,\n",
       "              71,  72,  73,  74,  75,  76,  77,  78,  79,  80,  81,  82,  83,\n",
       "              84,  85,  86,  87,  88,  89,  90,  91,  92,  93,  94,  95,  96,\n",
       "              97,  98,  99, 100, 101, 102, 103, 104, 105, 106, 107, 108, 109,\n",
       "             110, 111, 112, 113, 114, 115, 116],\n",
       "            dtype='int64'),\n",
       " (2013,\n",
       "  'Education, Legal, Community Service, Arts, and Media'): Int64Index([117, 118, 119, 120, 121, 122, 123, 124, 125, 126, 127, 128, 129,\n",
       "             130, 131, 132, 133, 134, 135, 136, 137, 138, 139, 140, 141, 142,\n",
       "             143, 144, 145, 146, 147, 148, 149, 150, 151, 152, 153, 154, 155,\n",
       "             156, 157, 158],\n",
       "            dtype='int64'),\n",
       " (2013,\n",
       "  'Healthcare Practitioners and Technical'): Int64Index([159, 160, 161, 162, 163, 164, 165, 166, 167, 168, 169, 170, 171,\n",
       "             172, 173, 174, 175, 176, 177, 178, 179, 180, 181, 182, 183, 184,\n",
       "             185, 186, 187, 188, 189, 190],\n",
       "            dtype='int64'),\n",
       " (2013,\n",
       "  'Management, Business, and Financial'): Int64Index([ 0,  1,  2,  3,  4,  5,  6,  7,  8,  9, 10, 11, 12, 13, 14, 15, 16,\n",
       "             17, 18, 19, 20, 21, 22, 23, 24, 25, 26, 27, 28, 29, 30, 31, 32, 33,\n",
       "             34, 35, 36, 37, 38, 39, 40, 41, 42, 43, 44, 45, 46, 47, 48, 49, 50,\n",
       "             51, 52, 53, 54, 55, 56, 57],\n",
       "            dtype='int64'),\n",
       " (2013,\n",
       "  'Natural Resources, Construction, and Maintenance'): Int64Index([329, 330, 331, 332, 333, 334, 335, 336, 337, 338, 339, 340, 341,\n",
       "             342, 343, 344, 345, 346, 347, 348, 349, 350, 351, 352, 353, 354,\n",
       "             355, 356, 357, 358, 359, 360, 361, 362, 363, 364, 365, 366, 367,\n",
       "             368, 369, 370, 371, 372, 373, 374, 375, 376, 377, 378, 379, 380,\n",
       "             381, 382, 383, 384, 385, 386, 387, 388, 389, 390, 391, 392, 393,\n",
       "             394, 395, 396, 397, 398, 399, 400, 401, 402, 403, 404, 405, 406,\n",
       "             407, 408, 409, 410],\n",
       "            dtype='int64'),\n",
       " (2013,\n",
       "  'Production, Transportation, and Material Moving'): Int64Index([411, 412, 413, 414, 415, 416, 417, 418, 419, 420,\n",
       "             ...\n",
       "             512, 513, 514, 515, 516, 517, 518, 519, 520, 521],\n",
       "            dtype='int64', length=111),\n",
       " (2013,\n",
       "  'Sales and Office'): Int64Index([259, 260, 261, 262, 263, 264, 265, 266, 267, 268, 269, 270, 271,\n",
       "             272, 273, 274, 275, 276, 277, 278, 279, 280, 281, 282, 283, 284,\n",
       "             285, 286, 287, 288, 289, 290, 291, 292, 293, 294, 295, 296, 297,\n",
       "             298, 299, 300, 301, 302, 303, 304, 305, 306, 307, 308, 309, 310,\n",
       "             311, 312, 313, 314, 315, 316, 317, 318, 319, 320, 321, 322, 323,\n",
       "             324, 325, 326, 327, 328],\n",
       "            dtype='int64'),\n",
       " (2013,\n",
       "  'Service'): Int64Index([191, 192, 193, 194, 195, 196, 197, 198, 199, 200, 201, 202, 203,\n",
       "             204, 205, 206, 207, 208, 209, 210, 211, 212, 213, 214, 215, 216,\n",
       "             217, 218, 219, 220, 221, 222, 223, 224, 225, 226, 227, 228, 229,\n",
       "             230, 231, 232, 233, 234, 235, 236, 237, 238, 239, 240, 241, 242,\n",
       "             243, 244, 245, 246, 247, 248, 249, 250, 251, 252, 253, 254, 255,\n",
       "             256, 257, 258],\n",
       "            dtype='int64'),\n",
       " (2014,\n",
       "  'Computer, Engineering, and Science'): Int64Index([580, 581, 582, 583, 584, 585, 586, 587, 588, 589, 590, 591, 592,\n",
       "             593, 594, 595, 596, 597, 598, 599, 600, 601, 602, 603, 604, 605,\n",
       "             606, 607, 608, 609, 610, 611, 612, 613, 614, 615, 616, 617, 618,\n",
       "             619, 620, 621, 622, 623, 624, 625, 626, 627, 628, 629, 630, 631,\n",
       "             632, 633, 634, 635, 636, 637, 638],\n",
       "            dtype='int64'),\n",
       " (2014,\n",
       "  'Education, Legal, Community Service, Arts, and Media'): Int64Index([639, 640, 641, 642, 643, 644, 645, 646, 647, 648, 649, 650, 651,\n",
       "             652, 653, 654, 655, 656, 657, 658, 659, 660, 661, 662, 663, 664,\n",
       "             665, 666, 667, 668, 669, 670, 671, 672, 673, 674, 675, 676, 677,\n",
       "             678, 679, 680],\n",
       "            dtype='int64'),\n",
       " (2014,\n",
       "  'Healthcare Practitioners and Technical'): Int64Index([681, 682, 683, 684, 685, 686, 687, 688, 689, 690, 691, 692, 693,\n",
       "             694, 695, 696, 697, 698, 699, 700, 701, 702, 703, 704, 705, 706,\n",
       "             707, 708, 709, 710, 711, 712],\n",
       "            dtype='int64'),\n",
       " (2014,\n",
       "  'Management, Business, and Financial'): Int64Index([522, 523, 524, 525, 526, 527, 528, 529, 530, 531, 532, 533, 534,\n",
       "             535, 536, 537, 538, 539, 540, 541, 542, 543, 544, 545, 546, 547,\n",
       "             548, 549, 550, 551, 552, 553, 554, 555, 556, 557, 558, 559, 560,\n",
       "             561, 562, 563, 564, 565, 566, 567, 568, 569, 570, 571, 572, 573,\n",
       "             574, 575, 576, 577, 578, 579],\n",
       "            dtype='int64'),\n",
       " (2014,\n",
       "  'Natural Resources, Construction, and Maintenance'): Int64Index([851, 852, 853, 854, 855, 856, 857, 858, 859, 860, 861, 862, 863,\n",
       "             864, 865, 866, 867, 868, 869, 870, 871, 872, 873, 874, 875, 876,\n",
       "             877, 878, 879, 880, 881, 882, 883, 884, 885, 886, 887, 888, 889,\n",
       "             890, 891, 892, 893, 894, 895, 896, 897, 898, 899, 900, 901, 902,\n",
       "             903, 904, 905, 906, 907, 908, 909, 910, 911, 912, 913, 914, 915,\n",
       "             916, 917, 918, 919, 920, 921, 922, 923, 924, 925, 926, 927, 928,\n",
       "             929, 930, 931, 932],\n",
       "            dtype='int64'),\n",
       " (2014,\n",
       "  'Production, Transportation, and Material Moving'): Int64Index([ 933,  934,  935,  936,  937,  938,  939,  940,  941,  942,\n",
       "             ...\n",
       "             1034, 1035, 1036, 1037, 1038, 1039, 1040, 1041, 1042, 1043],\n",
       "            dtype='int64', length=111),\n",
       " (2014,\n",
       "  'Sales and Office'): Int64Index([781, 782, 783, 784, 785, 786, 787, 788, 789, 790, 791, 792, 793,\n",
       "             794, 795, 796, 797, 798, 799, 800, 801, 802, 803, 804, 805, 806,\n",
       "             807, 808, 809, 810, 811, 812, 813, 814, 815, 816, 817, 818, 819,\n",
       "             820, 821, 822, 823, 824, 825, 826, 827, 828, 829, 830, 831, 832,\n",
       "             833, 834, 835, 836, 837, 838, 839, 840, 841, 842, 843, 844, 845,\n",
       "             846, 847, 848, 849, 850],\n",
       "            dtype='int64'),\n",
       " (2014,\n",
       "  'Service'): Int64Index([713, 714, 715, 716, 717, 718, 719, 720, 721, 722, 723, 724, 725,\n",
       "             726, 727, 728, 729, 730, 731, 732, 733, 734, 735, 736, 737, 738,\n",
       "             739, 740, 741, 742, 743, 744, 745, 746, 747, 748, 749, 750, 751,\n",
       "             752, 753, 754, 755, 756, 757, 758, 759, 760, 761, 762, 763, 764,\n",
       "             765, 766, 767, 768, 769, 770, 771, 772, 773, 774, 775, 776, 777,\n",
       "             778, 779, 780],\n",
       "            dtype='int64'),\n",
       " (2015,\n",
       "  'Computer, Engineering, and Science'): Int64Index([1102, 1103, 1104, 1105, 1106, 1107, 1108, 1109, 1110, 1111, 1112,\n",
       "             1113, 1114, 1115, 1116, 1117, 1118, 1119, 1120, 1121, 1122, 1123,\n",
       "             1124, 1125, 1126, 1127, 1128, 1129, 1130, 1131, 1132, 1133, 1134,\n",
       "             1135, 1136, 1137, 1138, 1139, 1140, 1141, 1142, 1143, 1144, 1145,\n",
       "             1146, 1147, 1148, 1149, 1150, 1151, 1152, 1153, 1154, 1155, 1156,\n",
       "             1157, 1158, 1159, 1160],\n",
       "            dtype='int64'),\n",
       " (2015,\n",
       "  'Education, Legal, Community Service, Arts, and Media'): Int64Index([1161, 1162, 1163, 1164, 1165, 1166, 1167, 1168, 1169, 1170, 1171,\n",
       "             1172, 1173, 1174, 1175, 1176, 1177, 1178, 1179, 1180, 1181, 1182,\n",
       "             1183, 1184, 1185, 1186, 1187, 1188, 1189, 1190, 1191, 1192, 1193,\n",
       "             1194, 1195, 1196, 1197, 1198, 1199, 1200, 1201, 1202],\n",
       "            dtype='int64'),\n",
       " (2015,\n",
       "  'Healthcare Practitioners and Technical'): Int64Index([1203, 1204, 1205, 1206, 1207, 1208, 1209, 1210, 1211, 1212, 1213,\n",
       "             1214, 1215, 1216, 1217, 1218, 1219, 1220, 1221, 1222, 1223, 1224,\n",
       "             1225, 1226, 1227, 1228, 1229, 1230, 1231, 1232, 1233, 1234],\n",
       "            dtype='int64'),\n",
       " (2015,\n",
       "  'Management, Business, and Financial'): Int64Index([1044, 1045, 1046, 1047, 1048, 1049, 1050, 1051, 1052, 1053, 1054,\n",
       "             1055, 1056, 1057, 1058, 1059, 1060, 1061, 1062, 1063, 1064, 1065,\n",
       "             1066, 1067, 1068, 1069, 1070, 1071, 1072, 1073, 1074, 1075, 1076,\n",
       "             1077, 1078, 1079, 1080, 1081, 1082, 1083, 1084, 1085, 1086, 1087,\n",
       "             1088, 1089, 1090, 1091, 1092, 1093, 1094, 1095, 1096, 1097, 1098,\n",
       "             1099, 1100, 1101],\n",
       "            dtype='int64'),\n",
       " (2015,\n",
       "  'Natural Resources, Construction, and Maintenance'): Int64Index([1373, 1374, 1375, 1376, 1377, 1378, 1379, 1380, 1381, 1382, 1383,\n",
       "             1384, 1385, 1386, 1387, 1388, 1389, 1390, 1391, 1392, 1393, 1394,\n",
       "             1395, 1396, 1397, 1398, 1399, 1400, 1401, 1402, 1403, 1404, 1405,\n",
       "             1406, 1407, 1408, 1409, 1410, 1411, 1412, 1413, 1414, 1415, 1416,\n",
       "             1417, 1418, 1419, 1420, 1421, 1422, 1423, 1424, 1425, 1426, 1427,\n",
       "             1428, 1429, 1430, 1431, 1432, 1433, 1434, 1435, 1436, 1437, 1438,\n",
       "             1439, 1440, 1441, 1442, 1443, 1444, 1445, 1446, 1447, 1448, 1449,\n",
       "             1450, 1451, 1452, 1453, 1454],\n",
       "            dtype='int64'),\n",
       " (2015,\n",
       "  'Production, Transportation, and Material Moving'): Int64Index([1455, 1456, 1457, 1458, 1459, 1460, 1461, 1462, 1463, 1464,\n",
       "             ...\n",
       "             1556, 1557, 1558, 1559, 1560, 1561, 1562, 1563, 1564, 1565],\n",
       "            dtype='int64', length=111),\n",
       " (2015,\n",
       "  'Sales and Office'): Int64Index([1303, 1304, 1305, 1306, 1307, 1308, 1309, 1310, 1311, 1312, 1313,\n",
       "             1314, 1315, 1316, 1317, 1318, 1319, 1320, 1321, 1322, 1323, 1324,\n",
       "             1325, 1326, 1327, 1328, 1329, 1330, 1331, 1332, 1333, 1334, 1335,\n",
       "             1336, 1337, 1338, 1339, 1340, 1341, 1342, 1343, 1344, 1345, 1346,\n",
       "             1347, 1348, 1349, 1350, 1351, 1352, 1353, 1354, 1355, 1356, 1357,\n",
       "             1358, 1359, 1360, 1361, 1362, 1363, 1364, 1365, 1366, 1367, 1368,\n",
       "             1369, 1370, 1371, 1372],\n",
       "            dtype='int64'),\n",
       " (2015,\n",
       "  'Service'): Int64Index([1235, 1236, 1237, 1238, 1239, 1240, 1241, 1242, 1243, 1244, 1245,\n",
       "             1246, 1247, 1248, 1249, 1250, 1251, 1252, 1253, 1254, 1255, 1256,\n",
       "             1257, 1258, 1259, 1260, 1261, 1262, 1263, 1264, 1265, 1266, 1267,\n",
       "             1268, 1269, 1270, 1271, 1272, 1273, 1274, 1275, 1276, 1277, 1278,\n",
       "             1279, 1280, 1281, 1282, 1283, 1284, 1285, 1286, 1287, 1288, 1289,\n",
       "             1290, 1291, 1292, 1293, 1294, 1295, 1296, 1297, 1298, 1299, 1300,\n",
       "             1301, 1302],\n",
       "            dtype='int64'),\n",
       " (2016,\n",
       "  'Computer, Engineering, and Science'): Int64Index([1624, 1625, 1626, 1627, 1628, 1629, 1630, 1631, 1632, 1633, 1634,\n",
       "             1635, 1636, 1637, 1638, 1639, 1640, 1641, 1642, 1643, 1644, 1645,\n",
       "             1646, 1647, 1648, 1649, 1650, 1651, 1652, 1653, 1654, 1655, 1656,\n",
       "             1657, 1658, 1659, 1660, 1661, 1662, 1663, 1664, 1665, 1666, 1667,\n",
       "             1668, 1669, 1670, 1671, 1672, 1673, 1674, 1675, 1676, 1677, 1678,\n",
       "             1679, 1680, 1681, 1682],\n",
       "            dtype='int64'),\n",
       " (2016,\n",
       "  'Education, Legal, Community Service, Arts, and Media'): Int64Index([1683, 1684, 1685, 1686, 1687, 1688, 1689, 1690, 1691, 1692, 1693,\n",
       "             1694, 1695, 1696, 1697, 1698, 1699, 1700, 1701, 1702, 1703, 1704,\n",
       "             1705, 1706, 1707, 1708, 1709, 1710, 1711, 1712, 1713, 1714, 1715,\n",
       "             1716, 1717, 1718, 1719, 1720, 1721, 1722, 1723, 1724],\n",
       "            dtype='int64'),\n",
       " (2016,\n",
       "  'Healthcare Practitioners and Technical'): Int64Index([1725, 1726, 1727, 1728, 1729, 1730, 1731, 1732, 1733, 1734, 1735,\n",
       "             1736, 1737, 1738, 1739, 1740, 1741, 1742, 1743, 1744, 1745, 1746,\n",
       "             1747, 1748, 1749, 1750, 1751, 1752, 1753, 1754, 1755, 1756],\n",
       "            dtype='int64'),\n",
       " (2016,\n",
       "  'Management, Business, and Financial'): Int64Index([1566, 1567, 1568, 1569, 1570, 1571, 1572, 1573, 1574, 1575, 1576,\n",
       "             1577, 1578, 1579, 1580, 1581, 1582, 1583, 1584, 1585, 1586, 1587,\n",
       "             1588, 1589, 1590, 1591, 1592, 1593, 1594, 1595, 1596, 1597, 1598,\n",
       "             1599, 1600, 1601, 1602, 1603, 1604, 1605, 1606, 1607, 1608, 1609,\n",
       "             1610, 1611, 1612, 1613, 1614, 1615, 1616, 1617, 1618, 1619, 1620,\n",
       "             1621, 1622, 1623],\n",
       "            dtype='int64'),\n",
       " (2016,\n",
       "  'Natural Resources, Construction, and Maintenance'): Int64Index([1895, 1896, 1897, 1898, 1899, 1900, 1901, 1902, 1903, 1904, 1905,\n",
       "             1906, 1907, 1908, 1909, 1910, 1911, 1912, 1913, 1914, 1915, 1916,\n",
       "             1917, 1918, 1919, 1920, 1921, 1922, 1923, 1924, 1925, 1926, 1927,\n",
       "             1928, 1929, 1930, 1931, 1932, 1933, 1934, 1935, 1936, 1937, 1938,\n",
       "             1939, 1940, 1941, 1942, 1943, 1944, 1945, 1946, 1947, 1948, 1949,\n",
       "             1950, 1951, 1952, 1953, 1954, 1955, 1956, 1957, 1958, 1959, 1960,\n",
       "             1961, 1962, 1963, 1964, 1965, 1966, 1967, 1968, 1969, 1970, 1971,\n",
       "             1972, 1973, 1974, 1975, 1976],\n",
       "            dtype='int64'),\n",
       " (2016,\n",
       "  'Production, Transportation, and Material Moving'): Int64Index([1977, 1978, 1979, 1980, 1981, 1982, 1983, 1984, 1985, 1986,\n",
       "             ...\n",
       "             2078, 2079, 2080, 2081, 2082, 2083, 2084, 2085, 2086, 2087],\n",
       "            dtype='int64', length=111),\n",
       " (2016,\n",
       "  'Sales and Office'): Int64Index([1825, 1826, 1827, 1828, 1829, 1830, 1831, 1832, 1833, 1834, 1835,\n",
       "             1836, 1837, 1838, 1839, 1840, 1841, 1842, 1843, 1844, 1845, 1846,\n",
       "             1847, 1848, 1849, 1850, 1851, 1852, 1853, 1854, 1855, 1856, 1857,\n",
       "             1858, 1859, 1860, 1861, 1862, 1863, 1864, 1865, 1866, 1867, 1868,\n",
       "             1869, 1870, 1871, 1872, 1873, 1874, 1875, 1876, 1877, 1878, 1879,\n",
       "             1880, 1881, 1882, 1883, 1884, 1885, 1886, 1887, 1888, 1889, 1890,\n",
       "             1891, 1892, 1893, 1894],\n",
       "            dtype='int64'),\n",
       " (2016,\n",
       "  'Service'): Int64Index([1757, 1758, 1759, 1760, 1761, 1762, 1763, 1764, 1765, 1766, 1767,\n",
       "             1768, 1769, 1770, 1771, 1772, 1773, 1774, 1775, 1776, 1777, 1778,\n",
       "             1779, 1780, 1781, 1782, 1783, 1784, 1785, 1786, 1787, 1788, 1789,\n",
       "             1790, 1791, 1792, 1793, 1794, 1795, 1796, 1797, 1798, 1799, 1800,\n",
       "             1801, 1802, 1803, 1804, 1805, 1806, 1807, 1808, 1809, 1810, 1811,\n",
       "             1812, 1813, 1814, 1815, 1816, 1817, 1818, 1819, 1820, 1821, 1822,\n",
       "             1823, 1824],\n",
       "            dtype='int64')}"
      ]
     },
     "execution_count": 74,
     "metadata": {},
     "output_type": "execute_result"
    }
   ],
   "source": [
    "jobs_gender.groupby(['year', 'major_category']).groups"
   ]
  },
  {
   "cell_type": "code",
   "execution_count": 49,
   "metadata": {},
   "outputs": [
    {
     "ename": "AttributeError",
     "evalue": "'DataFrame' object has no attribute 'value_counts'",
     "output_type": "error",
     "traceback": [
      "\u001b[1;31m---------------------------------------------------------------------------\u001b[0m",
      "\u001b[1;31mAttributeError\u001b[0m                            Traceback (most recent call last)",
      "\u001b[1;32m<ipython-input-49-b5bee31d2ad1>\u001b[0m in \u001b[0;36m<module>\u001b[1;34m\u001b[0m\n\u001b[1;32m----> 1\u001b[1;33m \u001b[0mjobs_gender\u001b[0m\u001b[1;33m.\u001b[0m\u001b[0mvalue_counts\u001b[0m\u001b[1;33m(\u001b[0m\u001b[1;33m)\u001b[0m\u001b[1;33m\u001b[0m\u001b[1;33m\u001b[0m\u001b[0m\n\u001b[0m",
      "\u001b[1;32m~\\Anaconda3\\lib\\site-packages\\pandas\\core\\generic.py\u001b[0m in \u001b[0;36m__getattr__\u001b[1;34m(self, name)\u001b[0m\n\u001b[0;32m   5177\u001b[0m             \u001b[1;32mif\u001b[0m \u001b[0mself\u001b[0m\u001b[1;33m.\u001b[0m\u001b[0m_info_axis\u001b[0m\u001b[1;33m.\u001b[0m\u001b[0m_can_hold_identifiers_and_holds_name\u001b[0m\u001b[1;33m(\u001b[0m\u001b[0mname\u001b[0m\u001b[1;33m)\u001b[0m\u001b[1;33m:\u001b[0m\u001b[1;33m\u001b[0m\u001b[1;33m\u001b[0m\u001b[0m\n\u001b[0;32m   5178\u001b[0m                 \u001b[1;32mreturn\u001b[0m \u001b[0mself\u001b[0m\u001b[1;33m[\u001b[0m\u001b[0mname\u001b[0m\u001b[1;33m]\u001b[0m\u001b[1;33m\u001b[0m\u001b[1;33m\u001b[0m\u001b[0m\n\u001b[1;32m-> 5179\u001b[1;33m             \u001b[1;32mreturn\u001b[0m \u001b[0mobject\u001b[0m\u001b[1;33m.\u001b[0m\u001b[0m__getattribute__\u001b[0m\u001b[1;33m(\u001b[0m\u001b[0mself\u001b[0m\u001b[1;33m,\u001b[0m \u001b[0mname\u001b[0m\u001b[1;33m)\u001b[0m\u001b[1;33m\u001b[0m\u001b[1;33m\u001b[0m\u001b[0m\n\u001b[0m\u001b[0;32m   5180\u001b[0m \u001b[1;33m\u001b[0m\u001b[0m\n\u001b[0;32m   5181\u001b[0m     \u001b[1;32mdef\u001b[0m \u001b[0m__setattr__\u001b[0m\u001b[1;33m(\u001b[0m\u001b[0mself\u001b[0m\u001b[1;33m,\u001b[0m \u001b[0mname\u001b[0m\u001b[1;33m,\u001b[0m \u001b[0mvalue\u001b[0m\u001b[1;33m)\u001b[0m\u001b[1;33m:\u001b[0m\u001b[1;33m\u001b[0m\u001b[1;33m\u001b[0m\u001b[0m\n",
      "\u001b[1;31mAttributeError\u001b[0m: 'DataFrame' object has no attribute 'value_counts'"
     ]
    }
   ],
   "source": [
    "jobs_gender.value_counts()"
   ]
  },
  {
   "cell_type": "code",
   "execution_count": 50,
   "metadata": {},
   "outputs": [
    {
     "name": "stdout",
     "output_type": "stream",
     "text": [
      "---- year ---\n",
      "2015    522\n",
      "2013    522\n",
      "2016    522\n",
      "2014    522\n",
      "Name: year, dtype: int64\n",
      "---- occupation ---\n",
      "Nurse practitioners                                             4\n",
      "Automotive body and related repairers                           4\n",
      "Police and sheriff's patrol officers                            4\n",
      "Physical therapist assistants and aides                         4\n",
      "Coin, vending, and amusement machine servicers and repairers    4\n",
      "                                                               ..\n",
      "Computer , all other                                            4\n",
      "Photographers                                                   4\n",
      "Miscellaneous therapists, including exercise physiologists      4\n",
      "Agricultural engineers                                          4\n",
      "Small engine mechanics                                          4\n",
      "Name: occupation, Length: 522, dtype: int64\n",
      "---- major_category ---\n",
      "Production, Transportation, and Material Moving         444\n",
      "Natural Resources, Construction, and Maintenance        328\n",
      "Sales and Office                                        280\n",
      "Service                                                 272\n",
      "Computer, Engineering, and Science                      236\n",
      "Management, Business, and Financial                     232\n",
      "Education, Legal, Community Service, Arts, and Media    168\n",
      "Healthcare Practitioners and Technical                  128\n",
      "Name: major_category, dtype: int64\n",
      "---- minor_category ---\n",
      "Production                                       308\n",
      "Office and Administrative Support                208\n",
      "Construction and Extraction                      152\n",
      "Installation, Maintenance, and Repair            144\n",
      "Healthcare Practitioners and Technical           128\n",
      "                                                ... \n",
      "Healthcare Support                                44\n",
      "Farming, Fishing, and Forestry                    32\n",
      "Community and Social Service                      32\n",
      "Building and Grounds Cleaning and Maintenance     24\n",
      "Legal                                             20\n",
      "Name: minor_category, Length: 23, dtype: int64\n",
      "---- total_workers ---\n",
      "9144      2\n",
      "647922    2\n",
      "4002      2\n",
      "21747     2\n",
      "8844      2\n",
      "         ..\n",
      "67798     1\n",
      "4741      1\n",
      "281769    1\n",
      "24570     1\n",
      "95713     1\n",
      "Name: total_workers, Length: 2071, dtype: int64\n",
      "---- workers_male ---\n",
      "0         3\n",
      "12214     3\n",
      "3590      2\n",
      "3265      2\n",
      "3153      2\n",
      "         ..\n",
      "30617     1\n",
      "4823      1\n",
      "80600     1\n",
      "111321    1\n",
      "102417    1\n",
      "Name: workers_male, Length: 2065, dtype: int64\n",
      "---- workers_female ---\n",
      "0         18\n",
      "291        3\n",
      "314        2\n",
      "5572       2\n",
      "339        2\n",
      "          ..\n",
      "14904      1\n",
      "260986     1\n",
      "25424      1\n",
      "41533      1\n",
      "42980      1\n",
      "Name: workers_female, Length: 2005, dtype: int64\n",
      "---- percent_female ---\n",
      "0.000000     19\n",
      "1.300000     11\n",
      "2.600000     11\n",
      "0.800000     10\n",
      "4.000000      8\n",
      "             ..\n",
      "79.600000     1\n",
      "94.667229     1\n",
      "48.200000     1\n",
      "56.200000     1\n",
      "85.600000     1\n",
      "Name: percent_female, Length: 1239, dtype: int64\n",
      "---- total_earnings ---\n",
      "52058     2\n",
      "26489     2\n",
      "84140     2\n",
      "31967     2\n",
      "38750     2\n",
      "         ..\n",
      "35476     1\n",
      "29333     1\n",
      "101014    1\n",
      "60056     1\n",
      "61440     1\n",
      "Name: total_earnings, Length: 2050, dtype: int64\n",
      "---- total_earnings_male ---\n",
      "50962.0    2\n",
      "42004.0    2\n",
      "56873.0    2\n",
      "40454.0    2\n",
      "41363.0    2\n",
      "          ..\n",
      "51812.0    1\n",
      "36695.0    1\n",
      "54698.0    1\n",
      "55234.0    1\n",
      "41984.0    1\n",
      "Name: total_earnings_male, Length: 2044, dtype: int64\n",
      "---- total_earnings_female ---\n",
      "26883.0    3\n",
      "20670.0    3\n",
      "21543.0    2\n",
      "45564.0    2\n",
      "42316.0    2\n",
      "          ..\n",
      "65474.0    1\n",
      "36013.0    1\n",
      "55211.0    1\n",
      "30540.0    1\n",
      "47360.0    1\n",
      "Name: total_earnings_female, Length: 1981, dtype: int64\n",
      "---- wage_percent_of_male ---\n",
      "89.000000    5\n",
      "85.400000    5\n",
      "91.200000    5\n",
      "91.900000    5\n",
      "77.500000    4\n",
      "            ..\n",
      "70.747327    1\n",
      "83.388933    1\n",
      "84.823699    1\n",
      "85.820880    1\n",
      "75.332064    1\n",
      "Name: wage_percent_of_male, Length: 1130, dtype: int64\n"
     ]
    }
   ],
   "source": [
    "for c in jobs_gender.columns:\n",
    "    print(\"---- %s ---\" % c)\n",
    "    print(jobs_gender[c].value_counts())"
   ]
  },
  {
   "cell_type": "markdown",
   "metadata": {},
   "source": [
    "Zusammenfassend lässt sich sagen, dass sich beide Ökosysteme, Python und R, in vielen Bereichen gegenseitig positiv beeinflussen. Eine strikte Trennung beider Sprachen lässt sich heute nicht mehr aufrecht erhalten, dafür sprechen schon die zahlreichen Programme, die in beiden Sprachen zuhause sind, man nehme nur das beide sprachen unterstützende Jupyter Notebook (sie lesen gerade eins!) und das Python-Modul rpy2, das sogar erlaubt Python und R Code in einem Notebook zu mischen. Denn in einem Großteil der Fälle ist es so: Die Nutzung des tidyverse oder Pandas ist weniger eine Frage des Funktionsumfangs, als der der der äußeren Bedingungen und persönlichen Vorlieben. https://pandas.pydata.org/docs/getting_started/comparison/comparison_with_r.html"
   ]
  },
  {
   "cell_type": "markdown",
   "metadata": {},
   "source": [
    " und der ``%>%``-Operator. Über ``%>%``\n",
    "    \n",
    "    Gleich im ersten Codebeispiel sieht eine der wichtigsten Grundlagen von R, dem Zuweisungsoperator ``<-``. Mit dem Zuweisungsoperator <- kann man Objekten einen Wert zuweisen. \n",
    "    \n",
    "    Befehle “durchpfeifen” - ` %>% ` (dplyr)\n",
    "Befehle “verknüpfen”, d.h. hintereinander ausführen kann man mit ` %>% . Es lassen sich nicht alle Befehle verknüpfen, sondern nur Befehle, die eine Tabelle als Input und als Output vorsehen. Weil der Operator %>% ` auch “pipe” (Pfeife) genannt wird, nenne ich die Anwendung des Operators auch “durchpfeifen”. Man kann ` %>% ` auf Deutsch übersetzen mit “und dann”."
   ]
  },
  {
   "cell_type": "code",
   "execution_count": null,
   "metadata": {},
   "outputs": [],
   "source": []
  }
 ],
 "metadata": {
  "kernelspec": {
   "display_name": "Python 3",
   "language": "python",
   "name": "python3"
  },
  "language_info": {
   "codemirror_mode": {
    "name": "ipython",
    "version": 3
   },
   "file_extension": ".py",
   "mimetype": "text/x-python",
   "name": "python",
   "nbconvert_exporter": "python",
   "pygments_lexer": "ipython3",
   "version": "3.7.4"
  },
  "toc": {
   "base_numbering": 1,
   "nav_menu": {},
   "number_sections": true,
   "sideBar": true,
   "skip_h1_title": false,
   "title_cell": "Table of Contents",
   "title_sidebar": "Contents",
   "toc_cell": false,
   "toc_position": {},
   "toc_section_display": true,
   "toc_window_display": false
  }
 },
 "nbformat": 4,
 "nbformat_minor": 4
}
